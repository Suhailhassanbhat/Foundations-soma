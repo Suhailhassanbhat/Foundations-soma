{
 "cells": [
  {
   "cell_type": "markdown",
   "metadata": {},
   "source": [
    "# Texas Licenses\n",
    "\n",
    "We originall got our dataset from the [License Files page](https://www.license.state.tx.us/licensesearch/licfile.asp) from the Texas Department of Licensing and Regulation, but they've changed around since then! I'm pretty sure it's [this dataset](https://www.opendatanetwork.com/dataset/data.texas.gov/7358-krk7), but we'll just use a local version instead of the most current."
   ]
  },
  {
   "cell_type": "markdown",
   "metadata": {},
   "source": [
    "# PART ONE: OPENING UP OUR DATASET"
   ]
  },
  {
   "cell_type": "markdown",
   "metadata": {},
   "source": [
    "## 0. Do your setup\n",
    "\n",
    "Import what you need to import, etc."
   ]
  },
  {
   "cell_type": "code",
   "execution_count": 1,
   "metadata": {},
   "outputs": [],
   "source": [
    "import pandas as pd\n",
    "import numpy as np\n",
    "%matplotlib inline"
   ]
  },
  {
   "cell_type": "markdown",
   "metadata": {},
   "source": [
    "## 1. Open the file\n",
    "\n",
    "We'll start with `licfile.csv`, which is a list of licenses."
   ]
  },
  {
   "cell_type": "code",
   "execution_count": 2,
   "metadata": {},
   "outputs": [
    {
     "name": "stderr",
     "output_type": "stream",
     "text": [
      "/Library/Frameworks/Python.framework/Versions/3.7/lib/python3.7/site-packages/IPython/core/interactiveshell.py:3049: DtypeWarning: Columns (1,15,16) have mixed types. Specify dtype option on import or set low_memory=False.\n",
      "  interactivity=interactivity, compiler=compiler, result=result)\n"
     ]
    },
    {
     "data": {
      "text/html": [
       "<div>\n",
       "<style scoped>\n",
       "    .dataframe tbody tr th:only-of-type {\n",
       "        vertical-align: middle;\n",
       "    }\n",
       "\n",
       "    .dataframe tbody tr th {\n",
       "        vertical-align: top;\n",
       "    }\n",
       "\n",
       "    .dataframe thead th {\n",
       "        text-align: right;\n",
       "    }\n",
       "</style>\n",
       "<table border=\"1\" class=\"dataframe\">\n",
       "  <thead>\n",
       "    <tr style=\"text-align: right;\">\n",
       "      <th></th>\n",
       "      <th>0</th>\n",
       "      <th>1</th>\n",
       "      <th>2</th>\n",
       "      <th>3</th>\n",
       "      <th>4</th>\n",
       "      <th>5</th>\n",
       "      <th>6</th>\n",
       "      <th>7</th>\n",
       "      <th>8</th>\n",
       "      <th>9</th>\n",
       "      <th>10</th>\n",
       "      <th>11</th>\n",
       "      <th>12</th>\n",
       "      <th>13</th>\n",
       "      <th>14</th>\n",
       "      <th>15</th>\n",
       "      <th>16</th>\n",
       "      <th>17</th>\n",
       "      <th>18</th>\n",
       "    </tr>\n",
       "  </thead>\n",
       "  <tbody>\n",
       "    <tr>\n",
       "      <th>0</th>\n",
       "      <td>Associate Auctioneer</td>\n",
       "      <td>7326</td>\n",
       "      <td>ANGELINA</td>\n",
       "      <td>RISINGER, JIM MARVIN</td>\n",
       "      <td>NaN</td>\n",
       "      <td>NaN</td>\n",
       "      <td>NaN</td>\n",
       "      <td>NaN</td>\n",
       "      <td>8102017</td>\n",
       "      <td>RISINGER, JIM MARVIN</td>\n",
       "      <td>7668 S US HWY 59</td>\n",
       "      <td>NaN</td>\n",
       "      <td>NACOGDOCHES TX 75964</td>\n",
       "      <td>347.0</td>\n",
       "      <td>NACOGDOCHES</td>\n",
       "      <td>75964</td>\n",
       "      <td>9363665745</td>\n",
       "      <td>NaN</td>\n",
       "      <td>N</td>\n",
       "    </tr>\n",
       "    <tr>\n",
       "      <th>1</th>\n",
       "      <td>Associate Auctioneer</td>\n",
       "      <td>7962</td>\n",
       "      <td>UPSHUR</td>\n",
       "      <td>WILLIAMS, JON ANDRE</td>\n",
       "      <td>NaN</td>\n",
       "      <td>NaN</td>\n",
       "      <td>NaN</td>\n",
       "      <td>NaN</td>\n",
       "      <td>12292017</td>\n",
       "      <td>WILLIAMS, JON ANDRE</td>\n",
       "      <td>228 FM 1252</td>\n",
       "      <td>NaN</td>\n",
       "      <td>KILGORE TX 75662</td>\n",
       "      <td>183.0</td>\n",
       "      <td>GREGG</td>\n",
       "      <td>75662</td>\n",
       "      <td>9039187899</td>\n",
       "      <td>NaN</td>\n",
       "      <td>N</td>\n",
       "    </tr>\n",
       "  </tbody>\n",
       "</table>\n",
       "</div>"
      ],
      "text/plain": [
       "                     0     1         2                     3   4   5   6   7   \\\n",
       "0  Associate Auctioneer  7326  ANGELINA  RISINGER, JIM MARVIN NaN NaN NaN NaN   \n",
       "1  Associate Auctioneer  7962    UPSHUR   WILLIAMS, JON ANDRE NaN NaN NaN NaN   \n",
       "\n",
       "         8                     9                 10   11  \\\n",
       "0   8102017  RISINGER, JIM MARVIN  7668 S US HWY 59  NaN   \n",
       "1  12292017   WILLIAMS, JON ANDRE       228 FM 1252  NaN   \n",
       "\n",
       "                     12     13           14     15          16   17 18  \n",
       "0  NACOGDOCHES TX 75964  347.0  NACOGDOCHES  75964  9363665745  NaN  N  \n",
       "1      KILGORE TX 75662  183.0        GREGG  75662  9039187899  NaN  N  "
      ]
     },
     "execution_count": 2,
     "metadata": {},
     "output_type": "execute_result"
    }
   ],
   "source": [
    "df= pd.read_csv(\"licfile.csv\", header=None, dtype={\"EXPIRATION\": str})\n",
    "df.head(2)"
   ]
  },
  {
   "cell_type": "markdown",
   "metadata": {},
   "source": [
    "## 2. That looks terrible, let's add column names.\n",
    "\n",
    "It apparently doesn't have headers! **Read the file in again, but setting your own column names**. Their [current data dictionary might not perfectly match](https://www.opendatanetwork.com/dataset/data.texas.gov/7358-krk7), but you can use it to understand what the columns are. For the dataset we're using, the order goes like this:\n",
    "\n",
    "* LICTYPE\n",
    "* LICNUMBER\n",
    "* BIZCOUNTY\n",
    "* BIZNAME\n",
    "* BIZLINE1\n",
    "* BIZLINE2\n",
    "* BIZCITYSTATE\n",
    "* BIZTELEPHONE\n",
    "* EXPIRATION\n",
    "* OWNER\n",
    "* MAILLINE1\n",
    "* MAILLINE2\n",
    "* MAILCITYSTATE\n",
    "* MAILCOUNTYCODE\n",
    "* MAILCOUNTY\n",
    "* MAILZIP\n",
    "* TELEPHONE\n",
    "* LICSUBTYPE\n",
    "* CEFLAG\n",
    "\n",
    "**Note:** You can rename the columns to things that make sense - \"expiration\" is a little more manageable than \"LICENSE EXPIRATION DATE (MMDDCCYY)\". I've named my License Type column LICTYPE, so if you haven't you'll have to change the rest of my sample code to match."
   ]
  },
  {
   "cell_type": "code",
   "execution_count": 3,
   "metadata": {},
   "outputs": [
    {
     "data": {
      "text/plain": [
       "Int64Index([0, 1, 2, 3, 4, 5, 6, 7, 8, 9, 10, 11, 12, 13, 14, 15, 16, 17, 18], dtype='int64')"
      ]
     },
     "execution_count": 3,
     "metadata": {},
     "output_type": "execute_result"
    }
   ],
   "source": [
    "df.columns"
   ]
  },
  {
   "cell_type": "code",
   "execution_count": 4,
   "metadata": {},
   "outputs": [],
   "source": [
    "df.columns= ['LICTYPE','LICNUMBER','BIZCOUNTY','BIZNAME','BIZLINE1','BIZLINE2','BIZCITYSTATE','BIZTELEPHONE','EXPIRATION','OWNER','MAILLINE1','MAILLINE2','MAILCITYSTATE','MAILCOUNTYCODE','MAILCOUNTY','MAILZIP','TELEPHONE','LICSUBTYPE','CEFLAG']\n"
   ]
  },
  {
   "cell_type": "code",
   "execution_count": 5,
   "metadata": {},
   "outputs": [
    {
     "data": {
      "text/plain": [
       "Index(['LICTYPE', 'LICNUMBER', 'BIZCOUNTY', 'BIZNAME', 'BIZLINE1', 'BIZLINE2',\n",
       "       'BIZCITYSTATE', 'BIZTELEPHONE', 'EXPIRATION', 'OWNER', 'MAILLINE1',\n",
       "       'MAILLINE2', 'MAILCITYSTATE', 'MAILCOUNTYCODE', 'MAILCOUNTY', 'MAILZIP',\n",
       "       'TELEPHONE', 'LICSUBTYPE', 'CEFLAG'],\n",
       "      dtype='object')"
      ]
     },
     "execution_count": 5,
     "metadata": {},
     "output_type": "execute_result"
    }
   ],
   "source": [
    "df.columns"
   ]
  },
  {
   "cell_type": "markdown",
   "metadata": {},
   "source": [
    "# 3. Force string columns to be strings\n",
    "\n",
    "The county code and expiration dates are being read in as numbers, which is going to cause some trouble later on. You can force a column to be a certain type (most usually strings) when reading it in with the following code:\n",
    "\n",
    "    df = pd.read_csv(\"your-filename.csv\", dtype={\"colname1\": str, \"colname2\": str})\n",
    "\n",
    "You don't need to do it for every column, just the ones you want to force!\n",
    "\n",
    "**Re-import the file, forcing the expiration date, license number, mailing address county code, mailing zip code and telephone to all be strings.**"
   ]
  },
  {
   "cell_type": "code",
   "execution_count": 6,
   "metadata": {},
   "outputs": [
    {
     "data": {
      "text/html": [
       "<div>\n",
       "<style scoped>\n",
       "    .dataframe tbody tr th:only-of-type {\n",
       "        vertical-align: middle;\n",
       "    }\n",
       "\n",
       "    .dataframe tbody tr th {\n",
       "        vertical-align: top;\n",
       "    }\n",
       "\n",
       "    .dataframe thead th {\n",
       "        text-align: right;\n",
       "    }\n",
       "</style>\n",
       "<table border=\"1\" class=\"dataframe\">\n",
       "  <thead>\n",
       "    <tr style=\"text-align: right;\">\n",
       "      <th></th>\n",
       "      <th>LICTYPE</th>\n",
       "      <th>LICNUMBER</th>\n",
       "      <th>BIZCOUNTY</th>\n",
       "      <th>BIZNAME</th>\n",
       "      <th>BIZLINE1</th>\n",
       "      <th>BIZLINE2</th>\n",
       "      <th>BIZCITYSTATE</th>\n",
       "      <th>BIZTELEPHONE</th>\n",
       "      <th>EXPIRATION</th>\n",
       "      <th>OWNER</th>\n",
       "      <th>MAILLINE1</th>\n",
       "      <th>MAILLINE2</th>\n",
       "      <th>MAILCITYSTATE</th>\n",
       "      <th>MAILCOUNTYCODE</th>\n",
       "      <th>MAILCOUNTY</th>\n",
       "      <th>MAILZIP</th>\n",
       "      <th>TELEPHONE</th>\n",
       "      <th>LICSUBTYPE</th>\n",
       "      <th>CEFLAG</th>\n",
       "    </tr>\n",
       "  </thead>\n",
       "  <tbody>\n",
       "    <tr>\n",
       "      <th>0</th>\n",
       "      <td>Associate Auctioneer</td>\n",
       "      <td>7326</td>\n",
       "      <td>ANGELINA</td>\n",
       "      <td>RISINGER, JIM MARVIN</td>\n",
       "      <td>NaN</td>\n",
       "      <td>NaN</td>\n",
       "      <td>NaN</td>\n",
       "      <td>NaN</td>\n",
       "      <td>08102017</td>\n",
       "      <td>RISINGER, JIM MARVIN</td>\n",
       "      <td>7668 S US HWY 59</td>\n",
       "      <td>NaN</td>\n",
       "      <td>NACOGDOCHES TX 75964</td>\n",
       "      <td>0347</td>\n",
       "      <td>NACOGDOCHES</td>\n",
       "      <td>75964</td>\n",
       "      <td>9363665745</td>\n",
       "      <td>NaN</td>\n",
       "      <td>N</td>\n",
       "    </tr>\n",
       "    <tr>\n",
       "      <th>1</th>\n",
       "      <td>Associate Auctioneer</td>\n",
       "      <td>7962</td>\n",
       "      <td>UPSHUR</td>\n",
       "      <td>WILLIAMS, JON ANDRE</td>\n",
       "      <td>NaN</td>\n",
       "      <td>NaN</td>\n",
       "      <td>NaN</td>\n",
       "      <td>NaN</td>\n",
       "      <td>12292017</td>\n",
       "      <td>WILLIAMS, JON ANDRE</td>\n",
       "      <td>228 FM 1252</td>\n",
       "      <td>NaN</td>\n",
       "      <td>KILGORE TX 75662</td>\n",
       "      <td>0183</td>\n",
       "      <td>GREGG</td>\n",
       "      <td>75662</td>\n",
       "      <td>9039187899</td>\n",
       "      <td>NaN</td>\n",
       "      <td>N</td>\n",
       "    </tr>\n",
       "    <tr>\n",
       "      <th>2</th>\n",
       "      <td>Associate Auctioneer</td>\n",
       "      <td>8406</td>\n",
       "      <td>WILSON</td>\n",
       "      <td>GUEVARA, JUAN ANTONIO</td>\n",
       "      <td>NaN</td>\n",
       "      <td>NaN</td>\n",
       "      <td>NaN</td>\n",
       "      <td>NaN</td>\n",
       "      <td>09262017</td>\n",
       "      <td>GUEVARA, JUAN ANTONIO</td>\n",
       "      <td>6909 HWY 181</td>\n",
       "      <td>NaN</td>\n",
       "      <td>POTH TX 78147</td>\n",
       "      <td>0493</td>\n",
       "      <td>WILSON</td>\n",
       "      <td>78147</td>\n",
       "      <td>NaN</td>\n",
       "      <td>NaN</td>\n",
       "      <td>N</td>\n",
       "    </tr>\n",
       "  </tbody>\n",
       "</table>\n",
       "</div>"
      ],
      "text/plain": [
       "                LICTYPE LICNUMBER BIZCOUNTY                BIZNAME  BIZLINE1  \\\n",
       "0  Associate Auctioneer      7326  ANGELINA   RISINGER, JIM MARVIN       NaN   \n",
       "1  Associate Auctioneer      7962    UPSHUR    WILLIAMS, JON ANDRE       NaN   \n",
       "2  Associate Auctioneer      8406    WILSON  GUEVARA, JUAN ANTONIO       NaN   \n",
       "\n",
       "   BIZLINE2  BIZCITYSTATE  BIZTELEPHONE EXPIRATION                  OWNER  \\\n",
       "0       NaN           NaN           NaN   08102017   RISINGER, JIM MARVIN   \n",
       "1       NaN           NaN           NaN   12292017    WILLIAMS, JON ANDRE   \n",
       "2       NaN           NaN           NaN   09262017  GUEVARA, JUAN ANTONIO   \n",
       "\n",
       "          MAILLINE1 MAILLINE2         MAILCITYSTATE MAILCOUNTYCODE  \\\n",
       "0  7668 S US HWY 59       NaN  NACOGDOCHES TX 75964           0347   \n",
       "1       228 FM 1252       NaN      KILGORE TX 75662           0183   \n",
       "2      6909 HWY 181       NaN         POTH TX 78147           0493   \n",
       "\n",
       "    MAILCOUNTY MAILZIP   TELEPHONE LICSUBTYPE CEFLAG  \n",
       "0  NACOGDOCHES   75964  9363665745        NaN      N  \n",
       "1        GREGG   75662  9039187899        NaN      N  \n",
       "2       WILSON   78147         NaN        NaN      N  "
      ]
     },
     "execution_count": 6,
     "metadata": {},
     "output_type": "execute_result"
    }
   ],
   "source": [
    "columns= ['LICTYPE','LICNUMBER','BIZCOUNTY','BIZNAME','BIZLINE1','BIZLINE2','BIZCITYSTATE','BIZTELEPHONE','EXPIRATION','OWNER','MAILLINE1','MAILLINE2','MAILCITYSTATE','MAILCOUNTYCODE','MAILCOUNTY','MAILZIP','TELEPHONE','LICSUBTYPE','CEFLAG']\n",
    "df = pd.read_csv(\"licfile.csv\", names =columns, dtype ={'EXPIRATION': str, 'LICNUMBER': str, 'MAILCOUNTYCODE': str, 'MAILZIP':str, 'TELEPHONE': str})\n",
    "df.head(3)"
   ]
  },
  {
   "cell_type": "markdown",
   "metadata": {},
   "source": [
    "Check the data types of your columns to be sure! If you do it right they'll be `object` (not `str`, oddly)."
   ]
  },
  {
   "cell_type": "code",
   "execution_count": 7,
   "metadata": {},
   "outputs": [
    {
     "data": {
      "text/plain": [
       "LICTYPE            object\n",
       "LICNUMBER          object\n",
       "BIZCOUNTY          object\n",
       "BIZNAME            object\n",
       "BIZLINE1          float64\n",
       "BIZLINE2          float64\n",
       "BIZCITYSTATE      float64\n",
       "BIZTELEPHONE      float64\n",
       "EXPIRATION         object\n",
       "OWNER              object\n",
       "MAILLINE1          object\n",
       "MAILLINE2          object\n",
       "MAILCITYSTATE      object\n",
       "MAILCOUNTYCODE     object\n",
       "MAILCOUNTY         object\n",
       "MAILZIP            object\n",
       "TELEPHONE          object\n",
       "LICSUBTYPE         object\n",
       "CEFLAG             object\n",
       "dtype: object"
      ]
     },
     "execution_count": 7,
     "metadata": {},
     "output_type": "execute_result"
    }
   ],
   "source": [
    "df.dtypes"
   ]
  },
  {
   "cell_type": "markdown",
   "metadata": {},
   "source": [
    "## 4. Convert those expiration dates from MMDDYYYY to YYYY-MM-DD\n",
    "\n",
    "List slicing forever! It's the thing with the `[]`. There are like five ways to do this one."
   ]
  },
  {
   "cell_type": "code",
   "execution_count": 8,
   "metadata": {},
   "outputs": [],
   "source": [
    "df['EXPIRATION'] = pd.to_datetime(df['EXPIRATION'], format ='%m%d%Y').dt.strftime('%Y-%m-%d')"
   ]
  },
  {
   "cell_type": "markdown",
   "metadata": {},
   "source": [
    "Check the first five expirations to make sure they look right."
   ]
  },
  {
   "cell_type": "code",
   "execution_count": 9,
   "metadata": {},
   "outputs": [
    {
     "data": {
      "text/html": [
       "<div>\n",
       "<style scoped>\n",
       "    .dataframe tbody tr th:only-of-type {\n",
       "        vertical-align: middle;\n",
       "    }\n",
       "\n",
       "    .dataframe tbody tr th {\n",
       "        vertical-align: top;\n",
       "    }\n",
       "\n",
       "    .dataframe thead th {\n",
       "        text-align: right;\n",
       "    }\n",
       "</style>\n",
       "<table border=\"1\" class=\"dataframe\">\n",
       "  <thead>\n",
       "    <tr style=\"text-align: right;\">\n",
       "      <th></th>\n",
       "      <th>LICTYPE</th>\n",
       "      <th>LICNUMBER</th>\n",
       "      <th>BIZCOUNTY</th>\n",
       "      <th>BIZNAME</th>\n",
       "      <th>BIZLINE1</th>\n",
       "      <th>BIZLINE2</th>\n",
       "      <th>BIZCITYSTATE</th>\n",
       "      <th>BIZTELEPHONE</th>\n",
       "      <th>EXPIRATION</th>\n",
       "      <th>OWNER</th>\n",
       "      <th>MAILLINE1</th>\n",
       "      <th>MAILLINE2</th>\n",
       "      <th>MAILCITYSTATE</th>\n",
       "      <th>MAILCOUNTYCODE</th>\n",
       "      <th>MAILCOUNTY</th>\n",
       "      <th>MAILZIP</th>\n",
       "      <th>TELEPHONE</th>\n",
       "      <th>LICSUBTYPE</th>\n",
       "      <th>CEFLAG</th>\n",
       "    </tr>\n",
       "  </thead>\n",
       "  <tbody>\n",
       "    <tr>\n",
       "      <th>0</th>\n",
       "      <td>Associate Auctioneer</td>\n",
       "      <td>7326</td>\n",
       "      <td>ANGELINA</td>\n",
       "      <td>RISINGER, JIM MARVIN</td>\n",
       "      <td>NaN</td>\n",
       "      <td>NaN</td>\n",
       "      <td>NaN</td>\n",
       "      <td>NaN</td>\n",
       "      <td>2017-08-10</td>\n",
       "      <td>RISINGER, JIM MARVIN</td>\n",
       "      <td>7668 S US HWY 59</td>\n",
       "      <td>NaN</td>\n",
       "      <td>NACOGDOCHES TX 75964</td>\n",
       "      <td>0347</td>\n",
       "      <td>NACOGDOCHES</td>\n",
       "      <td>75964</td>\n",
       "      <td>9363665745</td>\n",
       "      <td>NaN</td>\n",
       "      <td>N</td>\n",
       "    </tr>\n",
       "    <tr>\n",
       "      <th>1</th>\n",
       "      <td>Associate Auctioneer</td>\n",
       "      <td>7962</td>\n",
       "      <td>UPSHUR</td>\n",
       "      <td>WILLIAMS, JON ANDRE</td>\n",
       "      <td>NaN</td>\n",
       "      <td>NaN</td>\n",
       "      <td>NaN</td>\n",
       "      <td>NaN</td>\n",
       "      <td>2017-12-29</td>\n",
       "      <td>WILLIAMS, JON ANDRE</td>\n",
       "      <td>228 FM 1252</td>\n",
       "      <td>NaN</td>\n",
       "      <td>KILGORE TX 75662</td>\n",
       "      <td>0183</td>\n",
       "      <td>GREGG</td>\n",
       "      <td>75662</td>\n",
       "      <td>9039187899</td>\n",
       "      <td>NaN</td>\n",
       "      <td>N</td>\n",
       "    </tr>\n",
       "    <tr>\n",
       "      <th>2</th>\n",
       "      <td>Associate Auctioneer</td>\n",
       "      <td>8406</td>\n",
       "      <td>WILSON</td>\n",
       "      <td>GUEVARA, JUAN ANTONIO</td>\n",
       "      <td>NaN</td>\n",
       "      <td>NaN</td>\n",
       "      <td>NaN</td>\n",
       "      <td>NaN</td>\n",
       "      <td>2017-09-26</td>\n",
       "      <td>GUEVARA, JUAN ANTONIO</td>\n",
       "      <td>6909 HWY 181</td>\n",
       "      <td>NaN</td>\n",
       "      <td>POTH TX 78147</td>\n",
       "      <td>0493</td>\n",
       "      <td>WILSON</td>\n",
       "      <td>78147</td>\n",
       "      <td>NaN</td>\n",
       "      <td>NaN</td>\n",
       "      <td>N</td>\n",
       "    </tr>\n",
       "    <tr>\n",
       "      <th>3</th>\n",
       "      <td>Associate Auctioneer</td>\n",
       "      <td>10543</td>\n",
       "      <td>HARRIS</td>\n",
       "      <td>BOWERS, JAMES BRISCOE II</td>\n",
       "      <td>NaN</td>\n",
       "      <td>NaN</td>\n",
       "      <td>NaN</td>\n",
       "      <td>NaN</td>\n",
       "      <td>2017-11-04</td>\n",
       "      <td>BOWERS, JAMES BRISCOE II</td>\n",
       "      <td>6767 NORTH FWY</td>\n",
       "      <td>NaN</td>\n",
       "      <td>HOUSTON TX 77076-2027</td>\n",
       "      <td>0201</td>\n",
       "      <td>HARRIS</td>\n",
       "      <td>77076</td>\n",
       "      <td>7136445566</td>\n",
       "      <td>NaN</td>\n",
       "      <td>N</td>\n",
       "    </tr>\n",
       "    <tr>\n",
       "      <th>4</th>\n",
       "      <td>Associate Auctioneer</td>\n",
       "      <td>10642</td>\n",
       "      <td>BELL</td>\n",
       "      <td>DEMSKY, JOHN EDWARD</td>\n",
       "      <td>NaN</td>\n",
       "      <td>NaN</td>\n",
       "      <td>NaN</td>\n",
       "      <td>NaN</td>\n",
       "      <td>2018-02-25</td>\n",
       "      <td>DEMSKY, JOHN EDWARD</td>\n",
       "      <td>130 E CLARK ST</td>\n",
       "      <td>NaN</td>\n",
       "      <td>BARTLETT TX 76511</td>\n",
       "      <td>0027</td>\n",
       "      <td>BELL</td>\n",
       "      <td>76511</td>\n",
       "      <td>2549852228</td>\n",
       "      <td>NaN</td>\n",
       "      <td>N</td>\n",
       "    </tr>\n",
       "  </tbody>\n",
       "</table>\n",
       "</div>"
      ],
      "text/plain": [
       "                LICTYPE LICNUMBER BIZCOUNTY                   BIZNAME  \\\n",
       "0  Associate Auctioneer      7326  ANGELINA      RISINGER, JIM MARVIN   \n",
       "1  Associate Auctioneer      7962    UPSHUR       WILLIAMS, JON ANDRE   \n",
       "2  Associate Auctioneer      8406    WILSON     GUEVARA, JUAN ANTONIO   \n",
       "3  Associate Auctioneer     10543    HARRIS  BOWERS, JAMES BRISCOE II   \n",
       "4  Associate Auctioneer     10642      BELL       DEMSKY, JOHN EDWARD   \n",
       "\n",
       "   BIZLINE1  BIZLINE2  BIZCITYSTATE  BIZTELEPHONE  EXPIRATION  \\\n",
       "0       NaN       NaN           NaN           NaN  2017-08-10   \n",
       "1       NaN       NaN           NaN           NaN  2017-12-29   \n",
       "2       NaN       NaN           NaN           NaN  2017-09-26   \n",
       "3       NaN       NaN           NaN           NaN  2017-11-04   \n",
       "4       NaN       NaN           NaN           NaN  2018-02-25   \n",
       "\n",
       "                      OWNER         MAILLINE1 MAILLINE2  \\\n",
       "0      RISINGER, JIM MARVIN  7668 S US HWY 59       NaN   \n",
       "1       WILLIAMS, JON ANDRE       228 FM 1252       NaN   \n",
       "2     GUEVARA, JUAN ANTONIO      6909 HWY 181       NaN   \n",
       "3  BOWERS, JAMES BRISCOE II    6767 NORTH FWY       NaN   \n",
       "4       DEMSKY, JOHN EDWARD    130 E CLARK ST       NaN   \n",
       "\n",
       "           MAILCITYSTATE MAILCOUNTYCODE   MAILCOUNTY MAILZIP   TELEPHONE  \\\n",
       "0   NACOGDOCHES TX 75964           0347  NACOGDOCHES   75964  9363665745   \n",
       "1       KILGORE TX 75662           0183        GREGG   75662  9039187899   \n",
       "2          POTH TX 78147           0493       WILSON   78147         NaN   \n",
       "3  HOUSTON TX 77076-2027           0201       HARRIS   77076  7136445566   \n",
       "4      BARTLETT TX 76511           0027         BELL   76511  2549852228   \n",
       "\n",
       "  LICSUBTYPE CEFLAG  \n",
       "0        NaN      N  \n",
       "1        NaN      N  \n",
       "2        NaN      N  \n",
       "3        NaN      N  \n",
       "4        NaN      N  "
      ]
     },
     "execution_count": 9,
     "metadata": {},
     "output_type": "execute_result"
    }
   ],
   "source": [
    "df.head()"
   ]
  },
  {
   "cell_type": "markdown",
   "metadata": {},
   "source": [
    "# PART TWO: LOOKING AT LICENSES"
   ]
  },
  {
   "cell_type": "markdown",
   "metadata": {},
   "source": [
    "## 5. What are the top 10 most common licenses?"
   ]
  },
  {
   "cell_type": "code",
   "execution_count": 10,
   "metadata": {},
   "outputs": [
    {
     "data": {
      "text/plain": [
       "Cosmetology Operator        151206\n",
       "Apprentice Electrician      110593\n",
       "Cosmetology Manicurist       49563\n",
       "Journeyman Electrician       38170\n",
       "A/C Technician               27959\n",
       "Cosmetology Esthetician      23613\n",
       "Cosmetology Beauty Salon     23577\n",
       "Master Electrician           16810\n",
       "A/C Contractor               16376\n",
       "Barber, Class A              16019\n",
       "Name: LICTYPE, dtype: int64"
      ]
     },
     "execution_count": 10,
     "metadata": {},
     "output_type": "execute_result"
    }
   ],
   "source": [
    "df.LICTYPE.value_counts().head(10)"
   ]
  },
  {
   "cell_type": "markdown",
   "metadata": {},
   "source": [
    "## 6. What are the top 10 least common?"
   ]
  },
  {
   "cell_type": "code",
   "execution_count": 11,
   "metadata": {},
   "outputs": [
    {
     "data": {
      "text/plain": [
       "Elevator Responsible Party CE Provider             8\n",
       "Mobile Cosmetology Esthetician Specialty Saloon    5\n",
       "Barber Hair Weaving Shop                           4\n",
       "Barber Hair Braiding Shop                          4\n",
       "Booting CE Provider                                3\n",
       "Cosmetology Wig Instructor                         2\n",
       "Licensed Court Interpreter CE Provider             2\n",
       "Mobile Cosmetology Esthetician/Manicure Saloon     2\n",
       "Mobile Cosmetology Manicure Specialty Saloon       2\n",
       "Legal Service Contract Admin                       1\n",
       "Name: LICTYPE, dtype: int64"
      ]
     },
     "execution_count": 11,
     "metadata": {},
     "output_type": "execute_result"
    }
   ],
   "source": [
    "df.LICTYPE.value_counts().tail(10)"
   ]
  },
  {
   "cell_type": "markdown",
   "metadata": {},
   "source": [
    "## 7. Try to select everyone who is any type of electrician.\n",
    "\n",
    "You're going to get an error about `\"cannot index with vector containing NA / NaN values\"`. Let's work our way in there."
   ]
  },
  {
   "cell_type": "code",
   "execution_count": 12,
   "metadata": {},
   "outputs": [
    {
     "data": {
      "text/plain": [
       "0         False\n",
       "1         False\n",
       "2         False\n",
       "3         False\n",
       "4         False\n",
       "5         False\n",
       "6         False\n",
       "7         False\n",
       "8         False\n",
       "9         False\n",
       "10        False\n",
       "11        False\n",
       "12        False\n",
       "13        False\n",
       "14        False\n",
       "15        False\n",
       "16        False\n",
       "17        False\n",
       "18        False\n",
       "19        False\n",
       "20        False\n",
       "21        False\n",
       "22        False\n",
       "23        False\n",
       "24        False\n",
       "25        False\n",
       "26        False\n",
       "27        False\n",
       "28        False\n",
       "29        False\n",
       "          ...  \n",
       "597786    False\n",
       "597787    False\n",
       "597788    False\n",
       "597789    False\n",
       "597790    False\n",
       "597791    False\n",
       "597792    False\n",
       "597793    False\n",
       "597794    False\n",
       "597795    False\n",
       "597796    False\n",
       "597797    False\n",
       "597798    False\n",
       "597799    False\n",
       "597800    False\n",
       "597801    False\n",
       "597802    False\n",
       "597803    False\n",
       "597804    False\n",
       "597805    False\n",
       "597806    False\n",
       "597807    False\n",
       "597808    False\n",
       "597809    False\n",
       "597810    False\n",
       "597811    False\n",
       "597812    False\n",
       "597813    False\n",
       "597814    False\n",
       "597815    False\n",
       "Name: LICTYPE, Length: 590730, dtype: object"
      ]
     },
     "execution_count": 12,
     "metadata": {},
     "output_type": "execute_result"
    }
   ],
   "source": [
    "df.LICTYPE.str.contains(\"Electrician\").dropna()"
   ]
  },
  {
   "cell_type": "markdown",
   "metadata": {},
   "source": [
    "## 8. How many of the rows of LICTYPE are NaN?"
   ]
  },
  {
   "cell_type": "code",
   "execution_count": 13,
   "metadata": {},
   "outputs": [
    {
     "data": {
      "text/plain": [
       "False    418892\n",
       "True     171838\n",
       "NaN        7086\n",
       "Name: LICTYPE, dtype: int64"
      ]
     },
     "execution_count": 13,
     "metadata": {},
     "output_type": "execute_result"
    }
   ],
   "source": [
    "df.LICTYPE.str.contains(\"Electrician\").value_counts(dropna=False)"
   ]
  },
  {
   "cell_type": "markdown",
   "metadata": {},
   "source": [
    "Over 7000 licenses don't have types! As a result, when we look for license types with electricians - aka do `df['LICTYPE'].str.contains(\"Electrician\")` - we get three results:\n",
    "\n",
    "* `True` means `LICTYPE` exists and contains `\"Electrician\"`\n",
    "* `False` means `LICTYPE` exists and does not contain `\"Electrician\"`\n",
    "* `NaN` means `LICTYPE` does not exist for that row"
   ]
  },
  {
   "cell_type": "markdown",
   "metadata": {},
   "source": [
    "## 9. Actually getting everyone who is an electrician"
   ]
  },
  {
   "cell_type": "code",
   "execution_count": 14,
   "metadata": {},
   "outputs": [
    {
     "data": {
      "text/html": [
       "<div>\n",
       "<style scoped>\n",
       "    .dataframe tbody tr th:only-of-type {\n",
       "        vertical-align: middle;\n",
       "    }\n",
       "\n",
       "    .dataframe tbody tr th {\n",
       "        vertical-align: top;\n",
       "    }\n",
       "\n",
       "    .dataframe thead th {\n",
       "        text-align: right;\n",
       "    }\n",
       "</style>\n",
       "<table border=\"1\" class=\"dataframe\">\n",
       "  <thead>\n",
       "    <tr style=\"text-align: right;\">\n",
       "      <th></th>\n",
       "      <th>LICTYPE</th>\n",
       "      <th>LICNUMBER</th>\n",
       "      <th>BIZCOUNTY</th>\n",
       "      <th>BIZNAME</th>\n",
       "      <th>BIZLINE1</th>\n",
       "      <th>BIZLINE2</th>\n",
       "      <th>BIZCITYSTATE</th>\n",
       "      <th>BIZTELEPHONE</th>\n",
       "      <th>EXPIRATION</th>\n",
       "      <th>OWNER</th>\n",
       "      <th>MAILLINE1</th>\n",
       "      <th>MAILLINE2</th>\n",
       "      <th>MAILCITYSTATE</th>\n",
       "      <th>MAILCOUNTYCODE</th>\n",
       "      <th>MAILCOUNTY</th>\n",
       "      <th>MAILZIP</th>\n",
       "      <th>TELEPHONE</th>\n",
       "      <th>LICSUBTYPE</th>\n",
       "      <th>CEFLAG</th>\n",
       "    </tr>\n",
       "  </thead>\n",
       "  <tbody>\n",
       "    <tr>\n",
       "      <th>47025</th>\n",
       "      <td>Apprentice Electrician</td>\n",
       "      <td>30244</td>\n",
       "      <td>ROBERTSON</td>\n",
       "      <td>BOLTON, MARION N</td>\n",
       "      <td>NaN</td>\n",
       "      <td>NaN</td>\n",
       "      <td>NaN</td>\n",
       "      <td>NaN</td>\n",
       "      <td>2017-05-27</td>\n",
       "      <td>BOLTON, MARION N</td>\n",
       "      <td>2262 HARBOR BOLTON RD</td>\n",
       "      <td>NaN</td>\n",
       "      <td>FRANKLIN TX 77856-5367</td>\n",
       "      <td>0395</td>\n",
       "      <td>ROBERTSON</td>\n",
       "      <td>77856</td>\n",
       "      <td>9798284713</td>\n",
       "      <td>AE</td>\n",
       "      <td>N</td>\n",
       "    </tr>\n",
       "    <tr>\n",
       "      <th>47026</th>\n",
       "      <td>Apprentice Electrician</td>\n",
       "      <td>30798</td>\n",
       "      <td>BEXAR</td>\n",
       "      <td>GONZALEZ, FELIX G JR</td>\n",
       "      <td>NaN</td>\n",
       "      <td>NaN</td>\n",
       "      <td>NaN</td>\n",
       "      <td>NaN</td>\n",
       "      <td>2017-10-21</td>\n",
       "      <td>GONZALEZ, FELIX G JR</td>\n",
       "      <td>8507 TIMBER BELT</td>\n",
       "      <td>NaN</td>\n",
       "      <td>SAN ANTONIO TX 78250-4478</td>\n",
       "      <td>0029</td>\n",
       "      <td>BEXAR</td>\n",
       "      <td>78250</td>\n",
       "      <td>2104887491</td>\n",
       "      <td>AE</td>\n",
       "      <td>N</td>\n",
       "    </tr>\n",
       "    <tr>\n",
       "      <th>47027</th>\n",
       "      <td>Apprentice Electrician</td>\n",
       "      <td>30802</td>\n",
       "      <td>HARRIS</td>\n",
       "      <td>HERNANDEZ, RUFINO</td>\n",
       "      <td>NaN</td>\n",
       "      <td>NaN</td>\n",
       "      <td>NaN</td>\n",
       "      <td>NaN</td>\n",
       "      <td>2017-05-28</td>\n",
       "      <td>HERNANDEZ, RUFINO</td>\n",
       "      <td>1719 ROBINHOOD ST</td>\n",
       "      <td>NaN</td>\n",
       "      <td>PASADENA TX 77502-2218</td>\n",
       "      <td>0201</td>\n",
       "      <td>HARRIS</td>\n",
       "      <td>77502</td>\n",
       "      <td>7133824802</td>\n",
       "      <td>AE</td>\n",
       "      <td>N</td>\n",
       "    </tr>\n",
       "    <tr>\n",
       "      <th>47028</th>\n",
       "      <td>Apprentice Electrician</td>\n",
       "      <td>31875</td>\n",
       "      <td>TITUS</td>\n",
       "      <td>COPELAND, MARCUS A</td>\n",
       "      <td>NaN</td>\n",
       "      <td>NaN</td>\n",
       "      <td>NaN</td>\n",
       "      <td>NaN</td>\n",
       "      <td>2016-06-18</td>\n",
       "      <td>COPELAND, MARCUS A</td>\n",
       "      <td>201 N MADISON AVE</td>\n",
       "      <td>NaN</td>\n",
       "      <td>MOUNT PLEASANT TX 75455-3944</td>\n",
       "      <td>0449</td>\n",
       "      <td>TITUS</td>\n",
       "      <td>75455</td>\n",
       "      <td>9035634950</td>\n",
       "      <td>AE</td>\n",
       "      <td>N</td>\n",
       "    </tr>\n",
       "    <tr>\n",
       "      <th>47029</th>\n",
       "      <td>Apprentice Electrician</td>\n",
       "      <td>31876</td>\n",
       "      <td>TITUS</td>\n",
       "      <td>ANGLIN, DAVID LEE</td>\n",
       "      <td>NaN</td>\n",
       "      <td>NaN</td>\n",
       "      <td>NaN</td>\n",
       "      <td>NaN</td>\n",
       "      <td>2016-10-26</td>\n",
       "      <td>ANGLIN, DAVID LEE</td>\n",
       "      <td>8066 FM 1001</td>\n",
       "      <td>NaN</td>\n",
       "      <td>COOKVILLE TX 75558-3064</td>\n",
       "      <td>0449</td>\n",
       "      <td>TITUS</td>\n",
       "      <td>75558</td>\n",
       "      <td>9039462547</td>\n",
       "      <td>AE</td>\n",
       "      <td>N</td>\n",
       "    </tr>\n",
       "  </tbody>\n",
       "</table>\n",
       "</div>"
      ],
      "text/plain": [
       "                      LICTYPE LICNUMBER  BIZCOUNTY               BIZNAME  \\\n",
       "47025  Apprentice Electrician     30244  ROBERTSON      BOLTON, MARION N   \n",
       "47026  Apprentice Electrician     30798      BEXAR  GONZALEZ, FELIX G JR   \n",
       "47027  Apprentice Electrician     30802     HARRIS     HERNANDEZ, RUFINO   \n",
       "47028  Apprentice Electrician     31875      TITUS    COPELAND, MARCUS A   \n",
       "47029  Apprentice Electrician     31876      TITUS     ANGLIN, DAVID LEE   \n",
       "\n",
       "       BIZLINE1  BIZLINE2  BIZCITYSTATE  BIZTELEPHONE  EXPIRATION  \\\n",
       "47025       NaN       NaN           NaN           NaN  2017-05-27   \n",
       "47026       NaN       NaN           NaN           NaN  2017-10-21   \n",
       "47027       NaN       NaN           NaN           NaN  2017-05-28   \n",
       "47028       NaN       NaN           NaN           NaN  2016-06-18   \n",
       "47029       NaN       NaN           NaN           NaN  2016-10-26   \n",
       "\n",
       "                      OWNER              MAILLINE1 MAILLINE2  \\\n",
       "47025      BOLTON, MARION N  2262 HARBOR BOLTON RD       NaN   \n",
       "47026  GONZALEZ, FELIX G JR       8507 TIMBER BELT       NaN   \n",
       "47027     HERNANDEZ, RUFINO      1719 ROBINHOOD ST       NaN   \n",
       "47028    COPELAND, MARCUS A      201 N MADISON AVE       NaN   \n",
       "47029     ANGLIN, DAVID LEE           8066 FM 1001       NaN   \n",
       "\n",
       "                      MAILCITYSTATE MAILCOUNTYCODE MAILCOUNTY MAILZIP  \\\n",
       "47025        FRANKLIN TX 77856-5367           0395  ROBERTSON   77856   \n",
       "47026     SAN ANTONIO TX 78250-4478           0029      BEXAR   78250   \n",
       "47027        PASADENA TX 77502-2218           0201     HARRIS   77502   \n",
       "47028  MOUNT PLEASANT TX 75455-3944           0449      TITUS   75455   \n",
       "47029       COOKVILLE TX 75558-3064           0449      TITUS   75558   \n",
       "\n",
       "        TELEPHONE LICSUBTYPE CEFLAG  \n",
       "47025  9798284713         AE      N  \n",
       "47026  2104887491         AE      N  \n",
       "47027  7133824802         AE      N  \n",
       "47028  9035634950         AE      N  \n",
       "47029  9039462547         AE      N  "
      ]
     },
     "execution_count": 14,
     "metadata": {},
     "output_type": "execute_result"
    }
   ],
   "source": [
    "df[df.LICTYPE.str.contains(\"Electrician\").fillna(False)].head()"
   ]
  },
  {
   "cell_type": "markdown",
   "metadata": {},
   "source": [
    "This doesn't work when trying to select electricians, though, as NaN is a no-go for a filter. We *could* filter out everywhere the LICTYPE is null, but we could also cheat a little and say \"replace all of the `NaN` values with `False` values.\"\n",
    "\n",
    "`.fillna(False)` will take every `NaN` and replace it with `False`. "
   ]
  },
  {
   "cell_type": "markdown",
   "metadata": {},
   "source": [
    "## 10. What's the most popular kind of electrician?"
   ]
  },
  {
   "cell_type": "code",
   "execution_count": 15,
   "metadata": {},
   "outputs": [
    {
     "data": {
      "text/plain": [
       "Apprentice Electrician                110593\n",
       "Journeyman Electrician                 38170\n",
       "Master Electrician                     16810\n",
       "Apprentice Sign Electrician             3994\n",
       "Maintenance Electrician                 1184\n",
       "Master Sign Electrician                  542\n",
       "Journeyman Sign Electrician              391\n",
       "Electrician CE Provider                  109\n",
       "Electrician Apprenticeship Program        45\n",
       "Name: LICTYPE, dtype: int64"
      ]
     },
     "execution_count": 15,
     "metadata": {},
     "output_type": "execute_result"
    }
   ],
   "source": [
    "electricians = df[df.LICTYPE.str.contains(\"Electrician\", na =False)]\n",
    "electricians.LICTYPE.value_counts()\n"
   ]
  },
  {
   "cell_type": "markdown",
   "metadata": {},
   "source": [
    "## 11. Graph it, with the largest bar on top."
   ]
  },
  {
   "cell_type": "code",
   "execution_count": 16,
   "metadata": {},
   "outputs": [
    {
     "data": {
      "text/plain": [
       "<matplotlib.axes._subplots.AxesSubplot at 0x1124c2da0>"
      ]
     },
     "execution_count": 16,
     "metadata": {},
     "output_type": "execute_result"
    },
    {
     "data": {
      "image/png": "[encoded data removed]",
      "text/plain": [
       "<Figure size 432x288 with 1 Axes>"
      ]
     },
     "metadata": {
      "needs_background": "light"
     },
     "output_type": "display_data"
    }
   ],
   "source": [
    "electricians.LICTYPE.value_counts(ascending=True).plot(kind='barh')"
   ]
  },
  {
   "cell_type": "markdown",
   "metadata": {},
   "source": [
    "## 12. How many sign electricians are there?\n",
    "\n",
    "There are a few ways to do this one."
   ]
  },
  {
   "cell_type": "code",
   "execution_count": 17,
   "metadata": {},
   "outputs": [
    {
     "data": {
      "text/plain": [
       "Apprentice Sign Electrician    3994\n",
       "Master Sign Electrician         542\n",
       "Journeyman Sign Electrician     391\n",
       "Name: LICTYPE, dtype: int64"
      ]
     },
     "execution_count": 17,
     "metadata": {},
     "output_type": "execute_result"
    }
   ],
   "source": [
    "sign_elec = electricians[electricians.LICTYPE.str.contains('Sign', na=False)]\n",
    "sign_elec.LICTYPE.value_counts()"
   ]
  },
  {
   "cell_type": "markdown",
   "metadata": {},
   "source": [
    "# PART THREE: LOOKING AT LAST NAMES"
   ]
  },
  {
   "cell_type": "markdown",
   "metadata": {},
   "source": [
    "## 13. Extract every owner's last name\n",
    "\n",
    "You want everything before the comma. We've done this before (in a few different ways!).\n",
    "\n",
    "* **Hint:** If you get an error about missing or `NaN` data, you might use `.fillna('')` to replace every empty owner name with an empty string. This might not happen to you, though, depending on how you do it!\n",
    "\n",
    "* **Hint:** You probably want to do `expand=False` on your extraction to make sure it comes out as a series instead of a dataframe."
   ]
  },
  {
   "cell_type": "code",
   "execution_count": 18,
   "metadata": {},
   "outputs": [],
   "source": [
    "first_name_owner= df.OWNER.str.split(\",\").str.get(0)"
   ]
  },
  {
   "cell_type": "code",
   "execution_count": 19,
   "metadata": {},
   "outputs": [
    {
     "data": {
      "text/plain": [
       "0            RISINGER\n",
       "1            WILLIAMS\n",
       "2             GUEVARA\n",
       "3              BOWERS\n",
       "4              DEMSKY\n",
       "5            THOMPSON\n",
       "6              TUCKER\n",
       "7              COOPER\n",
       "8         BLANKENSHIP\n",
       "9               DAWES\n",
       "10             LESTER\n",
       "11            MANCILL\n",
       "12         HUDDLESTON\n",
       "13             JORDAN\n",
       "14              IRWIN\n",
       "15               HALL\n",
       "16              JAMES\n",
       "17             SIDAWI\n",
       "18              SMITH\n",
       "19           FERGUSON\n",
       "20           MCKINLEY\n",
       "21             SOWELL\n",
       "22             SEVIER\n",
       "23         SOMERVILLE\n",
       "24           BARCLIFT\n",
       "25               FORD\n",
       "26            SCHAFER\n",
       "27           MARTINEZ\n",
       "28            CLEMANS\n",
       "29           MARTINEZ\n",
       "             ...     \n",
       "597786        SNUFFER\n",
       "597787       MARTINEZ\n",
       "597788         YOSTEN\n",
       "597789          CLICK\n",
       "597790          PENSE\n",
       "597791           LARA\n",
       "597792          SMITH\n",
       "597793      BINNICKER\n",
       "597794         CHAVEZ\n",
       "597795       GUERRERO\n",
       "597796         SAVAGE\n",
       "597797          ADAMS\n",
       "597798          SCOTT\n",
       "597799           HILL\n",
       "597800       THOMPSON\n",
       "597801         THOMAS\n",
       "597802      JURGENSEN\n",
       "597803          MARSH\n",
       "597804       KILLOUGH\n",
       "597805         FAULKS\n",
       "597806         ATKINS\n",
       "597807       WILLIAMS\n",
       "597808       WINSTEAD\n",
       "597809         LILLEY\n",
       "597810          WOODS\n",
       "597811           ABEL\n",
       "597812           GRAY\n",
       "597813          MAYER\n",
       "597814        FRIESEN\n",
       "597815          BAUER\n",
       "Name: OWNER, Length: 597816, dtype: object"
      ]
     },
     "execution_count": 19,
     "metadata": {},
     "output_type": "execute_result"
    }
   ],
   "source": [
    "first_name_owner"
   ]
  },
  {
   "cell_type": "markdown",
   "metadata": {},
   "source": [
    "## 14. Save the last name into a new column\n",
    "\n",
    "Then check to make sure it exists, and you successfully saved it into the dataframe."
   ]
  },
  {
   "cell_type": "code",
   "execution_count": 20,
   "metadata": {},
   "outputs": [],
   "source": [
    "df['LASTNAME'] = first_name_owner"
   ]
  },
  {
   "cell_type": "code",
   "execution_count": 21,
   "metadata": {},
   "outputs": [
    {
     "data": {
      "text/html": [
       "<div>\n",
       "<style scoped>\n",
       "    .dataframe tbody tr th:only-of-type {\n",
       "        vertical-align: middle;\n",
       "    }\n",
       "\n",
       "    .dataframe tbody tr th {\n",
       "        vertical-align: top;\n",
       "    }\n",
       "\n",
       "    .dataframe thead th {\n",
       "        text-align: right;\n",
       "    }\n",
       "</style>\n",
       "<table border=\"1\" class=\"dataframe\">\n",
       "  <thead>\n",
       "    <tr style=\"text-align: right;\">\n",
       "      <th></th>\n",
       "      <th>LICTYPE</th>\n",
       "      <th>LICNUMBER</th>\n",
       "      <th>BIZCOUNTY</th>\n",
       "      <th>BIZNAME</th>\n",
       "      <th>BIZLINE1</th>\n",
       "      <th>BIZLINE2</th>\n",
       "      <th>BIZCITYSTATE</th>\n",
       "      <th>BIZTELEPHONE</th>\n",
       "      <th>EXPIRATION</th>\n",
       "      <th>OWNER</th>\n",
       "      <th>MAILLINE1</th>\n",
       "      <th>MAILLINE2</th>\n",
       "      <th>MAILCITYSTATE</th>\n",
       "      <th>MAILCOUNTYCODE</th>\n",
       "      <th>MAILCOUNTY</th>\n",
       "      <th>MAILZIP</th>\n",
       "      <th>TELEPHONE</th>\n",
       "      <th>LICSUBTYPE</th>\n",
       "      <th>CEFLAG</th>\n",
       "      <th>LASTNAME</th>\n",
       "    </tr>\n",
       "  </thead>\n",
       "  <tbody>\n",
       "    <tr>\n",
       "      <th>0</th>\n",
       "      <td>Associate Auctioneer</td>\n",
       "      <td>7326</td>\n",
       "      <td>ANGELINA</td>\n",
       "      <td>RISINGER, JIM MARVIN</td>\n",
       "      <td>NaN</td>\n",
       "      <td>NaN</td>\n",
       "      <td>NaN</td>\n",
       "      <td>NaN</td>\n",
       "      <td>2017-08-10</td>\n",
       "      <td>RISINGER, JIM MARVIN</td>\n",
       "      <td>7668 S US HWY 59</td>\n",
       "      <td>NaN</td>\n",
       "      <td>NACOGDOCHES TX 75964</td>\n",
       "      <td>0347</td>\n",
       "      <td>NACOGDOCHES</td>\n",
       "      <td>75964</td>\n",
       "      <td>9363665745</td>\n",
       "      <td>NaN</td>\n",
       "      <td>N</td>\n",
       "      <td>RISINGER</td>\n",
       "    </tr>\n",
       "    <tr>\n",
       "      <th>1</th>\n",
       "      <td>Associate Auctioneer</td>\n",
       "      <td>7962</td>\n",
       "      <td>UPSHUR</td>\n",
       "      <td>WILLIAMS, JON ANDRE</td>\n",
       "      <td>NaN</td>\n",
       "      <td>NaN</td>\n",
       "      <td>NaN</td>\n",
       "      <td>NaN</td>\n",
       "      <td>2017-12-29</td>\n",
       "      <td>WILLIAMS, JON ANDRE</td>\n",
       "      <td>228 FM 1252</td>\n",
       "      <td>NaN</td>\n",
       "      <td>KILGORE TX 75662</td>\n",
       "      <td>0183</td>\n",
       "      <td>GREGG</td>\n",
       "      <td>75662</td>\n",
       "      <td>9039187899</td>\n",
       "      <td>NaN</td>\n",
       "      <td>N</td>\n",
       "      <td>WILLIAMS</td>\n",
       "    </tr>\n",
       "  </tbody>\n",
       "</table>\n",
       "</div>"
      ],
      "text/plain": [
       "                LICTYPE LICNUMBER BIZCOUNTY               BIZNAME  BIZLINE1  \\\n",
       "0  Associate Auctioneer      7326  ANGELINA  RISINGER, JIM MARVIN       NaN   \n",
       "1  Associate Auctioneer      7962    UPSHUR   WILLIAMS, JON ANDRE       NaN   \n",
       "\n",
       "   BIZLINE2  BIZCITYSTATE  BIZTELEPHONE  EXPIRATION                 OWNER  \\\n",
       "0       NaN           NaN           NaN  2017-08-10  RISINGER, JIM MARVIN   \n",
       "1       NaN           NaN           NaN  2017-12-29   WILLIAMS, JON ANDRE   \n",
       "\n",
       "          MAILLINE1 MAILLINE2         MAILCITYSTATE MAILCOUNTYCODE  \\\n",
       "0  7668 S US HWY 59       NaN  NACOGDOCHES TX 75964           0347   \n",
       "1       228 FM 1252       NaN      KILGORE TX 75662           0183   \n",
       "\n",
       "    MAILCOUNTY MAILZIP   TELEPHONE LICSUBTYPE CEFLAG  LASTNAME  \n",
       "0  NACOGDOCHES   75964  9363665745        NaN      N  RISINGER  \n",
       "1        GREGG   75662  9039187899        NaN      N  WILLIAMS  "
      ]
     },
     "execution_count": 21,
     "metadata": {},
     "output_type": "execute_result"
    }
   ],
   "source": [
    "df.head(2)"
   ]
  },
  {
   "cell_type": "markdown",
   "metadata": {},
   "source": [
    "# 15. What are the ten most popular last names?"
   ]
  },
  {
   "cell_type": "code",
   "execution_count": 22,
   "metadata": {},
   "outputs": [
    {
     "data": {
      "text/plain": [
       "NGUYEN      22286\n",
       "TRAN         8137\n",
       "LE           5606\n",
       "GARCIA       5574\n",
       "MARTINEZ     4701\n",
       "Name: LASTNAME, dtype: int64"
      ]
     },
     "execution_count": 22,
     "metadata": {},
     "output_type": "execute_result"
    }
   ],
   "source": [
    "df.LASTNAME.value_counts().head()"
   ]
  },
  {
   "cell_type": "markdown",
   "metadata": {},
   "source": [
    "## 16. What are the most popular licenses for people with the last name Nguyen? Tran? Le?\n",
    "\n",
    "Those are the top 3 last names in Vietnam."
   ]
  },
  {
   "cell_type": "code",
   "execution_count": 23,
   "metadata": {},
   "outputs": [
    {
     "data": {
      "text/plain": [
       "Cosmetology Manicurist     12856\n",
       "Cosmetology Operator        4039\n",
       "Cosmetology Esthetician     2881\n",
       "Cosmetologist               1876\n",
       "Apprentice Electrician       195\n",
       "Name: LICTYPE, dtype: int64"
      ]
     },
     "execution_count": 23,
     "metadata": {},
     "output_type": "execute_result"
    }
   ],
   "source": [
    "df[df['LASTNAME'] == \"NGUYEN\"].LICTYPE.value_counts().head()\n"
   ]
  },
  {
   "cell_type": "code",
   "execution_count": 24,
   "metadata": {},
   "outputs": [
    {
     "data": {
      "text/plain": [
       "Cosmetology Manicurist     4675\n",
       "Cosmetology Operator       1475\n",
       "Cosmetology Esthetician    1032\n",
       "Cosmetologist               712\n",
       "Apprentice Electrician       95\n",
       "Name: LICTYPE, dtype: int64"
      ]
     },
     "execution_count": 24,
     "metadata": {},
     "output_type": "execute_result"
    }
   ],
   "source": [
    "df[df['LASTNAME'] == \"TRAN\"].LICTYPE.value_counts().head()"
   ]
  },
  {
   "cell_type": "code",
   "execution_count": 25,
   "metadata": {},
   "outputs": [
    {
     "data": {
      "text/plain": [
       "Cosmetology Manicurist     3277\n",
       "Cosmetology Operator        953\n",
       "Cosmetology Esthetician     730\n",
       "Cosmetologist               497\n",
       "A/C Technician               43\n",
       "Name: LICTYPE, dtype: int64"
      ]
     },
     "execution_count": 25,
     "metadata": {},
     "output_type": "execute_result"
    }
   ],
   "source": [
    "df[df['LASTNAME'] == \"LE\"].LICTYPE.value_counts().head()"
   ]
  },
  {
   "cell_type": "markdown",
   "metadata": {},
   "source": [
    "## 17. Now do all of that in one line - most popular licenses for Nguyen, Tran and Le - without using `&`"
   ]
  },
  {
   "cell_type": "code",
   "execution_count": 26,
   "metadata": {},
   "outputs": [
    {
     "data": {
      "text/plain": [
       "Cosmetology Manicurist     20808\n",
       "Cosmetology Operator        6467\n",
       "Cosmetology Esthetician     4643\n",
       "Cosmetologist               3085\n",
       "Apprentice Electrician       327\n",
       "Name: LICTYPE, dtype: int64"
      ]
     },
     "execution_count": 26,
     "metadata": {},
     "output_type": "execute_result"
    }
   ],
   "source": [
    "df.loc[df['LASTNAME'].isin(['NGUYEN', 'TRAN', 'LE'])].LICTYPE.value_counts().head()"
   ]
  },
  {
   "cell_type": "markdown",
   "metadata": {},
   "source": [
    "## 18. Most popular licenses for Garcia? Rodriguez? Martinez?\n",
    "\n",
    "Those are the 3 most common last names for self-identifying Hispanics in the USA."
   ]
  },
  {
   "cell_type": "code",
   "execution_count": 27,
   "metadata": {},
   "outputs": [
    {
     "data": {
      "text/plain": [
       "Apprentice Electrician    5143\n",
       "Cosmetology Operator      4451\n",
       "Journeyman Electrician    1266\n",
       "A/C Technician             970\n",
       "Barber, Class A            473\n",
       "Name: LICTYPE, dtype: int64"
      ]
     },
     "execution_count": 27,
     "metadata": {},
     "output_type": "execute_result"
    }
   ],
   "source": [
    "df.loc[df['LASTNAME'].isin(['GARCIA', 'RODRIGUEZ', 'MARTINEZ'])].LICTYPE.value_counts().head()"
   ]
  },
  {
   "cell_type": "markdown",
   "metadata": {},
   "source": [
    "## 19. Most popular license for anyone with a last name that ENDS in `-ez`\n",
    "\n",
    "The answer is not `.str.contains('ez')`, but it isn't necessarily too different. **Make sure your numbers match mine.**\n",
    "\n",
    "One way involves a `.str.` method that check if a string ends with something, the other way involves a regular expression that has a \"end of the string\" marker (similar to how we've used `^` for the start of a string before). If you're thinking about the latter, I might take a look at [this page](http://www.rexegg.com/regex-quickstart.html) under \"Anchors and Boundaries\". "
   ]
  },
  {
   "cell_type": "code",
   "execution_count": 28,
   "metadata": {},
   "outputs": [
    {
     "data": {
      "text/plain": [
       "Apprentice Electrician    16065\n",
       "Cosmetology Operator      13887\n",
       "Journeyman Electrician     3529\n",
       "A/C Technician             2889\n",
       "Barber, Class A            1277\n",
       "Name: LICTYPE, dtype: int64"
      ]
     },
     "execution_count": 28,
     "metadata": {},
     "output_type": "execute_result"
    }
   ],
   "source": [
    "df[df.LASTNAME.str.endswith('EZ', na=False)].LICTYPE.value_counts().head()"
   ]
  },
  {
   "cell_type": "code",
   "execution_count": null,
   "metadata": {},
   "outputs": [],
   "source": []
  },
  {
   "cell_type": "markdown",
   "metadata": {},
   "source": [
    "## 20. Get that as a percentage"
   ]
  },
  {
   "cell_type": "code",
   "execution_count": 29,
   "metadata": {},
   "outputs": [
    {
     "data": {
      "text/plain": [
       "Apprentice Electrician    35.975009\n",
       "Cosmetology Operator      31.097725\n",
       "Journeyman Electrician     7.902633\n",
       "A/C Technician             6.469455\n",
       "Barber, Class A            2.859638\n",
       "Name: LICTYPE, dtype: float64"
      ]
     },
     "execution_count": 29,
     "metadata": {},
     "output_type": "execute_result"
    }
   ],
   "source": [
    "df[df.LASTNAME.str.endswith('EZ', na=False)].LICTYPE.value_counts(normalize=True).head()*100"
   ]
  },
  {
   "cell_type": "markdown",
   "metadata": {},
   "source": [
    "# PART FOUR: LOOKING AT FIRST NAMES"
   ]
  },
  {
   "cell_type": "markdown",
   "metadata": {},
   "source": [
    "## 21. Extract the owner's first name\n",
    "\n",
    "First, a little example of how regular expressions work with pandas."
   ]
  },
  {
   "cell_type": "code",
   "execution_count": 30,
   "metadata": {},
   "outputs": [
    {
     "data": {
      "text/html": [
       "<div>\n",
       "<style scoped>\n",
       "    .dataframe tbody tr th:only-of-type {\n",
       "        vertical-align: middle;\n",
       "    }\n",
       "\n",
       "    .dataframe tbody tr th {\n",
       "        vertical-align: top;\n",
       "    }\n",
       "\n",
       "    .dataframe thead th {\n",
       "        text-align: right;\n",
       "    }\n",
       "</style>\n",
       "<table border=\"1\" class=\"dataframe\">\n",
       "  <thead>\n",
       "    <tr style=\"text-align: right;\">\n",
       "      <th></th>\n",
       "      <th>name</th>\n",
       "      <th>sentence</th>\n",
       "    </tr>\n",
       "  </thead>\n",
       "  <tbody>\n",
       "    <tr>\n",
       "      <th>0</th>\n",
       "      <td>Mary</td>\n",
       "      <td>I am 90 years old</td>\n",
       "    </tr>\n",
       "    <tr>\n",
       "      <th>1</th>\n",
       "      <td>Jack</td>\n",
       "      <td>I am 4 years old</td>\n",
       "    </tr>\n",
       "    <tr>\n",
       "      <th>2</th>\n",
       "      <td>Anne</td>\n",
       "      <td>I am 27 years old</td>\n",
       "    </tr>\n",
       "    <tr>\n",
       "      <th>3</th>\n",
       "      <td>Joel</td>\n",
       "      <td>I am 13 years old</td>\n",
       "    </tr>\n",
       "  </tbody>\n",
       "</table>\n",
       "</div>"
      ],
      "text/plain": [
       "   name           sentence\n",
       "0  Mary  I am 90 years old\n",
       "1  Jack   I am 4 years old\n",
       "2  Anne  I am 27 years old\n",
       "3  Joel  I am 13 years old"
      ]
     },
     "execution_count": 30,
     "metadata": {},
     "output_type": "execute_result"
    }
   ],
   "source": [
    "# Build a dataframe\n",
    "sample_df = pd.DataFrame([\n",
    "    { 'name': 'Mary', 'sentence': \"I am 90 years old\" },\n",
    "    { 'name': 'Jack', 'sentence': \"I am 4 years old\" },\n",
    "    { 'name': 'Anne', 'sentence': \"I am 27 years old\" },\n",
    "    { 'name': 'Joel', 'sentence': \"I am 13 years old\" },\n",
    "])\n",
    "# Look at the dataframe\n",
    "sample_df"
   ]
  },
  {
   "cell_type": "code",
   "execution_count": 31,
   "metadata": {},
   "outputs": [
    {
     "data": {
      "text/plain": [
       "0    90\n",
       "1     4\n",
       "2    27\n",
       "3    13\n",
       "Name: sentence, dtype: object"
      ]
     },
     "execution_count": 31,
     "metadata": {},
     "output_type": "execute_result"
    }
   ],
   "source": [
    "# Given the sentence, \"I am X years old\", extract digits from the middle using ()\n",
    "# Anything you put in () will be saved as an output.\n",
    "# If you do expand=True it makes you a dataframe, but we don't want that.\n",
    "sample_df['sentence'].str.extract(\"I am (\\d+) years old\", expand=False)"
   ]
  },
  {
   "cell_type": "code",
   "execution_count": 32,
   "metadata": {},
   "outputs": [
    {
     "data": {
      "text/html": [
       "<div>\n",
       "<style scoped>\n",
       "    .dataframe tbody tr th:only-of-type {\n",
       "        vertical-align: middle;\n",
       "    }\n",
       "\n",
       "    .dataframe tbody tr th {\n",
       "        vertical-align: top;\n",
       "    }\n",
       "\n",
       "    .dataframe thead th {\n",
       "        text-align: right;\n",
       "    }\n",
       "</style>\n",
       "<table border=\"1\" class=\"dataframe\">\n",
       "  <thead>\n",
       "    <tr style=\"text-align: right;\">\n",
       "      <th></th>\n",
       "      <th>name</th>\n",
       "      <th>sentence</th>\n",
       "      <th>age</th>\n",
       "    </tr>\n",
       "  </thead>\n",
       "  <tbody>\n",
       "    <tr>\n",
       "      <th>0</th>\n",
       "      <td>Mary</td>\n",
       "      <td>I am 90 years old</td>\n",
       "      <td>90</td>\n",
       "    </tr>\n",
       "    <tr>\n",
       "      <th>1</th>\n",
       "      <td>Jack</td>\n",
       "      <td>I am 4 years old</td>\n",
       "      <td>4</td>\n",
       "    </tr>\n",
       "    <tr>\n",
       "      <th>2</th>\n",
       "      <td>Anne</td>\n",
       "      <td>I am 27 years old</td>\n",
       "      <td>27</td>\n",
       "    </tr>\n",
       "    <tr>\n",
       "      <th>3</th>\n",
       "      <td>Joel</td>\n",
       "      <td>I am 13 years old</td>\n",
       "      <td>13</td>\n",
       "    </tr>\n",
       "  </tbody>\n",
       "</table>\n",
       "</div>"
      ],
      "text/plain": [
       "   name           sentence age\n",
       "0  Mary  I am 90 years old  90\n",
       "1  Jack   I am 4 years old   4\n",
       "2  Anne  I am 27 years old  27\n",
       "3  Joel  I am 13 years old  13"
      ]
     },
     "execution_count": 32,
     "metadata": {},
     "output_type": "execute_result"
    }
   ],
   "source": [
    "# Save it into a new column\n",
    "sample_df['age'] = sample_df['sentence'].str.extract(\"I am (\\d+) years old\", expand=False)\n",
    "sample_df.head()"
   ]
  },
  {
   "cell_type": "markdown",
   "metadata": {},
   "source": [
    "**Now let's think about how we're going to extract the first names.** Begin by looking at a few full names."
   ]
  },
  {
   "cell_type": "code",
   "execution_count": 33,
   "metadata": {},
   "outputs": [
    {
     "data": {
      "text/plain": [
       "0        RISINGER, JIM MARVIN\n",
       "1         WILLIAMS, JON ANDRE\n",
       "2       GUEVARA, JUAN ANTONIO\n",
       "3    BOWERS, JAMES BRISCOE II\n",
       "4         DEMSKY, JOHN EDWARD\n",
       "5           THOMPSON, RANDY D\n",
       "6          TUCKER, MONTE EARL\n",
       "7        COOPER, THOMAS JAMES\n",
       "8     BLANKENSHIP, KERRY NEIL\n",
       "9      DAWES, NICHOLAS MORGAN\n",
       "Name: OWNER, dtype: object"
      ]
     },
     "execution_count": 33,
     "metadata": {},
     "output_type": "execute_result"
    }
   ],
   "source": [
    "df['OWNER'].head(10)"
   ]
  },
  {
   "cell_type": "markdown",
   "metadata": {},
   "source": [
    "What can you use to find the first name? It helps to say \"this is to the left and this is to the right, and I'm going to take anything in the middle.\"\n",
    "\n",
    "Once you figure out how to extract it, you can do a `.head(10)` to just look at the first few."
   ]
  },
  {
   "cell_type": "markdown",
   "metadata": {},
   "source": [
    "## 22. Saving the owner's first name\n",
    "\n",
    "Save the name to a new column, `FIRSTNAME`."
   ]
  },
  {
   "cell_type": "code",
   "execution_count": 132,
   "metadata": {},
   "outputs": [
    {
     "data": {
      "text/plain": [
       "0         JIM\n",
       "1         JON\n",
       "2        JUAN\n",
       "3       JAMES\n",
       "4        JOHN\n",
       "5       RANDY\n",
       "6       MONTE\n",
       "7      THOMAS\n",
       "8       KERRY\n",
       "9    NICHOLAS\n",
       "Name: 1, dtype: object"
      ]
     },
     "execution_count": 132,
     "metadata": {},
     "output_type": "execute_result"
    }
   ],
   "source": [
    "df.OWNER.str.split(n=2, expand=True).get(1).head(10)"
   ]
  },
  {
   "cell_type": "code",
   "execution_count": 124,
   "metadata": {},
   "outputs": [],
   "source": [
    "df['FIRSTNAME'] = df.OWNER.str.split(n=2, expand=True).get(1)"
   ]
  },
  {
   "cell_type": "markdown",
   "metadata": {},
   "source": [
    "# 23. Examine everyone without a first name\n",
    "\n",
    "I purposefully didn't do a nicer regex in order to have some screwed-up results. **How many people are there without an entry in the first name column?**\n",
    "\n",
    "Your numbers might be different than mine."
   ]
  },
  {
   "cell_type": "code",
   "execution_count": 126,
   "metadata": {},
   "outputs": [
    {
     "data": {
      "text/html": [
       "<div>\n",
       "<style scoped>\n",
       "    .dataframe tbody tr th:only-of-type {\n",
       "        vertical-align: middle;\n",
       "    }\n",
       "\n",
       "    .dataframe tbody tr th {\n",
       "        vertical-align: top;\n",
       "    }\n",
       "\n",
       "    .dataframe thead th {\n",
       "        text-align: right;\n",
       "    }\n",
       "</style>\n",
       "<table border=\"1\" class=\"dataframe\">\n",
       "  <thead>\n",
       "    <tr style=\"text-align: right;\">\n",
       "      <th></th>\n",
       "      <th>LICTYPE</th>\n",
       "      <th>LICNUMBER</th>\n",
       "      <th>BIZCOUNTY</th>\n",
       "      <th>BIZNAME</th>\n",
       "      <th>BIZLINE1</th>\n",
       "      <th>BIZLINE2</th>\n",
       "      <th>BIZCITYSTATE</th>\n",
       "      <th>BIZTELEPHONE</th>\n",
       "      <th>EXPIRATION</th>\n",
       "      <th>OWNER</th>\n",
       "      <th>...</th>\n",
       "      <th>MAILLINE2</th>\n",
       "      <th>MAILCITYSTATE</th>\n",
       "      <th>MAILCOUNTYCODE</th>\n",
       "      <th>MAILCOUNTY</th>\n",
       "      <th>MAILZIP</th>\n",
       "      <th>TELEPHONE</th>\n",
       "      <th>LICSUBTYPE</th>\n",
       "      <th>CEFLAG</th>\n",
       "      <th>LASTNAME</th>\n",
       "      <th>FIRSTNAME</th>\n",
       "    </tr>\n",
       "  </thead>\n",
       "  <tbody>\n",
       "    <tr>\n",
       "      <th>0</th>\n",
       "      <td>Associate Auctioneer</td>\n",
       "      <td>7326</td>\n",
       "      <td>ANGELINA</td>\n",
       "      <td>RISINGER, JIM MARVIN</td>\n",
       "      <td>NaN</td>\n",
       "      <td>NaN</td>\n",
       "      <td>NaN</td>\n",
       "      <td>NaN</td>\n",
       "      <td>2017-08-10</td>\n",
       "      <td>RISINGER, JIM MARVIN</td>\n",
       "      <td>...</td>\n",
       "      <td>NaN</td>\n",
       "      <td>NACOGDOCHES TX 75964</td>\n",
       "      <td>0347</td>\n",
       "      <td>NACOGDOCHES</td>\n",
       "      <td>75964</td>\n",
       "      <td>9363665745</td>\n",
       "      <td>NaN</td>\n",
       "      <td>N</td>\n",
       "      <td>RISINGER</td>\n",
       "      <td>JIM</td>\n",
       "    </tr>\n",
       "    <tr>\n",
       "      <th>1</th>\n",
       "      <td>Associate Auctioneer</td>\n",
       "      <td>7962</td>\n",
       "      <td>UPSHUR</td>\n",
       "      <td>WILLIAMS, JON ANDRE</td>\n",
       "      <td>NaN</td>\n",
       "      <td>NaN</td>\n",
       "      <td>NaN</td>\n",
       "      <td>NaN</td>\n",
       "      <td>2017-12-29</td>\n",
       "      <td>WILLIAMS, JON ANDRE</td>\n",
       "      <td>...</td>\n",
       "      <td>NaN</td>\n",
       "      <td>KILGORE TX 75662</td>\n",
       "      <td>0183</td>\n",
       "      <td>GREGG</td>\n",
       "      <td>75662</td>\n",
       "      <td>9039187899</td>\n",
       "      <td>NaN</td>\n",
       "      <td>N</td>\n",
       "      <td>WILLIAMS</td>\n",
       "      <td>JON</td>\n",
       "    </tr>\n",
       "    <tr>\n",
       "      <th>2</th>\n",
       "      <td>Associate Auctioneer</td>\n",
       "      <td>8406</td>\n",
       "      <td>WILSON</td>\n",
       "      <td>GUEVARA, JUAN ANTONIO</td>\n",
       "      <td>NaN</td>\n",
       "      <td>NaN</td>\n",
       "      <td>NaN</td>\n",
       "      <td>NaN</td>\n",
       "      <td>2017-09-26</td>\n",
       "      <td>GUEVARA, JUAN ANTONIO</td>\n",
       "      <td>...</td>\n",
       "      <td>NaN</td>\n",
       "      <td>POTH TX 78147</td>\n",
       "      <td>0493</td>\n",
       "      <td>WILSON</td>\n",
       "      <td>78147</td>\n",
       "      <td>NaN</td>\n",
       "      <td>NaN</td>\n",
       "      <td>N</td>\n",
       "      <td>GUEVARA</td>\n",
       "      <td>JUAN</td>\n",
       "    </tr>\n",
       "    <tr>\n",
       "      <th>3</th>\n",
       "      <td>Associate Auctioneer</td>\n",
       "      <td>10543</td>\n",
       "      <td>HARRIS</td>\n",
       "      <td>BOWERS, JAMES BRISCOE II</td>\n",
       "      <td>NaN</td>\n",
       "      <td>NaN</td>\n",
       "      <td>NaN</td>\n",
       "      <td>NaN</td>\n",
       "      <td>2017-11-04</td>\n",
       "      <td>BOWERS, JAMES BRISCOE II</td>\n",
       "      <td>...</td>\n",
       "      <td>NaN</td>\n",
       "      <td>HOUSTON TX 77076-2027</td>\n",
       "      <td>0201</td>\n",
       "      <td>HARRIS</td>\n",
       "      <td>77076</td>\n",
       "      <td>7136445566</td>\n",
       "      <td>NaN</td>\n",
       "      <td>N</td>\n",
       "      <td>BOWERS</td>\n",
       "      <td>JAMES</td>\n",
       "    </tr>\n",
       "    <tr>\n",
       "      <th>4</th>\n",
       "      <td>Associate Auctioneer</td>\n",
       "      <td>10642</td>\n",
       "      <td>BELL</td>\n",
       "      <td>DEMSKY, JOHN EDWARD</td>\n",
       "      <td>NaN</td>\n",
       "      <td>NaN</td>\n",
       "      <td>NaN</td>\n",
       "      <td>NaN</td>\n",
       "      <td>2018-02-25</td>\n",
       "      <td>DEMSKY, JOHN EDWARD</td>\n",
       "      <td>...</td>\n",
       "      <td>NaN</td>\n",
       "      <td>BARTLETT TX 76511</td>\n",
       "      <td>0027</td>\n",
       "      <td>BELL</td>\n",
       "      <td>76511</td>\n",
       "      <td>2549852228</td>\n",
       "      <td>NaN</td>\n",
       "      <td>N</td>\n",
       "      <td>DEMSKY</td>\n",
       "      <td>JOHN</td>\n",
       "    </tr>\n",
       "  </tbody>\n",
       "</table>\n",
       "<p>5 rows × 21 columns</p>\n",
       "</div>"
      ],
      "text/plain": [
       "                LICTYPE LICNUMBER BIZCOUNTY                   BIZNAME  \\\n",
       "0  Associate Auctioneer      7326  ANGELINA      RISINGER, JIM MARVIN   \n",
       "1  Associate Auctioneer      7962    UPSHUR       WILLIAMS, JON ANDRE   \n",
       "2  Associate Auctioneer      8406    WILSON     GUEVARA, JUAN ANTONIO   \n",
       "3  Associate Auctioneer     10543    HARRIS  BOWERS, JAMES BRISCOE II   \n",
       "4  Associate Auctioneer     10642      BELL       DEMSKY, JOHN EDWARD   \n",
       "\n",
       "   BIZLINE1  BIZLINE2  BIZCITYSTATE  BIZTELEPHONE  EXPIRATION  \\\n",
       "0       NaN       NaN           NaN           NaN  2017-08-10   \n",
       "1       NaN       NaN           NaN           NaN  2017-12-29   \n",
       "2       NaN       NaN           NaN           NaN  2017-09-26   \n",
       "3       NaN       NaN           NaN           NaN  2017-11-04   \n",
       "4       NaN       NaN           NaN           NaN  2018-02-25   \n",
       "\n",
       "                      OWNER  ... MAILLINE2          MAILCITYSTATE  \\\n",
       "0      RISINGER, JIM MARVIN  ...       NaN   NACOGDOCHES TX 75964   \n",
       "1       WILLIAMS, JON ANDRE  ...       NaN       KILGORE TX 75662   \n",
       "2     GUEVARA, JUAN ANTONIO  ...       NaN          POTH TX 78147   \n",
       "3  BOWERS, JAMES BRISCOE II  ...       NaN  HOUSTON TX 77076-2027   \n",
       "4       DEMSKY, JOHN EDWARD  ...       NaN      BARTLETT TX 76511   \n",
       "\n",
       "  MAILCOUNTYCODE   MAILCOUNTY MAILZIP   TELEPHONE LICSUBTYPE CEFLAG  LASTNAME  \\\n",
       "0           0347  NACOGDOCHES   75964  9363665745        NaN      N  RISINGER   \n",
       "1           0183        GREGG   75662  9039187899        NaN      N  WILLIAMS   \n",
       "2           0493       WILSON   78147         NaN        NaN      N   GUEVARA   \n",
       "3           0201       HARRIS   77076  7136445566        NaN      N    BOWERS   \n",
       "4           0027         BELL   76511  2549852228        NaN      N    DEMSKY   \n",
       "\n",
       "  FIRSTNAME  \n",
       "0       JIM  \n",
       "1       JON  \n",
       "2      JUAN  \n",
       "3     JAMES  \n",
       "4      JOHN  \n",
       "\n",
       "[5 rows x 21 columns]"
      ]
     },
     "execution_count": 126,
     "metadata": {},
     "output_type": "execute_result"
    }
   ],
   "source": [
    "df.head()"
   ]
  },
  {
   "cell_type": "markdown",
   "metadata": {},
   "source": [
    "What do their names look like?"
   ]
  },
  {
   "cell_type": "code",
   "execution_count": 135,
   "metadata": {},
   "outputs": [
    {
     "data": {
      "text/plain": [
       "False    595212\n",
       "True       2604\n",
       "Name: FIRSTNAME, dtype: int64"
      ]
     },
     "execution_count": 135,
     "metadata": {},
     "output_type": "execute_result"
    }
   ],
   "source": [
    "df.FIRSTNAME.isna().value_counts()"
   ]
  },
  {
   "cell_type": "markdown",
   "metadata": {},
   "source": [
    "## 24. If it's a problem, you can fix it (if you'd like!)\n",
    "\n",
    "Maybe you have another regular expression that works better with JUST these people? It really depends on how you've put together your previous regex!\n",
    "\n",
    "If you'd like to use a separate regex for this group, you can use code like this:\n",
    "\n",
    "`df.loc[df.FIRSTNAME.isnull(), 'FIRSTNAME'] = .....`\n",
    "\n",
    "That will only set the `FIRSTNAME` for people where `FIRSTNAME` is null."
   ]
  },
  {
   "cell_type": "code",
   "execution_count": null,
   "metadata": {},
   "outputs": [],
   "source": []
  },
  {
   "cell_type": "markdown",
   "metadata": {},
   "source": [
    "How many empty first names do we have now?"
   ]
  },
  {
   "cell_type": "code",
   "execution_count": null,
   "metadata": {},
   "outputs": [],
   "source": []
  },
  {
   "cell_type": "markdown",
   "metadata": {},
   "source": [
    "My code before only worked for people with middle names, but now it got people without middle names, too. Looking much better!"
   ]
  },
  {
   "cell_type": "markdown",
   "metadata": {},
   "source": [
    "## 25. Most popular first names?"
   ]
  },
  {
   "cell_type": "code",
   "execution_count": 136,
   "metadata": {},
   "outputs": [
    {
     "data": {
      "text/plain": [
       "JOSE       7213\n",
       "MICHAEL    5819\n",
       "DAVID      5280\n",
       "NAILS      5024\n",
       "MARIA      5001\n",
       "Name: FIRSTNAME, dtype: int64"
      ]
     },
     "execution_count": 136,
     "metadata": {},
     "output_type": "execute_result"
    }
   ],
   "source": [
    "df.FIRSTNAME.value_counts().head()"
   ]
  },
  {
   "cell_type": "markdown",
   "metadata": {},
   "source": [
    "## 26. Most popular first names for a Cosmetology Operator, Cosmetology Esthetician, Cosmetologist, and okay honestly anything that seems similar?\n",
    "\n",
    "If you get an error about \"cannot index vector containing NA / NaN values\" remember `.fillna(False)` - if a row doesn't have a license, it doesn't give a `True`/`False`, so we force all of the empty rows to be `False`."
   ]
  },
  {
   "cell_type": "code",
   "execution_count": 137,
   "metadata": {},
   "outputs": [
    {
     "data": {
      "text/plain": [
       "NAILS     4845\n",
       "MARIA     4500\n",
       "HAIR      3284\n",
       "BEAUTY    2716\n",
       "SALON     2163\n",
       "Name: FIRSTNAME, dtype: int64"
      ]
     },
     "execution_count": 137,
     "metadata": {},
     "output_type": "execute_result"
    }
   ],
   "source": [
    "df[df.LICTYPE.str.contains(\"Cosmetology\", na = False)].FIRSTNAME.value_counts().head()\n",
    "\n",
    "# df[df.Other_Race.str.contains(\"HISP\", na=False)].Other_Race.value_counts()\n",
    "\n"
   ]
  },
  {
   "cell_type": "markdown",
   "metadata": {},
   "source": [
    "## 27. Most popular first names for anything involving electricity?"
   ]
  },
  {
   "cell_type": "code",
   "execution_count": 138,
   "metadata": {},
   "outputs": [
    {
     "data": {
      "text/plain": [
       "JOSE        5290\n",
       "ELECTRIC    3807\n",
       "MICHAEL     3504\n",
       "DAVID       3242\n",
       "JUAN        3077\n",
       "Name: FIRSTNAME, dtype: int64"
      ]
     },
     "execution_count": 138,
     "metadata": {},
     "output_type": "execute_result"
    }
   ],
   "source": [
    "df[df.LICTYPE.str.contains(\"Electr\", na = False)].FIRSTNAME.value_counts().head()"
   ]
  },
  {
   "cell_type": "markdown",
   "metadata": {},
   "source": [
    "## 28. Can we be any more obnoxious in this assignment?\n",
    "\n",
    "Not only are we going to detect gender from first names, but we're also going to use a library that has the terrible name of [sex machine](https://github.com/ferhatelmas/sexmachine/). Once upon a time there was Ruby package named sex machine and everyone was like \"come on are you six years old? is this how we do things?\" and the guy was like \"you're completely right I'm renaming it to [gender detector](https://github.com/bmuller/gender_detector)\" and the world was Nice and Good again. Apparently Python didn't get the message.\n",
    "\n",
    "Except actually sexmachine doesn't work on Python 3 because it's from 300 BC so we're going to use a Python 3 fork called [gender guesser](https://pypi.python.org/pypi/gender-guesser/) (hooray!).\n",
    "\n",
    "#### Use `pip` or `pip3` to install gender-guesser."
   ]
  },
  {
   "cell_type": "code",
   "execution_count": null,
   "metadata": {},
   "outputs": [],
   "source": [
    "!pip install gender-guesser"
   ]
  },
  {
   "cell_type": "markdown",
   "metadata": {},
   "source": [
    "#### Test to see that it works"
   ]
  },
  {
   "cell_type": "code",
   "execution_count": null,
   "metadata": {},
   "outputs": [],
   "source": [
    "import gender_guesser.detector as gender\n",
    "\n",
    "detector = gender.Detector(case_sensitive=False)\n",
    "detector.get_gender('David')"
   ]
  },
  {
   "cell_type": "code",
   "execution_count": null,
   "metadata": {},
   "outputs": [],
   "source": [
    "detector.get_gender('Jose')"
   ]
  },
  {
   "cell_type": "code",
   "execution_count": null,
   "metadata": {},
   "outputs": [],
   "source": [
    "detector.get_gender('Maria')"
   ]
  },
  {
   "cell_type": "markdown",
   "metadata": {},
   "source": [
    "#### Use it on a dataframe\n",
    "\n",
    "To use something fancy like that on a dataframe, you use `.apply`. Check it out: "
   ]
  },
  {
   "cell_type": "code",
   "execution_count": null,
   "metadata": {},
   "outputs": [],
   "source": [
    "df['FIRSTNAME'].fillna('').apply(lambda name: detector.get_gender(name)).head()"
   ]
  },
  {
   "cell_type": "markdown",
   "metadata": {},
   "source": [
    "## 29. Calculate the gender of everyone's first name and save it to a column\n",
    "\n",
    "Confirm by see how many people of each gender we have"
   ]
  },
  {
   "cell_type": "code",
   "execution_count": null,
   "metadata": {},
   "outputs": [],
   "source": []
  },
  {
   "cell_type": "code",
   "execution_count": null,
   "metadata": {},
   "outputs": [],
   "source": []
  },
  {
   "cell_type": "markdown",
   "metadata": {},
   "source": [
    "## 30. We like taking risks - get rid of ambiguity\n",
    "\n",
    "* Combine the `mostly_female` into `female` \n",
    "* Combine the `mostly_male` into `male`\n",
    "* Replace `andy` (androgynous) and `unknown` with `NaN`\n",
    "\n",
    "you can get NaN not by making a string, but with `import numpy as np` and then using `np.nan`."
   ]
  },
  {
   "cell_type": "code",
   "execution_count": null,
   "metadata": {},
   "outputs": [],
   "source": [
    "import numpy as np\n",
    "\n"
   ]
  },
  {
   "cell_type": "markdown",
   "metadata": {},
   "source": [
    "## 31. Do men or women have more licenses? What is the percentage of unknown genders?"
   ]
  },
  {
   "cell_type": "code",
   "execution_count": null,
   "metadata": {},
   "outputs": [],
   "source": []
  },
  {
   "cell_type": "code",
   "execution_count": null,
   "metadata": {},
   "outputs": [],
   "source": []
  },
  {
   "cell_type": "markdown",
   "metadata": {},
   "source": [
    "## 32. What are the popular unknown- or ambiguous gender first names?\n",
    "\n",
    "Yours might be different! Mine is a combination of actual ambiguity, cultural bias and dirty data."
   ]
  },
  {
   "cell_type": "code",
   "execution_count": null,
   "metadata": {},
   "outputs": [],
   "source": []
  },
  {
   "cell_type": "markdown",
   "metadata": {},
   "source": [
    "## 31. What are the most popular licenses for men? For women?"
   ]
  },
  {
   "cell_type": "code",
   "execution_count": null,
   "metadata": {},
   "outputs": [],
   "source": []
  },
  {
   "cell_type": "code",
   "execution_count": null,
   "metadata": {},
   "outputs": [],
   "source": []
  },
  {
   "cell_type": "markdown",
   "metadata": {},
   "source": [
    "## 32. What is the gender breakdown for Property Tax Appraiser? How about anything involving Tow Trucks?\n",
    "\n",
    "If you're in need, remember your good friend `.fillna(False)` to get rid of NaN values."
   ]
  },
  {
   "cell_type": "code",
   "execution_count": null,
   "metadata": {},
   "outputs": [],
   "source": []
  },
  {
   "cell_type": "code",
   "execution_count": null,
   "metadata": {},
   "outputs": [],
   "source": []
  },
  {
   "cell_type": "markdown",
   "metadata": {},
   "source": [
    "(By the way, what are those tow truck jobs?)"
   ]
  },
  {
   "cell_type": "code",
   "execution_count": null,
   "metadata": {},
   "outputs": [],
   "source": []
  },
  {
   "cell_type": "markdown",
   "metadata": {},
   "source": [
    "## 33. Graph them!\n",
    "\n",
    "And let's **give them titles** so we know which is which."
   ]
  },
  {
   "cell_type": "code",
   "execution_count": null,
   "metadata": {},
   "outputs": [],
   "source": []
  },
  {
   "cell_type": "code",
   "execution_count": null,
   "metadata": {},
   "outputs": [],
   "source": []
  },
  {
   "cell_type": "markdown",
   "metadata": {},
   "source": [
    "## 34. Calcuate the gender bias for profession\n",
    "\n",
    "I spent like an hour on this and then realized a super easy way to do it. Welcome to programming! I'll do this part for you."
   ]
  },
  {
   "cell_type": "code",
   "execution_count": null,
   "metadata": {},
   "outputs": [],
   "source": [
    "# So when you do .value_counts(), it gives you an index and a value\n",
    "df[df['GENDER'] == 'male'].LICTYPE.value_counts().head()"
   ]
  },
  {
   "cell_type": "markdown",
   "metadata": {},
   "source": [
    "We did `pd.concat` to combine dataframes, but you can also use it to combine series (like the results of `value_counts()`). If you give it a few `value_counts()` and give it some column names it'll make something real nice."
   ]
  },
  {
   "cell_type": "code",
   "execution_count": null,
   "metadata": {},
   "outputs": [],
   "source": [
    "# All of the values_counts() we will be combining\n",
    "vc_series = [\n",
    "    df[df['GENDER'] == 'male'].LICTYPE.value_counts(),\n",
    "    df[df['GENDER'] == 'female'].LICTYPE.value_counts(),\n",
    "    df[df['GENDER'].isnull()].LICTYPE.value_counts()\n",
    "]\n",
    "# You need axis=1 so it combines them as columns\n",
    "gender_df = pd.concat(vc_series, axis=1)\n",
    "gender_df.head()"
   ]
  },
  {
   "cell_type": "code",
   "execution_count": null,
   "metadata": {},
   "outputs": [],
   "source": [
    "# Turn \"A/C Contractor\" etc into an actual column instead of an index\n",
    "gender_df.reset_index(inplace=True)\n",
    "gender_df.head()"
   ]
  },
  {
   "cell_type": "code",
   "execution_count": null,
   "metadata": {},
   "outputs": [],
   "source": [
    "# Rename the columns appropriately\n",
    "gender_df.columns = [\"license\", \"male\", \"female\", \"unknown\"]\n",
    "# Clean up the NaN by replacing them with zeroes\n",
    "gender_df.fillna(0, inplace=True)\n",
    "gender_df.head()"
   ]
  },
  {
   "cell_type": "markdown",
   "metadata": {},
   "source": [
    "## 35. Add new columns for total licenses, percent known (not percent unknown!), percent male (of known), percent female (of known)\n",
    "\n",
    "And replace any `NaN`s with `0`."
   ]
  },
  {
   "cell_type": "code",
   "execution_count": null,
   "metadata": {},
   "outputs": [],
   "source": []
  },
  {
   "cell_type": "markdown",
   "metadata": {},
   "source": [
    "## 35. What 10 licenses with more than 2,000 people and over 75% known has the most male owners? The most female?"
   ]
  },
  {
   "cell_type": "code",
   "execution_count": null,
   "metadata": {},
   "outputs": [],
   "source": []
  },
  {
   "cell_type": "code",
   "execution_count": null,
   "metadata": {},
   "outputs": [],
   "source": []
  },
  {
   "cell_type": "markdown",
   "metadata": {},
   "source": [
    "## 36. Let's say you have to call a few people about being in a profession dominated by the other gender. What are their phone numbers?\n",
    "\n",
    "This will involve doing some research in one dataframe, then the other one. I didn't put an answer here because I'm interested in what you come up with!"
   ]
  },
  {
   "cell_type": "code",
   "execution_count": null,
   "metadata": {},
   "outputs": [],
   "source": []
  },
  {
   "cell_type": "code",
   "execution_count": null,
   "metadata": {},
   "outputs": [],
   "source": []
  },
  {
   "cell_type": "markdown",
   "metadata": {},
   "source": [
    "## PART FIVE: Violations\n",
    "\n",
    "### 37. Read in **violations.csv** as `violations_df`, make sure it looks right"
   ]
  },
  {
   "cell_type": "code",
   "execution_count": null,
   "metadata": {},
   "outputs": [],
   "source": []
  },
  {
   "cell_type": "markdown",
   "metadata": {},
   "source": [
    "### 38. Combine with your original licenses dataset dataframe to get phone numbers and addresses for each violation. Check that it is 90 rows, 28 columns."
   ]
  },
  {
   "cell_type": "code",
   "execution_count": null,
   "metadata": {},
   "outputs": [],
   "source": []
  },
  {
   "cell_type": "code",
   "execution_count": null,
   "metadata": {},
   "outputs": [],
   "source": []
  },
  {
   "cell_type": "markdown",
   "metadata": {},
   "source": [
    "## 39. Find each violation involving a failure with records. Use a regular expression."
   ]
  },
  {
   "cell_type": "code",
   "execution_count": null,
   "metadata": {},
   "outputs": [],
   "source": []
  },
  {
   "cell_type": "markdown",
   "metadata": {},
   "source": [
    "## 40. How much money was each fine? Use a regular expression and .str.extract (we talked about it before!)\n",
    "\n",
    "Unfortunately large and helpful troubleshooting tip: `$` means \"end of a line\" in regex, so `.extract` isn't going to accept it as a dollar sign. You need to escape it by using `\\$` instead."
   ]
  },
  {
   "cell_type": "code",
   "execution_count": null,
   "metadata": {},
   "outputs": [],
   "source": []
  },
  {
   "cell_type": "markdown",
   "metadata": {},
   "source": [
    "## 41. Clean those results (no commas, no dollar signs, and it should be an integer) and save it to a new column called `fine`\n",
    "\n",
    "`.replace` is for *entire cells*, you're interested in `.str.replace`, which treats each value like a string, not like a... pandas thing.\n",
    "\n",
    "`.astype(int)` will convert it into an integer for you."
   ]
  },
  {
   "cell_type": "code",
   "execution_count": null,
   "metadata": {},
   "outputs": [],
   "source": []
  },
  {
   "cell_type": "markdown",
   "metadata": {},
   "source": [
    "## 42. Which orders results in the top fines?"
   ]
  },
  {
   "cell_type": "code",
   "execution_count": null,
   "metadata": {},
   "outputs": [],
   "source": []
  },
  {
   "cell_type": "markdown",
   "metadata": {},
   "source": [
    "## 43. Are you still here???\n",
    "\n",
    "I'm sure impressed."
   ]
  },
  {
   "cell_type": "code",
   "execution_count": null,
   "metadata": {},
   "outputs": [],
   "source": []
  }
 ],
 "metadata": {
  "kernelspec": {
   "display_name": "Python 3",
   "language": "python",
   "name": "python3"
  },
  "language_info": {
   "codemirror_mode": {
    "name": "ipython",
    "version": 3
   },
   "file_extension": ".py",
   "mimetype": "text/x-python",
   "name": "python",
   "nbconvert_exporter": "python",
   "pygments_lexer": "ipython3",
   "version": "3.7.3"
  }
 },
 "nbformat": 4,
 "nbformat_minor": 2
}
