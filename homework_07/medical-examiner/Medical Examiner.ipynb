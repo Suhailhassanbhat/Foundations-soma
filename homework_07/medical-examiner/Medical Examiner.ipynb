{
 "cells": [
  {
   "cell_type": "markdown",
   "metadata": {},
   "source": [
    "# Medical Examiner Case Archives\n",
    "\n",
    "Cook County (Chicago) medical examiner records, taken from [here](https://datacatalog.cookcountyil.gov/Public-Safety/Medical-Examiner-Case-Archive/cjeq-bs86) after discovery via [Data is Plural](https://tinyletter.com/data-is-plural)."
   ]
  },
  {
   "cell_type": "markdown",
   "metadata": {},
   "source": [
    "## Do your importing/setup"
   ]
  },
  {
   "cell_type": "code",
   "execution_count": 1,
   "metadata": {},
   "outputs": [],
   "source": [
    "import pandas as pd\n",
    "%matplotlib inline"
   ]
  },
  {
   "cell_type": "markdown",
   "metadata": {},
   "source": [
    "## Read in the data, check its row count and column types"
   ]
  },
  {
   "cell_type": "code",
   "execution_count": 2,
   "metadata": {},
   "outputs": [
    {
     "data": {
      "text/html": [
       "<div>\n",
       "<style scoped>\n",
       "    .dataframe tbody tr th:only-of-type {\n",
       "        vertical-align: middle;\n",
       "    }\n",
       "\n",
       "    .dataframe tbody tr th {\n",
       "        vertical-align: top;\n",
       "    }\n",
       "\n",
       "    .dataframe thead th {\n",
       "        text-align: right;\n",
       "    }\n",
       "</style>\n",
       "<table border=\"1\" class=\"dataframe\">\n",
       "  <thead>\n",
       "    <tr style=\"text-align: right;\">\n",
       "      <th></th>\n",
       "      <th>Case Number</th>\n",
       "      <th>Date of Incident</th>\n",
       "      <th>Date of Death</th>\n",
       "      <th>Age</th>\n",
       "      <th>Gender</th>\n",
       "      <th>Race</th>\n",
       "      <th>Latino</th>\n",
       "      <th>Manner of Death</th>\n",
       "      <th>Primary Cause</th>\n",
       "      <th>Primary Cause Line B</th>\n",
       "      <th>Primary Cause Line C</th>\n",
       "      <th>Secondary Cause</th>\n",
       "      <th>Gun Related</th>\n",
       "      <th>Opioid Related</th>\n",
       "      <th>Incident Address</th>\n",
       "      <th>Incident City</th>\n",
       "      <th>longitude</th>\n",
       "      <th>latitude</th>\n",
       "      <th>OBJECTID</th>\n",
       "      <th>location</th>\n",
       "    </tr>\n",
       "  </thead>\n",
       "  <tbody>\n",
       "    <tr>\n",
       "      <th>0</th>\n",
       "      <td>ME2017-04255</td>\n",
       "      <td>09/10/2017 08:28:00 PM</td>\n",
       "      <td>09/10/2017 08:51:00 PM</td>\n",
       "      <td>51.0</td>\n",
       "      <td>1.0</td>\n",
       "      <td>5.0</td>\n",
       "      <td>False</td>\n",
       "      <td>NaN</td>\n",
       "      <td>NaN</td>\n",
       "      <td>NaN</td>\n",
       "      <td>NaN</td>\n",
       "      <td>NaN</td>\n",
       "      <td>NaN</td>\n",
       "      <td>NaN</td>\n",
       "      <td>NaN</td>\n",
       "      <td>NaN</td>\n",
       "      <td>NaN</td>\n",
       "      <td>NaN</td>\n",
       "      <td>20468</td>\n",
       "      <td>NaN</td>\n",
       "    </tr>\n",
       "    <tr>\n",
       "      <th>1</th>\n",
       "      <td>ME2018-02149</td>\n",
       "      <td>05/05/2018 06:30:00 AM</td>\n",
       "      <td>05/05/2018 06:41:00 AM</td>\n",
       "      <td>65.0</td>\n",
       "      <td>1.0</td>\n",
       "      <td>5.0</td>\n",
       "      <td>False</td>\n",
       "      <td>NaN</td>\n",
       "      <td>NaN</td>\n",
       "      <td>NaN</td>\n",
       "      <td>NaN</td>\n",
       "      <td>NaN</td>\n",
       "      <td>NaN</td>\n",
       "      <td>NaN</td>\n",
       "      <td>2110 W. 21ST PL #1</td>\n",
       "      <td>CHICAGO</td>\n",
       "      <td>-87.678845</td>\n",
       "      <td>41.853279</td>\n",
       "      <td>77827</td>\n",
       "      <td>(41.8532787, -87.6788449)</td>\n",
       "    </tr>\n",
       "    <tr>\n",
       "      <th>2</th>\n",
       "      <td>ME2018-02154</td>\n",
       "      <td>04/26/2018 08:29:00 AM</td>\n",
       "      <td>05/05/2018 04:45:00 AM</td>\n",
       "      <td>95.0</td>\n",
       "      <td>1.0</td>\n",
       "      <td>5.0</td>\n",
       "      <td>False</td>\n",
       "      <td>NaN</td>\n",
       "      <td>NaN</td>\n",
       "      <td>NaN</td>\n",
       "      <td>NaN</td>\n",
       "      <td>NaN</td>\n",
       "      <td>NaN</td>\n",
       "      <td>NaN</td>\n",
       "      <td>20704 S Woodlawn Ct</td>\n",
       "      <td>FRANKFORT</td>\n",
       "      <td>NaN</td>\n",
       "      <td>NaN</td>\n",
       "      <td>77839</td>\n",
       "      <td>NaN</td>\n",
       "    </tr>\n",
       "    <tr>\n",
       "      <th>3</th>\n",
       "      <td>ME2018-02156</td>\n",
       "      <td>05/05/2018 12:00:00 PM</td>\n",
       "      <td>05/05/2018 12:25:00 PM</td>\n",
       "      <td>64.0</td>\n",
       "      <td>0.0</td>\n",
       "      <td>5.0</td>\n",
       "      <td>False</td>\n",
       "      <td>NaN</td>\n",
       "      <td>NaN</td>\n",
       "      <td>NaN</td>\n",
       "      <td>NaN</td>\n",
       "      <td>NaN</td>\n",
       "      <td>NaN</td>\n",
       "      <td>NaN</td>\n",
       "      <td>4008 W. BERTEAU AVENUE,  APT #1</td>\n",
       "      <td>CHICAGO</td>\n",
       "      <td>-87.728177</td>\n",
       "      <td>41.957468</td>\n",
       "      <td>77823</td>\n",
       "      <td>(41.9574677, -87.7281769)</td>\n",
       "    </tr>\n",
       "    <tr>\n",
       "      <th>4</th>\n",
       "      <td>ME2018-02158</td>\n",
       "      <td>05/05/2018 09:30:00 AM</td>\n",
       "      <td>05/05/2018 09:50:00 AM</td>\n",
       "      <td>61.0</td>\n",
       "      <td>1.0</td>\n",
       "      <td>2.0</td>\n",
       "      <td>False</td>\n",
       "      <td>NaN</td>\n",
       "      <td>NaN</td>\n",
       "      <td>NaN</td>\n",
       "      <td>NaN</td>\n",
       "      <td>NaN</td>\n",
       "      <td>NaN</td>\n",
       "      <td>NaN</td>\n",
       "      <td>3947 W. LEXINGTON STREET</td>\n",
       "      <td>CHICAGO</td>\n",
       "      <td>-87.724739</td>\n",
       "      <td>41.871451</td>\n",
       "      <td>77822</td>\n",
       "      <td>(41.8714515, -87.7247386)</td>\n",
       "    </tr>\n",
       "  </tbody>\n",
       "</table>\n",
       "</div>"
      ],
      "text/plain": [
       "    Case Number        Date of Incident           Date of Death   Age  Gender  \\\n",
       "0  ME2017-04255  09/10/2017 08:28:00 PM  09/10/2017 08:51:00 PM  51.0     1.0   \n",
       "1  ME2018-02149  05/05/2018 06:30:00 AM  05/05/2018 06:41:00 AM  65.0     1.0   \n",
       "2  ME2018-02154  04/26/2018 08:29:00 AM  05/05/2018 04:45:00 AM  95.0     1.0   \n",
       "3  ME2018-02156  05/05/2018 12:00:00 PM  05/05/2018 12:25:00 PM  64.0     0.0   \n",
       "4  ME2018-02158  05/05/2018 09:30:00 AM  05/05/2018 09:50:00 AM  61.0     1.0   \n",
       "\n",
       "   Race  Latino Manner of Death Primary Cause Primary Cause Line B  \\\n",
       "0   5.0   False             NaN           NaN                  NaN   \n",
       "1   5.0   False             NaN           NaN                  NaN   \n",
       "2   5.0   False             NaN           NaN                  NaN   \n",
       "3   5.0   False             NaN           NaN                  NaN   \n",
       "4   2.0   False             NaN           NaN                  NaN   \n",
       "\n",
       "  Primary Cause Line C Secondary Cause Gun Related Opioid Related  \\\n",
       "0                  NaN             NaN         NaN            NaN   \n",
       "1                  NaN             NaN         NaN            NaN   \n",
       "2                  NaN             NaN         NaN            NaN   \n",
       "3                  NaN             NaN         NaN            NaN   \n",
       "4                  NaN             NaN         NaN            NaN   \n",
       "\n",
       "                  Incident Address Incident City  longitude   latitude  \\\n",
       "0                              NaN           NaN        NaN        NaN   \n",
       "1               2110 W. 21ST PL #1       CHICAGO -87.678845  41.853279   \n",
       "2              20704 S Woodlawn Ct     FRANKFORT        NaN        NaN   \n",
       "3  4008 W. BERTEAU AVENUE,  APT #1       CHICAGO -87.728177  41.957468   \n",
       "4         3947 W. LEXINGTON STREET       CHICAGO -87.724739  41.871451   \n",
       "\n",
       "   OBJECTID                   location  \n",
       "0     20468                        NaN  \n",
       "1     77827  (41.8532787, -87.6788449)  \n",
       "2     77839                        NaN  \n",
       "3     77823  (41.9574677, -87.7281769)  \n",
       "4     77822  (41.8714515, -87.7247386)  "
      ]
     },
     "execution_count": 2,
     "metadata": {},
     "output_type": "execute_result"
    }
   ],
   "source": [
    "df = pd.read_csv(\"case-archive-encoded.csv\", na_values = -1)\n",
    "df.head()"
   ]
  },
  {
   "cell_type": "code",
   "execution_count": 3,
   "metadata": {},
   "outputs": [
    {
     "data": {
      "text/plain": [
       "(22634, 20)"
      ]
     },
     "execution_count": 3,
     "metadata": {},
     "output_type": "execute_result"
    }
   ],
   "source": [
    "df.shape"
   ]
  },
  {
   "cell_type": "code",
   "execution_count": 4,
   "metadata": {},
   "outputs": [
    {
     "data": {
      "text/plain": [
       "Case Number              object\n",
       "Date of Incident         object\n",
       "Date of Death            object\n",
       "Age                     float64\n",
       "Gender                  float64\n",
       "Race                    float64\n",
       "Latino                     bool\n",
       "Manner of Death          object\n",
       "Primary Cause            object\n",
       "Primary Cause Line B     object\n",
       "Primary Cause Line C     object\n",
       "Secondary Cause          object\n",
       "Gun Related              object\n",
       "Opioid Related           object\n",
       "Incident Address         object\n",
       "Incident City            object\n",
       "longitude               float64\n",
       "latitude                float64\n",
       "OBJECTID                  int64\n",
       "location                 object\n",
       "dtype: object"
      ]
     },
     "execution_count": 4,
     "metadata": {},
     "output_type": "execute_result"
    }
   ],
   "source": [
    "df.dtypes"
   ]
  },
  {
   "cell_type": "markdown",
   "metadata": {},
   "source": [
    "## Cleaning up your data\n",
    "\n",
    "First you'll want to convert the `Race` and `Gender` columns from codes into actual text to make analysis easier.\n",
    "\n",
    "### Gender codes\n",
    "\n",
    "* `-1` - `Data missing`\n",
    "* `0` - `Female`\n",
    "* `1` - `Male`\n",
    "* `2` - `Unknown`\n",
    "\n",
    "### Race codes\n",
    "\n",
    "* `-1` - `Data missing`\n",
    "* `0` - `American Indian`\n",
    "* `1` - `Asian`\n",
    "* `2` - `Black`\n",
    "* `3` - `Other`\n",
    "* `4` - `Unknown`\n",
    "* `5` - `White`"
   ]
  },
  {
   "cell_type": "code",
   "execution_count": 5,
   "metadata": {},
   "outputs": [
    {
     "data": {
      "text/plain": [
       "Male       16158\n",
       "Female      6363\n",
       "Unknown       12\n",
       "Name: Gender, dtype: int64"
      ]
     },
     "execution_count": 5,
     "metadata": {},
     "output_type": "execute_result"
    }
   ],
   "source": [
    "df.Gender.replace({\n",
    "    0 : \"Female\",\n",
    "    1 : \"Male\",\n",
    "    2 : \"Unknown\"\n",
    "}, inplace = True)\n",
    "\n",
    "df.Gender.value_counts()"
   ]
  },
  {
   "cell_type": "code",
   "execution_count": 6,
   "metadata": {},
   "outputs": [
    {
     "data": {
      "text/plain": [
       "White              12490\n",
       "Black               9366\n",
       "Asian                342\n",
       "Other                269\n",
       "Unknown               28\n",
       "American Indian       15\n",
       "Name: Race, dtype: int64"
      ]
     },
     "execution_count": 6,
     "metadata": {},
     "output_type": "execute_result"
    }
   ],
   "source": [
    "df.Race.replace({\n",
    "    0 : \"American Indian\",\n",
    "    1 : \"Asian\",\n",
    "    2 : \"Black\",\n",
    "    3 : \"Other\",\n",
    "    4 : \"Unknown\",\n",
    "    5 : \"White\"\n",
    "}, inplace = True)\n",
    "\n",
    "df.Race.value_counts()"
   ]
  },
  {
   "cell_type": "markdown",
   "metadata": {},
   "source": [
    "## What percent of the dataset is men, and what percent is women?\n",
    "\n",
    "It should display as **Male** and **Female**, not as numbers."
   ]
  },
  {
   "cell_type": "code",
   "execution_count": 9,
   "metadata": {},
   "outputs": [
    {
     "data": {
      "text/plain": [
       "Male      0.717464\n",
       "Female    0.282536\n",
       "Name: Gender, dtype: float64"
      ]
     },
     "execution_count": 9,
     "metadata": {},
     "output_type": "execute_result"
    }
   ],
   "source": [
    "df.Gender.value_counts(normalize = True)"
   ]
  },
  {
   "cell_type": "markdown",
   "metadata": {},
   "source": [
    "## Getting rid of \"Data missing\"\n",
    "\n",
    "`Unknown` means that officially the gender or race is unknown, while `Data missing` means the record is incomplete. That means \"Data missing\" should have been `NaN`!\n",
    "\n",
    "Go back to your `read_csv` many cells before and make it so that \"Data missing\" is automatically set as `NaN`.\n",
    "\n",
    "- *Tip: Do not use `.replace` for this one!*\n",
    "- *Tip: Look at the options for `read_csv`, there's something that lets you specify missing values*\n",
    "- *Tip: It isn't `\"Data missing\"` - think about how you already replaced*\n",
    "- *Tip: Be sure you're using an array when you tell it what the 'missing' options are*\n",
    "\n",
    "### After you've done this, re-run all of the the previous cells and confirm that `\"Data missing\"` does not exist any more"
   ]
  },
  {
   "cell_type": "markdown",
   "metadata": {},
   "source": [
    "## What is the most common race in the dataset? We want percentages.\n",
    "\n",
    "We'll come back to this later, I'm just having you check the column for now."
   ]
  },
  {
   "cell_type": "code",
   "execution_count": 10,
   "metadata": {},
   "outputs": [
    {
     "data": {
      "text/plain": [
       "White              55.486450\n",
       "Black              41.608174\n",
       "Asian               1.519325\n",
       "Other               1.195024\n",
       "Unknown             0.124389\n",
       "American Indian     0.066637\n",
       "Name: Race, dtype: float64"
      ]
     },
     "execution_count": 10,
     "metadata": {},
     "output_type": "execute_result"
    }
   ],
   "source": [
    "df.Race.value_counts(normalize = True)*100"
   ]
  },
  {
   "cell_type": "markdown",
   "metadata": {},
   "source": [
    "## Do a `.value_counts()` on the `Opioid Related` column"
   ]
  },
  {
   "cell_type": "code",
   "execution_count": 13,
   "metadata": {},
   "outputs": [
    {
     "data": {
      "text/plain": [
       "True    3378\n",
       "Name: Opioid Related, dtype: int64"
      ]
     },
     "execution_count": 13,
     "metadata": {},
     "output_type": "execute_result"
    }
   ],
   "source": [
    "df['Opioid Related'].value_counts()"
   ]
  },
  {
   "cell_type": "markdown",
   "metadata": {},
   "source": [
    "## That's weird. Did everyone die from opioids? Try again, but including missing data."
   ]
  },
  {
   "cell_type": "code",
   "execution_count": 15,
   "metadata": {},
   "outputs": [
    {
     "data": {
      "text/plain": [
       "NaN     19256\n",
       "True     3378\n",
       "Name: Opioid Related, dtype: int64"
      ]
     },
     "execution_count": 15,
     "metadata": {},
     "output_type": "execute_result"
    }
   ],
   "source": [
    "df['Opioid Related'].value_counts(dropna = False)"
   ]
  },
  {
   "cell_type": "markdown",
   "metadata": {},
   "source": [
    "## Cleaning up True/False columns\n",
    "\n",
    "For some reason in this dataset, the True/False columns are either `True` or `NaN`. `NaN` causes a lot of problems, I'd rather have it be false.\n",
    "\n",
    "You can use [`fillna`](http://pandas.pydata.org/pandas-docs/version/0.22/generated/pandas.DataFrame.fillna.html) to fill in empty data - it's like `.replace` but for `NaN`.\n",
    "\n",
    "### Replace all `NaN` values with `False` for the \"Gun Related\" and \"Opioid Related\" columns."
   ]
  },
  {
   "cell_type": "code",
   "execution_count": 22,
   "metadata": {},
   "outputs": [],
   "source": [
    "df['Opioid Related'].fillna(value = False, inplace = True)\n",
    "df['Gun Related'].fillna(value = False, inplace = True)"
   ]
  },
  {
   "cell_type": "markdown",
   "metadata": {},
   "source": [
    "### Do another value counts on Opioid Related to make sure it has both True and False values"
   ]
  },
  {
   "cell_type": "code",
   "execution_count": 23,
   "metadata": {},
   "outputs": [
    {
     "data": {
      "text/plain": [
       "False    19256\n",
       "True      3378\n",
       "Name: Opioid Related, dtype: int64"
      ]
     },
     "execution_count": 23,
     "metadata": {},
     "output_type": "execute_result"
    }
   ],
   "source": [
    "df['Opioid Related'].value_counts(dropna = False)"
   ]
  },
  {
   "cell_type": "markdown",
   "metadata": {},
   "source": [
    "# Back to analysis!"
   ]
  },
  {
   "cell_type": "markdown",
   "metadata": {},
   "source": [
    "## What's the average age people were when they died?"
   ]
  },
  {
   "cell_type": "code",
   "execution_count": 26,
   "metadata": {},
   "outputs": [
    {
     "data": {
      "text/plain": [
       "53.0"
      ]
     },
     "execution_count": 26,
     "metadata": {},
     "output_type": "execute_result"
    }
   ],
   "source": [
    "df.Age.median()"
   ]
  },
  {
   "cell_type": "markdown",
   "metadata": {},
   "source": [
    "## Let's look at how the oldest people died\n",
    "\n",
    "We're just going to browse. Read through how the **oldest 30 people died.**"
   ]
  },
  {
   "cell_type": "code",
   "execution_count": 27,
   "metadata": {},
   "outputs": [
    {
     "data": {
      "text/plain": [
       "17602    106.0\n",
       "21142    106.0\n",
       "12106    105.0\n",
       "8653     103.0\n",
       "9376     103.0\n",
       "4942     103.0\n",
       "9904     101.0\n",
       "5621     101.0\n",
       "14697    101.0\n",
       "8656     101.0\n",
       "13498    101.0\n",
       "11558    101.0\n",
       "4015     100.0\n",
       "7898     100.0\n",
       "5817     100.0\n",
       "8780     100.0\n",
       "14044    100.0\n",
       "17142    100.0\n",
       "10335    100.0\n",
       "798      100.0\n",
       "3985     100.0\n",
       "4239     100.0\n",
       "13696    100.0\n",
       "9859     100.0\n",
       "17789    100.0\n",
       "2610     100.0\n",
       "13113     99.0\n",
       "914       99.0\n",
       "9357      99.0\n",
       "16286     99.0\n",
       "Name: Age, dtype: float64"
      ]
     },
     "execution_count": 27,
     "metadata": {},
     "output_type": "execute_result"
    }
   ],
   "source": [
    "df.Age.sort_values(ascending = False).head(30)"
   ]
  },
  {
   "cell_type": "markdown",
   "metadata": {},
   "source": [
    "## Seems like a lot of problems with fractures\n",
    "\n",
    "### What's the median age of someone dying from a cause that involves a fracture?\n",
    "\n",
    "Are fractures especially dangerous for the elderly?\n",
    "\n",
    "- *Tip: Filter for a cause that involves a fracture, then take the median age*\n",
    "- *Tip: If you get a \"cannot index NA values\" error, the problem is it's trying to search `NaN` values and doesn't know what to do with them. You need to tell pandas to count `NaN` as false by setting another option - it isn't `NaN=False`, but it's close!*"
   ]
  },
  {
   "cell_type": "code",
   "execution_count": 41,
   "metadata": {},
   "outputs": [
    {
     "data": {
      "text/plain": [
       "86.0"
      ]
     },
     "execution_count": 41,
     "metadata": {},
     "output_type": "execute_result"
    }
   ],
   "source": [
    "death_by_fracs = df[(df['Primary Cause'].str.contains(\"fract\", case = False, na = False)) \n",
    "               |(df['Primary Cause Line B'].str.contains(\"fract\", case = False, na = False)) \n",
    "               |(df['Primary Cause Line C'].str.contains(\"fract\", case = False, na = False))]\n",
    "\n",
    "death_by_fracs.Age.median()"
   ]
  },
  {
   "cell_type": "markdown",
   "metadata": {},
   "source": [
    "### To get a \"compared to what?\", what's the median age of _anyone_ dying an accidental death?"
   ]
  },
  {
   "cell_type": "code",
   "execution_count": 44,
   "metadata": {},
   "outputs": [
    {
     "data": {
      "text/plain": [
       "51.0"
      ]
     },
     "execution_count": 44,
     "metadata": {},
     "output_type": "execute_result"
    }
   ],
   "source": [
    "df[df['Manner of Death'] == \"ACCIDENT\"].Age.median()"
   ]
  },
  {
   "cell_type": "markdown",
   "metadata": {},
   "source": [
    "### What's the median age of each manner of death?\n",
    "\n",
    "It looks like different kinds of death might happen to different ages of people. Let's investigate that further."
   ]
  },
  {
   "cell_type": "code",
   "execution_count": 46,
   "metadata": {},
   "outputs": [
    {
     "data": {
      "text/plain": [
       "Manner of Death\n",
       "ACCIDENT        51.0\n",
       "HOMICIDE        26.0\n",
       "NATURAL         61.0\n",
       "PENDING         47.0\n",
       "SUICIDE         45.0\n",
       "UNDETERMINED    21.0\n",
       "Name: Age, dtype: float64"
      ]
     },
     "execution_count": 46,
     "metadata": {},
     "output_type": "execute_result"
    }
   ],
   "source": [
    "df.groupby(by='Manner of Death').Age.median()"
   ]
  },
  {
   "cell_type": "markdown",
   "metadata": {},
   "source": [
    "### Who is the oldest homicide victim?\n",
    "\n",
    "It looks like homicide is for young people, so maybe we'll find an interesting outlier?"
   ]
  },
  {
   "cell_type": "code",
   "execution_count": 47,
   "metadata": {},
   "outputs": [
    {
     "data": {
      "text/plain": [
       "3702    98.0\n",
       "Name: Age, dtype: float64"
      ]
     },
     "execution_count": 47,
     "metadata": {},
     "output_type": "execute_result"
    }
   ],
   "source": [
    "df[df['Manner of Death'] == \"HOMICIDE\"].Age.sort_values(ascending = False).head(1)"
   ]
  },
  {
   "cell_type": "code",
   "execution_count": 48,
   "metadata": {},
   "outputs": [
    {
     "data": {
      "text/html": [
       "<div>\n",
       "<style scoped>\n",
       "    .dataframe tbody tr th:only-of-type {\n",
       "        vertical-align: middle;\n",
       "    }\n",
       "\n",
       "    .dataframe tbody tr th {\n",
       "        vertical-align: top;\n",
       "    }\n",
       "\n",
       "    .dataframe thead th {\n",
       "        text-align: right;\n",
       "    }\n",
       "</style>\n",
       "<table border=\"1\" class=\"dataframe\">\n",
       "  <thead>\n",
       "    <tr style=\"text-align: right;\">\n",
       "      <th></th>\n",
       "      <th>Case Number</th>\n",
       "      <th>Date of Incident</th>\n",
       "      <th>Date of Death</th>\n",
       "      <th>Age</th>\n",
       "      <th>Gender</th>\n",
       "      <th>Race</th>\n",
       "      <th>Latino</th>\n",
       "      <th>Manner of Death</th>\n",
       "      <th>Primary Cause</th>\n",
       "      <th>Primary Cause Line B</th>\n",
       "      <th>Primary Cause Line C</th>\n",
       "      <th>Secondary Cause</th>\n",
       "      <th>Gun Related</th>\n",
       "      <th>Opioid Related</th>\n",
       "      <th>Incident Address</th>\n",
       "      <th>Incident City</th>\n",
       "      <th>longitude</th>\n",
       "      <th>latitude</th>\n",
       "      <th>OBJECTID</th>\n",
       "      <th>location</th>\n",
       "    </tr>\n",
       "  </thead>\n",
       "  <tbody>\n",
       "    <tr>\n",
       "      <th>3702</th>\n",
       "      <td>ME2015-00519</td>\n",
       "      <td>02/03/2015 08:21:00 AM</td>\n",
       "      <td>02/04/2015 08:34:00 AM</td>\n",
       "      <td>98.0</td>\n",
       "      <td>Female</td>\n",
       "      <td>Black</td>\n",
       "      <td>False</td>\n",
       "      <td>HOMICIDE</td>\n",
       "      <td>MORPHINE AND HYDROCODONE TOXICITY</td>\n",
       "      <td>NaN</td>\n",
       "      <td>NaN</td>\n",
       "      <td>HYPERTENSIVE AND ATHEROSCLEROTIC CARDIOVASCULA...</td>\n",
       "      <td>False</td>\n",
       "      <td>True</td>\n",
       "      <td>16300 louis Ave</td>\n",
       "      <td>SOUTH HOLLAND</td>\n",
       "      <td>-87.609278</td>\n",
       "      <td>41.598109</td>\n",
       "      <td>64404</td>\n",
       "      <td>(41.5981086, -87.6092784)</td>\n",
       "    </tr>\n",
       "  </tbody>\n",
       "</table>\n",
       "</div>"
      ],
      "text/plain": [
       "       Case Number        Date of Incident           Date of Death   Age  \\\n",
       "3702  ME2015-00519  02/03/2015 08:21:00 AM  02/04/2015 08:34:00 AM  98.0   \n",
       "\n",
       "      Gender   Race  Latino Manner of Death  \\\n",
       "3702  Female  Black   False        HOMICIDE   \n",
       "\n",
       "                          Primary Cause Primary Cause Line B  \\\n",
       "3702  MORPHINE AND HYDROCODONE TOXICITY                  NaN   \n",
       "\n",
       "     Primary Cause Line C                                    Secondary Cause  \\\n",
       "3702                  NaN  HYPERTENSIVE AND ATHEROSCLEROTIC CARDIOVASCULA...   \n",
       "\n",
       "      Gun Related  Opioid Related Incident Address  Incident City  longitude  \\\n",
       "3702        False            True  16300 louis Ave  SOUTH HOLLAND -87.609278   \n",
       "\n",
       "       latitude  OBJECTID                   location  \n",
       "3702  41.598109     64404  (41.5981086, -87.6092784)  "
      ]
     },
     "execution_count": 48,
     "metadata": {},
     "output_type": "execute_result"
    }
   ],
   "source": [
    "df[(df['Manner of Death'] == \"HOMICIDE\") & (df.Age == 98)]"
   ]
  },
  {
   "cell_type": "markdown",
   "metadata": {},
   "source": [
    "## Investigating toxicity-related homicides\n",
    "\n",
    "She was old, and was purposefully overdosed on morphine and hydrocodone. Might have been euthenasia? Let's find similar cases.\n",
    "\n",
    "### Find every homicide where the primary cause of death is some sort of toxicity\n",
    "\n",
    "Toxicity can just overdose. You should have **ten rows**.\n",
    "\n",
    "- *Tip: If you're doing this as one statement, make sure you use your parentheses correctly. If you leave them out, you'll have zero rows*\n",
    "- *Tip: You could make a homicides-only dataframe if you wanted to*"
   ]
  },
  {
   "cell_type": "code",
   "execution_count": 52,
   "metadata": {},
   "outputs": [
    {
     "data": {
      "text/html": [
       "<div>\n",
       "<style scoped>\n",
       "    .dataframe tbody tr th:only-of-type {\n",
       "        vertical-align: middle;\n",
       "    }\n",
       "\n",
       "    .dataframe tbody tr th {\n",
       "        vertical-align: top;\n",
       "    }\n",
       "\n",
       "    .dataframe thead th {\n",
       "        text-align: right;\n",
       "    }\n",
       "</style>\n",
       "<table border=\"1\" class=\"dataframe\">\n",
       "  <thead>\n",
       "    <tr style=\"text-align: right;\">\n",
       "      <th></th>\n",
       "      <th>Case Number</th>\n",
       "      <th>Date of Incident</th>\n",
       "      <th>Date of Death</th>\n",
       "      <th>Age</th>\n",
       "      <th>Gender</th>\n",
       "      <th>Race</th>\n",
       "      <th>Latino</th>\n",
       "      <th>Manner of Death</th>\n",
       "      <th>Primary Cause</th>\n",
       "      <th>Primary Cause Line B</th>\n",
       "      <th>Primary Cause Line C</th>\n",
       "      <th>Secondary Cause</th>\n",
       "      <th>Gun Related</th>\n",
       "      <th>Opioid Related</th>\n",
       "      <th>Incident Address</th>\n",
       "      <th>Incident City</th>\n",
       "      <th>longitude</th>\n",
       "      <th>latitude</th>\n",
       "      <th>OBJECTID</th>\n",
       "      <th>location</th>\n",
       "    </tr>\n",
       "  </thead>\n",
       "  <tbody>\n",
       "    <tr>\n",
       "      <th>3702</th>\n",
       "      <td>ME2015-00519</td>\n",
       "      <td>02/03/2015 08:21:00 AM</td>\n",
       "      <td>02/04/2015 08:34:00 AM</td>\n",
       "      <td>98.0</td>\n",
       "      <td>Female</td>\n",
       "      <td>Black</td>\n",
       "      <td>False</td>\n",
       "      <td>HOMICIDE</td>\n",
       "      <td>MORPHINE AND HYDROCODONE TOXICITY</td>\n",
       "      <td>NaN</td>\n",
       "      <td>NaN</td>\n",
       "      <td>HYPERTENSIVE AND ATHEROSCLEROTIC CARDIOVASCULA...</td>\n",
       "      <td>False</td>\n",
       "      <td>True</td>\n",
       "      <td>16300 louis Ave</td>\n",
       "      <td>SOUTH HOLLAND</td>\n",
       "      <td>-87.609278</td>\n",
       "      <td>41.598109</td>\n",
       "      <td>64404</td>\n",
       "      <td>(41.5981086, -87.6092784)</td>\n",
       "    </tr>\n",
       "    <tr>\n",
       "      <th>5395</th>\n",
       "      <td>ME2015-02286</td>\n",
       "      <td>05/27/2015 03:15:00 PM</td>\n",
       "      <td>06/03/2015 07:25:00 PM</td>\n",
       "      <td>28.0</td>\n",
       "      <td>Female</td>\n",
       "      <td>White</td>\n",
       "      <td>False</td>\n",
       "      <td>HOMICIDE</td>\n",
       "      <td>COMPLICATIONS OF AMITRIPTYLINE AND METABOLITE,...</td>\n",
       "      <td>NaN</td>\n",
       "      <td>NaN</td>\n",
       "      <td>NaN</td>\n",
       "      <td>False</td>\n",
       "      <td>False</td>\n",
       "      <td>1102 S. Springinsguth  Rd. #1D</td>\n",
       "      <td>SCHAUMBURG</td>\n",
       "      <td>-88.119741</td>\n",
       "      <td>42.005376</td>\n",
       "      <td>60663</td>\n",
       "      <td>(42.005376, -88.1197414)</td>\n",
       "    </tr>\n",
       "    <tr>\n",
       "      <th>6144</th>\n",
       "      <td>ME2015-03058</td>\n",
       "      <td>07/18/2015 07:00:00 AM</td>\n",
       "      <td>07/19/2015 02:05:00 AM</td>\n",
       "      <td>10.0</td>\n",
       "      <td>Male</td>\n",
       "      <td>Black</td>\n",
       "      <td>False</td>\n",
       "      <td>HOMICIDE</td>\n",
       "      <td>CARBON MONOXIDE TOXICITY</td>\n",
       "      <td>INCENDIARY HOUSE FIRE</td>\n",
       "      <td>NaN</td>\n",
       "      <td>NaN</td>\n",
       "      <td>False</td>\n",
       "      <td>False</td>\n",
       "      <td>8327 S. DREXEL</td>\n",
       "      <td>CHICAGO</td>\n",
       "      <td>-87.602328</td>\n",
       "      <td>41.743167</td>\n",
       "      <td>68218</td>\n",
       "      <td>(41.7431675, -87.6023283)</td>\n",
       "    </tr>\n",
       "    <tr>\n",
       "      <th>6764</th>\n",
       "      <td>ME2015-03692</td>\n",
       "      <td>08/29/2015 09:41:00 AM</td>\n",
       "      <td>08/29/2015 01:00:00 PM</td>\n",
       "      <td>28.0</td>\n",
       "      <td>Male</td>\n",
       "      <td>White</td>\n",
       "      <td>True</td>\n",
       "      <td>HOMICIDE</td>\n",
       "      <td>CARBON MONOXIDE TOXICITY</td>\n",
       "      <td>HOUSE FIRE</td>\n",
       "      <td>NaN</td>\n",
       "      <td>NaN</td>\n",
       "      <td>False</td>\n",
       "      <td>False</td>\n",
       "      <td>5209 S Lorel Avenue</td>\n",
       "      <td>CHICAGO</td>\n",
       "      <td>-87.755913</td>\n",
       "      <td>41.798035</td>\n",
       "      <td>72663</td>\n",
       "      <td>(41.7980351, -87.7559129)</td>\n",
       "    </tr>\n",
       "    <tr>\n",
       "      <th>6765</th>\n",
       "      <td>ME2015-03693</td>\n",
       "      <td>08/29/2015 09:41:00 AM</td>\n",
       "      <td>08/29/2015 01:00:00 PM</td>\n",
       "      <td>63.0</td>\n",
       "      <td>Male</td>\n",
       "      <td>Other</td>\n",
       "      <td>False</td>\n",
       "      <td>HOMICIDE</td>\n",
       "      <td>CARBON MONOXIDE TOXICITY</td>\n",
       "      <td>HOUSE FIRE</td>\n",
       "      <td>NaN</td>\n",
       "      <td>ARTERIOSCLEROTIC CARDIOVASCULAR DISEASE, ACUTE...</td>\n",
       "      <td>False</td>\n",
       "      <td>False</td>\n",
       "      <td>5205 S. Lorel</td>\n",
       "      <td>CHICAGO</td>\n",
       "      <td>-87.756075</td>\n",
       "      <td>41.798102</td>\n",
       "      <td>73036</td>\n",
       "      <td>(41.7981017, -87.7560751)</td>\n",
       "    </tr>\n",
       "    <tr>\n",
       "      <th>7612</th>\n",
       "      <td>ME2015-04564</td>\n",
       "      <td>10/22/2015 10:39:00 AM</td>\n",
       "      <td>10/22/2015 11:05:00 AM</td>\n",
       "      <td>31.0</td>\n",
       "      <td>Male</td>\n",
       "      <td>Other</td>\n",
       "      <td>False</td>\n",
       "      <td>HOMICIDE</td>\n",
       "      <td>HEROIN AND ETHANOL TOXICITY</td>\n",
       "      <td>NaN</td>\n",
       "      <td>NaN</td>\n",
       "      <td>NaN</td>\n",
       "      <td>False</td>\n",
       "      <td>True</td>\n",
       "      <td>5240 NORTH SHERIDAN APT 417</td>\n",
       "      <td>CHICAGO</td>\n",
       "      <td>-87.655620</td>\n",
       "      <td>41.977582</td>\n",
       "      <td>74058</td>\n",
       "      <td>(41.977582, -87.6556196)</td>\n",
       "    </tr>\n",
       "    <tr>\n",
       "      <th>12656</th>\n",
       "      <td>ME2016-04092</td>\n",
       "      <td>08/23/2016 01:37:00 AM</td>\n",
       "      <td>08/23/2016 06:45:00 AM</td>\n",
       "      <td>4.0</td>\n",
       "      <td>Female</td>\n",
       "      <td>Black</td>\n",
       "      <td>False</td>\n",
       "      <td>HOMICIDE</td>\n",
       "      <td>THERMAL INJURIES AND CARBON MONOXIDE TOXICITY</td>\n",
       "      <td>NaN</td>\n",
       "      <td>NaN</td>\n",
       "      <td>NaN</td>\n",
       "      <td>False</td>\n",
       "      <td>False</td>\n",
       "      <td>8112 S. Essex Avenue</td>\n",
       "      <td>CHICAGO</td>\n",
       "      <td>-87.564245</td>\n",
       "      <td>41.747711</td>\n",
       "      <td>68043</td>\n",
       "      <td>(41.7477108, -87.5642452)</td>\n",
       "    </tr>\n",
       "    <tr>\n",
       "      <th>12657</th>\n",
       "      <td>ME2016-04093</td>\n",
       "      <td>08/23/2016 01:37:00 AM</td>\n",
       "      <td>08/23/2016 06:45:00 AM</td>\n",
       "      <td>7.0</td>\n",
       "      <td>Female</td>\n",
       "      <td>Black</td>\n",
       "      <td>False</td>\n",
       "      <td>HOMICIDE</td>\n",
       "      <td>THERMAL INJURIES AND CARBON MONOXIDE TOXICITY</td>\n",
       "      <td>NaN</td>\n",
       "      <td>NaN</td>\n",
       "      <td>NaN</td>\n",
       "      <td>False</td>\n",
       "      <td>False</td>\n",
       "      <td>8112 S. Essex Avenue</td>\n",
       "      <td>CHICAGO</td>\n",
       "      <td>-87.564245</td>\n",
       "      <td>41.747711</td>\n",
       "      <td>68054</td>\n",
       "      <td>(41.7477108, -87.5642452)</td>\n",
       "    </tr>\n",
       "    <tr>\n",
       "      <th>12660</th>\n",
       "      <td>ME2016-04096</td>\n",
       "      <td>08/23/2016 01:37:00 AM</td>\n",
       "      <td>08/23/2016 06:45:00 AM</td>\n",
       "      <td>56.0</td>\n",
       "      <td>Male</td>\n",
       "      <td>Black</td>\n",
       "      <td>False</td>\n",
       "      <td>HOMICIDE</td>\n",
       "      <td>THERMAL INJURIES AND CARBON MONOXIDE TOXICITY</td>\n",
       "      <td>NaN</td>\n",
       "      <td>NaN</td>\n",
       "      <td>NaN</td>\n",
       "      <td>False</td>\n",
       "      <td>False</td>\n",
       "      <td>8114 S. Essex Avenue</td>\n",
       "      <td>CHICAGO</td>\n",
       "      <td>-87.564246</td>\n",
       "      <td>41.747673</td>\n",
       "      <td>67699</td>\n",
       "      <td>(41.7476732, -87.5642456)</td>\n",
       "    </tr>\n",
       "    <tr>\n",
       "      <th>13050</th>\n",
       "      <td>ME2016-04490</td>\n",
       "      <td>09/16/2016 02:45:00 AM</td>\n",
       "      <td>09/16/2016 03:34:00 AM</td>\n",
       "      <td>59.0</td>\n",
       "      <td>Male</td>\n",
       "      <td>White</td>\n",
       "      <td>True</td>\n",
       "      <td>HOMICIDE</td>\n",
       "      <td>CARBON MONOXIDE TOXICITY</td>\n",
       "      <td>GARAGE FIRE</td>\n",
       "      <td>NaN</td>\n",
       "      <td>NaN</td>\n",
       "      <td>False</td>\n",
       "      <td>False</td>\n",
       "      <td>2151 W 21st Street</td>\n",
       "      <td>CHICAGO</td>\n",
       "      <td>-87.680361</td>\n",
       "      <td>41.853700</td>\n",
       "      <td>65250</td>\n",
       "      <td>(41.8536999, -87.6803607)</td>\n",
       "    </tr>\n",
       "  </tbody>\n",
       "</table>\n",
       "</div>"
      ],
      "text/plain": [
       "        Case Number        Date of Incident           Date of Death   Age  \\\n",
       "3702   ME2015-00519  02/03/2015 08:21:00 AM  02/04/2015 08:34:00 AM  98.0   \n",
       "5395   ME2015-02286  05/27/2015 03:15:00 PM  06/03/2015 07:25:00 PM  28.0   \n",
       "6144   ME2015-03058  07/18/2015 07:00:00 AM  07/19/2015 02:05:00 AM  10.0   \n",
       "6764   ME2015-03692  08/29/2015 09:41:00 AM  08/29/2015 01:00:00 PM  28.0   \n",
       "6765   ME2015-03693  08/29/2015 09:41:00 AM  08/29/2015 01:00:00 PM  63.0   \n",
       "7612   ME2015-04564  10/22/2015 10:39:00 AM  10/22/2015 11:05:00 AM  31.0   \n",
       "12656  ME2016-04092  08/23/2016 01:37:00 AM  08/23/2016 06:45:00 AM   4.0   \n",
       "12657  ME2016-04093  08/23/2016 01:37:00 AM  08/23/2016 06:45:00 AM   7.0   \n",
       "12660  ME2016-04096  08/23/2016 01:37:00 AM  08/23/2016 06:45:00 AM  56.0   \n",
       "13050  ME2016-04490  09/16/2016 02:45:00 AM  09/16/2016 03:34:00 AM  59.0   \n",
       "\n",
       "       Gender   Race  Latino Manner of Death  \\\n",
       "3702   Female  Black   False        HOMICIDE   \n",
       "5395   Female  White   False        HOMICIDE   \n",
       "6144     Male  Black   False        HOMICIDE   \n",
       "6764     Male  White    True        HOMICIDE   \n",
       "6765     Male  Other   False        HOMICIDE   \n",
       "7612     Male  Other   False        HOMICIDE   \n",
       "12656  Female  Black   False        HOMICIDE   \n",
       "12657  Female  Black   False        HOMICIDE   \n",
       "12660    Male  Black   False        HOMICIDE   \n",
       "13050    Male  White    True        HOMICIDE   \n",
       "\n",
       "                                           Primary Cause  \\\n",
       "3702                   MORPHINE AND HYDROCODONE TOXICITY   \n",
       "5395   COMPLICATIONS OF AMITRIPTYLINE AND METABOLITE,...   \n",
       "6144                            CARBON MONOXIDE TOXICITY   \n",
       "6764                            CARBON MONOXIDE TOXICITY   \n",
       "6765                            CARBON MONOXIDE TOXICITY   \n",
       "7612                         HEROIN AND ETHANOL TOXICITY   \n",
       "12656      THERMAL INJURIES AND CARBON MONOXIDE TOXICITY   \n",
       "12657      THERMAL INJURIES AND CARBON MONOXIDE TOXICITY   \n",
       "12660      THERMAL INJURIES AND CARBON MONOXIDE TOXICITY   \n",
       "13050                           CARBON MONOXIDE TOXICITY   \n",
       "\n",
       "        Primary Cause Line B Primary Cause Line C  \\\n",
       "3702                     NaN                  NaN   \n",
       "5395                     NaN                  NaN   \n",
       "6144   INCENDIARY HOUSE FIRE                  NaN   \n",
       "6764              HOUSE FIRE                  NaN   \n",
       "6765              HOUSE FIRE                  NaN   \n",
       "7612                     NaN                  NaN   \n",
       "12656                    NaN                  NaN   \n",
       "12657                    NaN                  NaN   \n",
       "12660                    NaN                  NaN   \n",
       "13050            GARAGE FIRE                  NaN   \n",
       "\n",
       "                                         Secondary Cause  Gun Related  \\\n",
       "3702   HYPERTENSIVE AND ATHEROSCLEROTIC CARDIOVASCULA...        False   \n",
       "5395                                                 NaN        False   \n",
       "6144                                                 NaN        False   \n",
       "6764                                                 NaN        False   \n",
       "6765   ARTERIOSCLEROTIC CARDIOVASCULAR DISEASE, ACUTE...        False   \n",
       "7612                                                 NaN        False   \n",
       "12656                                                NaN        False   \n",
       "12657                                                NaN        False   \n",
       "12660                                                NaN        False   \n",
       "13050                                                NaN        False   \n",
       "\n",
       "       Opioid Related                Incident Address  Incident City  \\\n",
       "3702             True                 16300 louis Ave  SOUTH HOLLAND   \n",
       "5395            False  1102 S. Springinsguth  Rd. #1D     SCHAUMBURG   \n",
       "6144            False                  8327 S. DREXEL        CHICAGO   \n",
       "6764            False             5209 S Lorel Avenue        CHICAGO   \n",
       "6765            False                   5205 S. Lorel        CHICAGO   \n",
       "7612             True     5240 NORTH SHERIDAN APT 417        CHICAGO   \n",
       "12656           False            8112 S. Essex Avenue        CHICAGO   \n",
       "12657           False            8112 S. Essex Avenue        CHICAGO   \n",
       "12660           False            8114 S. Essex Avenue        CHICAGO   \n",
       "13050           False              2151 W 21st Street        CHICAGO   \n",
       "\n",
       "       longitude   latitude  OBJECTID                   location  \n",
       "3702  -87.609278  41.598109     64404  (41.5981086, -87.6092784)  \n",
       "5395  -88.119741  42.005376     60663   (42.005376, -88.1197414)  \n",
       "6144  -87.602328  41.743167     68218  (41.7431675, -87.6023283)  \n",
       "6764  -87.755913  41.798035     72663  (41.7980351, -87.7559129)  \n",
       "6765  -87.756075  41.798102     73036  (41.7981017, -87.7560751)  \n",
       "7612  -87.655620  41.977582     74058   (41.977582, -87.6556196)  \n",
       "12656 -87.564245  41.747711     68043  (41.7477108, -87.5642452)  \n",
       "12657 -87.564245  41.747711     68054  (41.7477108, -87.5642452)  \n",
       "12660 -87.564246  41.747673     67699  (41.7476732, -87.5642456)  \n",
       "13050 -87.680361  41.853700     65250  (41.8536999, -87.6803607)  "
      ]
     },
     "execution_count": 52,
     "metadata": {},
     "output_type": "execute_result"
    }
   ],
   "source": [
    "df[(df['Manner of Death'] == \"HOMICIDE\") & ((df['Primary Cause'].str.contains(\"toxicity\", case = False, na = False))\n",
    "            |(df['Primary Cause Line B'].str.contains(\"toxicity\", case = False, na = False))\n",
    "            |(df['Primary Cause Line C'].str.contains(\"toxicity\", case = False, na = False)))].head(10)\n",
    "\n"
   ]
  },
  {
   "cell_type": "markdown",
   "metadata": {},
   "source": [
    "### Okay, nope, we were wrong.\n",
    "\n",
    "Those were almost **all from fires**. Apparently homicide is not the best place to go looking for toxicity. What's the most popular manner of death for primary causes involving toxicity?\n",
    "\n",
    "- *Tip: Remember that `['colname']` is the same as `.colname`. You can't do `.col with spaces` so you'll need to do `['col with spaces']` a lot in this dataset\n",
    "- *Tip: Or I guess if you really wanted to, you could rename your columns to have spaces in them (IF YOU DO THIS DON'T DO IT IN EXCEL BECAUSE IT WILL PROBABLY BREAK YOUR CSV.)*"
   ]
  },
  {
   "cell_type": "code",
   "execution_count": 58,
   "metadata": {},
   "outputs": [
    {
     "data": {
      "text/plain": [
       "ACCIDENT        3244\n",
       "SUICIDE          222\n",
       "UNDETERMINED      42\n",
       "HOMICIDE          10\n",
       "NATURAL            1\n",
       "Name: Manner of Death, dtype: int64"
      ]
     },
     "execution_count": 58,
     "metadata": {},
     "output_type": "execute_result"
    }
   ],
   "source": [
    "toxicity = df[(df['Primary Cause'].str.contains(\"toxicity\", case = False, na = False))\n",
    "            |(df['Primary Cause Line B'].str.contains(\"toxicity\", case = False, na = False))\n",
    "            |(df['Primary Cause Line C'].str.contains(\"toxicity\", case = False, na = False))]\n",
    "\n",
    "toxicity['Manner of Death'].value_counts()\n",
    "\n"
   ]
  },
  {
   "cell_type": "markdown",
   "metadata": {},
   "source": [
    "### Okay, toxicity deaths (overdoses) are mostly accidents. Let's look at the first 30 accidental deaths involving toxicity.\n",
    "\n",
    "- *Tip: Remember your parentheses!*"
   ]
  },
  {
   "cell_type": "code",
   "execution_count": 63,
   "metadata": {},
   "outputs": [
    {
     "name": "stderr",
     "output_type": "stream",
     "text": [
      "/Library/Frameworks/Python.framework/Versions/3.7/lib/python3.7/site-packages/ipykernel_launcher.py:1: UserWarning: Boolean Series key will be reindexed to match DataFrame index.\n",
      "  \"\"\"Entry point for launching an IPython kernel.\n"
     ]
    },
    {
     "data": {
      "text/html": [
       "<div>\n",
       "<style scoped>\n",
       "    .dataframe tbody tr th:only-of-type {\n",
       "        vertical-align: middle;\n",
       "    }\n",
       "\n",
       "    .dataframe tbody tr th {\n",
       "        vertical-align: top;\n",
       "    }\n",
       "\n",
       "    .dataframe thead th {\n",
       "        text-align: right;\n",
       "    }\n",
       "</style>\n",
       "<table border=\"1\" class=\"dataframe\">\n",
       "  <thead>\n",
       "    <tr style=\"text-align: right;\">\n",
       "      <th></th>\n",
       "      <th>Case Number</th>\n",
       "      <th>Date of Incident</th>\n",
       "      <th>Date of Death</th>\n",
       "      <th>Age</th>\n",
       "      <th>Gender</th>\n",
       "      <th>Race</th>\n",
       "      <th>Latino</th>\n",
       "      <th>Manner of Death</th>\n",
       "      <th>Primary Cause</th>\n",
       "      <th>Primary Cause Line B</th>\n",
       "      <th>Primary Cause Line C</th>\n",
       "      <th>Secondary Cause</th>\n",
       "      <th>Gun Related</th>\n",
       "      <th>Opioid Related</th>\n",
       "      <th>Incident Address</th>\n",
       "      <th>Incident City</th>\n",
       "      <th>longitude</th>\n",
       "      <th>latitude</th>\n",
       "      <th>OBJECTID</th>\n",
       "      <th>location</th>\n",
       "    </tr>\n",
       "  </thead>\n",
       "  <tbody>\n",
       "    <tr>\n",
       "      <th>15</th>\n",
       "      <td>ME2018-01127</td>\n",
       "      <td>03/03/2018 02:15:00 AM</td>\n",
       "      <td>03/03/2018 02:24:00 AM</td>\n",
       "      <td>37.0</td>\n",
       "      <td>Male</td>\n",
       "      <td>White</td>\n",
       "      <td>False</td>\n",
       "      <td>ACCIDENT</td>\n",
       "      <td>COMBINED DRUG (COCAINE, HEROIN, FENTANYL) TOXI...</td>\n",
       "      <td>NaN</td>\n",
       "      <td>NaN</td>\n",
       "      <td>NaN</td>\n",
       "      <td>False</td>\n",
       "      <td>True</td>\n",
       "      <td>6547 W. 111TH APT W-27</td>\n",
       "      <td>WORTH</td>\n",
       "      <td>-87.781732</td>\n",
       "      <td>41.689640</td>\n",
       "      <td>63784</td>\n",
       "      <td>(41.6896403, -87.7817317)</td>\n",
       "    </tr>\n",
       "    <tr>\n",
       "      <th>45</th>\n",
       "      <td>ME2018-00910</td>\n",
       "      <td>02/19/2018 08:00:00 PM</td>\n",
       "      <td>02/19/2018 08:22:00 PM</td>\n",
       "      <td>56.0</td>\n",
       "      <td>Male</td>\n",
       "      <td>Black</td>\n",
       "      <td>False</td>\n",
       "      <td>ACCIDENT</td>\n",
       "      <td>COMBINED DRUG (COCAINE AND HEROIN) TOXICITY</td>\n",
       "      <td>NaN</td>\n",
       "      <td>NaN</td>\n",
       "      <td>NaN</td>\n",
       "      <td>False</td>\n",
       "      <td>True</td>\n",
       "      <td>7724 SOUTH LOOMIS BLVD   #1</td>\n",
       "      <td>CHICAGO</td>\n",
       "      <td>-87.658932</td>\n",
       "      <td>41.753282</td>\n",
       "      <td>69589</td>\n",
       "      <td>(41.7532818, -87.6589318)</td>\n",
       "    </tr>\n",
       "    <tr>\n",
       "      <th>51</th>\n",
       "      <td>ME2018-00400</td>\n",
       "      <td>01/20/2018 11:15:00 AM</td>\n",
       "      <td>01/20/2018 11:57:00 AM</td>\n",
       "      <td>19.0</td>\n",
       "      <td>Male</td>\n",
       "      <td>White</td>\n",
       "      <td>False</td>\n",
       "      <td>ACCIDENT</td>\n",
       "      <td>HEROIN TOXICITY</td>\n",
       "      <td>NaN</td>\n",
       "      <td>NaN</td>\n",
       "      <td>NaN</td>\n",
       "      <td>False</td>\n",
       "      <td>True</td>\n",
       "      <td>5719 S. Kimbark, Apt. 3</td>\n",
       "      <td>CHICAGO</td>\n",
       "      <td>-87.594142</td>\n",
       "      <td>41.790743</td>\n",
       "      <td>77880</td>\n",
       "      <td>(41.7907435, -87.5941419)</td>\n",
       "    </tr>\n",
       "    <tr>\n",
       "      <th>53</th>\n",
       "      <td>ME2018-00643</td>\n",
       "      <td>02/03/2018 10:45:00 AM</td>\n",
       "      <td>02/03/2018 11:11:00 AM</td>\n",
       "      <td>35.0</td>\n",
       "      <td>Male</td>\n",
       "      <td>White</td>\n",
       "      <td>False</td>\n",
       "      <td>ACCIDENT</td>\n",
       "      <td>ETHANOL AND COMBINED DRUG (PROBABLE HEROIN, CY...</td>\n",
       "      <td>NaN</td>\n",
       "      <td>NaN</td>\n",
       "      <td>NaN</td>\n",
       "      <td>False</td>\n",
       "      <td>True</td>\n",
       "      <td>2540 N. Manheim Road, Rm#215</td>\n",
       "      <td>FRANKLIN PARK</td>\n",
       "      <td>NaN</td>\n",
       "      <td>NaN</td>\n",
       "      <td>77879</td>\n",
       "      <td>NaN</td>\n",
       "    </tr>\n",
       "    <tr>\n",
       "      <th>54</th>\n",
       "      <td>ME2018-00671</td>\n",
       "      <td>02/05/2018 12:00:00 AM</td>\n",
       "      <td>02/05/2018 12:10:00 AM</td>\n",
       "      <td>27.0</td>\n",
       "      <td>Male</td>\n",
       "      <td>White</td>\n",
       "      <td>False</td>\n",
       "      <td>ACCIDENT</td>\n",
       "      <td>COMBINED FENTANYL AND PROBABLE HEROIN TOXICITY</td>\n",
       "      <td>NaN</td>\n",
       "      <td>NaN</td>\n",
       "      <td>OBESITY</td>\n",
       "      <td>False</td>\n",
       "      <td>True</td>\n",
       "      <td>3435 W. VAN BUREN</td>\n",
       "      <td>CHICAGO</td>\n",
       "      <td>-87.711994</td>\n",
       "      <td>41.875391</td>\n",
       "      <td>77910</td>\n",
       "      <td>(41.8753913, -87.7119935)</td>\n",
       "    </tr>\n",
       "    <tr>\n",
       "      <th>65</th>\n",
       "      <td>ME2018-01129</td>\n",
       "      <td>03/03/2018 03:45:00 AM</td>\n",
       "      <td>03/03/2018 04:31:00 AM</td>\n",
       "      <td>34.0</td>\n",
       "      <td>Male</td>\n",
       "      <td>Black</td>\n",
       "      <td>False</td>\n",
       "      <td>ACCIDENT</td>\n",
       "      <td>ACUTE ETHANOL TOXICITY</td>\n",
       "      <td>NaN</td>\n",
       "      <td>NaN</td>\n",
       "      <td>NaN</td>\n",
       "      <td>False</td>\n",
       "      <td>False</td>\n",
       "      <td>7899 SOUTH SHORE</td>\n",
       "      <td>CHICAGO</td>\n",
       "      <td>-87.548113</td>\n",
       "      <td>41.752056</td>\n",
       "      <td>68080</td>\n",
       "      <td>(41.7520559, -87.5481134)</td>\n",
       "    </tr>\n",
       "    <tr>\n",
       "      <th>69</th>\n",
       "      <td>ME2018-01356</td>\n",
       "      <td>03/15/2018 01:31:00 PM</td>\n",
       "      <td>03/15/2018 01:44:00 PM</td>\n",
       "      <td>26.0</td>\n",
       "      <td>Male</td>\n",
       "      <td>White</td>\n",
       "      <td>False</td>\n",
       "      <td>ACCIDENT</td>\n",
       "      <td>FENTANYL, HEROIN, AND ALPRAZOLAM TOXICITY</td>\n",
       "      <td>NaN</td>\n",
       "      <td>NaN</td>\n",
       "      <td>NaN</td>\n",
       "      <td>False</td>\n",
       "      <td>True</td>\n",
       "      <td>710 N. 4TH AVENUE</td>\n",
       "      <td>MAYWOOD</td>\n",
       "      <td>-87.838564</td>\n",
       "      <td>41.893982</td>\n",
       "      <td>77870</td>\n",
       "      <td>(41.8939818, -87.8385636)</td>\n",
       "    </tr>\n",
       "    <tr>\n",
       "      <th>93</th>\n",
       "      <td>ME2018-01560</td>\n",
       "      <td>03/29/2018 06:50:00 PM</td>\n",
       "      <td>03/29/2018 07:12:00 PM</td>\n",
       "      <td>38.0</td>\n",
       "      <td>Male</td>\n",
       "      <td>Asian</td>\n",
       "      <td>False</td>\n",
       "      <td>ACCIDENT</td>\n",
       "      <td>COCAINE AND FENTANYL TOXICITY</td>\n",
       "      <td>NaN</td>\n",
       "      <td>NaN</td>\n",
       "      <td>NaN</td>\n",
       "      <td>False</td>\n",
       "      <td>True</td>\n",
       "      <td>535 N MICHIGAN AVE #2705</td>\n",
       "      <td>CHICAGO</td>\n",
       "      <td>-87.623541</td>\n",
       "      <td>41.891975</td>\n",
       "      <td>66297</td>\n",
       "      <td>(41.8919752, -87.6235405)</td>\n",
       "    </tr>\n",
       "    <tr>\n",
       "      <th>99</th>\n",
       "      <td>ME2018-01570</td>\n",
       "      <td>03/30/2018 03:33:00 PM</td>\n",
       "      <td>03/30/2018 04:20:00 PM</td>\n",
       "      <td>50.0</td>\n",
       "      <td>Male</td>\n",
       "      <td>White</td>\n",
       "      <td>False</td>\n",
       "      <td>ACCIDENT</td>\n",
       "      <td>COCAINE, FENTANYL AND ACETYL FENTANYL TOXICITY</td>\n",
       "      <td>NaN</td>\n",
       "      <td>NaN</td>\n",
       "      <td>NaN</td>\n",
       "      <td>False</td>\n",
       "      <td>True</td>\n",
       "      <td>1042 N. KNOLLWOOD DR. UNIT A</td>\n",
       "      <td>SCHAUMBURG</td>\n",
       "      <td>-88.138219</td>\n",
       "      <td>42.044579</td>\n",
       "      <td>62417</td>\n",
       "      <td>(42.0445787, -88.1382195)</td>\n",
       "    </tr>\n",
       "    <tr>\n",
       "      <th>102</th>\n",
       "      <td>ME2018-01574</td>\n",
       "      <td>03/30/2018 10:43:00 PM</td>\n",
       "      <td>03/30/2018 11:03:00 PM</td>\n",
       "      <td>40.0</td>\n",
       "      <td>Female</td>\n",
       "      <td>White</td>\n",
       "      <td>False</td>\n",
       "      <td>ACCIDENT</td>\n",
       "      <td>COMBINED DRUG (FENTANYL, METHADONE, AND ALPRAZ...</td>\n",
       "      <td>NaN</td>\n",
       "      <td>NaN</td>\n",
       "      <td>NaN</td>\n",
       "      <td>False</td>\n",
       "      <td>True</td>\n",
       "      <td>4345 AUTHUR AVE.</td>\n",
       "      <td>BROOKFIELD</td>\n",
       "      <td>NaN</td>\n",
       "      <td>NaN</td>\n",
       "      <td>63618</td>\n",
       "      <td>NaN</td>\n",
       "    </tr>\n",
       "    <tr>\n",
       "      <th>106</th>\n",
       "      <td>ME2018-01103</td>\n",
       "      <td>03/01/2018 02:02:00 PM</td>\n",
       "      <td>03/01/2018 02:45:00 PM</td>\n",
       "      <td>68.0</td>\n",
       "      <td>Male</td>\n",
       "      <td>Black</td>\n",
       "      <td>False</td>\n",
       "      <td>ACCIDENT</td>\n",
       "      <td>COMBINED DRUG (FENTANYL AND METHADONE) TOXICITY</td>\n",
       "      <td>NaN</td>\n",
       "      <td>NaN</td>\n",
       "      <td>NaN</td>\n",
       "      <td>False</td>\n",
       "      <td>True</td>\n",
       "      <td>1541 SOUTH HAMLIN</td>\n",
       "      <td>CHICAGO</td>\n",
       "      <td>-87.719819</td>\n",
       "      <td>41.859519</td>\n",
       "      <td>78255</td>\n",
       "      <td>(41.8595195, -87.7198186)</td>\n",
       "    </tr>\n",
       "    <tr>\n",
       "      <th>107</th>\n",
       "      <td>ME2018-02197</td>\n",
       "      <td>05/07/2018 09:27:00 AM</td>\n",
       "      <td>05/08/2018 05:23:00 AM</td>\n",
       "      <td>38.0</td>\n",
       "      <td>Female</td>\n",
       "      <td>White</td>\n",
       "      <td>False</td>\n",
       "      <td>ACCIDENT</td>\n",
       "      <td>FENTANYL AND COCAINE TOXICITY</td>\n",
       "      <td>NaN</td>\n",
       "      <td>NaN</td>\n",
       "      <td>NaN</td>\n",
       "      <td>False</td>\n",
       "      <td>True</td>\n",
       "      <td>15611 DIXIE HWY (APT 2)</td>\n",
       "      <td>HARVEY</td>\n",
       "      <td>-87.669333</td>\n",
       "      <td>41.605710</td>\n",
       "      <td>78760</td>\n",
       "      <td>(41.6057103, -87.6693327)</td>\n",
       "    </tr>\n",
       "    <tr>\n",
       "      <th>108</th>\n",
       "      <td>ME2017-05182</td>\n",
       "      <td>11/04/2017 08:45:00 PM</td>\n",
       "      <td>11/04/2017 09:03:00 PM</td>\n",
       "      <td>50.0</td>\n",
       "      <td>Male</td>\n",
       "      <td>Black</td>\n",
       "      <td>False</td>\n",
       "      <td>ACCIDENT</td>\n",
       "      <td>HEROIN AND ETHANOL TOXICITY</td>\n",
       "      <td>NaN</td>\n",
       "      <td>NaN</td>\n",
       "      <td>NaN</td>\n",
       "      <td>False</td>\n",
       "      <td>True</td>\n",
       "      <td>5319 S. WALCOTT</td>\n",
       "      <td>CHICAGO</td>\n",
       "      <td>-87.671718</td>\n",
       "      <td>41.797034</td>\n",
       "      <td>77967</td>\n",
       "      <td>(41.7970338, -87.6717184)</td>\n",
       "    </tr>\n",
       "    <tr>\n",
       "      <th>109</th>\n",
       "      <td>ME2017-05643</td>\n",
       "      <td>12/02/2017 02:50:00 PM</td>\n",
       "      <td>12/02/2017 02:44:00 PM</td>\n",
       "      <td>45.0</td>\n",
       "      <td>Male</td>\n",
       "      <td>White</td>\n",
       "      <td>False</td>\n",
       "      <td>ACCIDENT</td>\n",
       "      <td>COMBINED DRUG (HEROIN, FENTANYL, AND ACETYL FE...</td>\n",
       "      <td>NaN</td>\n",
       "      <td>NaN</td>\n",
       "      <td>NaN</td>\n",
       "      <td>False</td>\n",
       "      <td>True</td>\n",
       "      <td>4023 West Congress Parkway</td>\n",
       "      <td>CHICAGO</td>\n",
       "      <td>-87.726373</td>\n",
       "      <td>41.874299</td>\n",
       "      <td>77943</td>\n",
       "      <td>(41.8742991, -87.7263732)</td>\n",
       "    </tr>\n",
       "    <tr>\n",
       "      <th>128</th>\n",
       "      <td>ME2018-02201</td>\n",
       "      <td>04/10/2018 01:14:00 AM</td>\n",
       "      <td>04/14/2018 09:20:00 PM</td>\n",
       "      <td>57.0</td>\n",
       "      <td>Female</td>\n",
       "      <td>White</td>\n",
       "      <td>False</td>\n",
       "      <td>ACCIDENT</td>\n",
       "      <td>COMBINED DRUG (BENZODIAZEPINE AND PROBABLE HER...</td>\n",
       "      <td>NaN</td>\n",
       "      <td>NaN</td>\n",
       "      <td>NaN</td>\n",
       "      <td>False</td>\n",
       "      <td>True</td>\n",
       "      <td>411 FOREST PRESERVE DRIVE.</td>\n",
       "      <td>WOOD DALE</td>\n",
       "      <td>NaN</td>\n",
       "      <td>NaN</td>\n",
       "      <td>78485</td>\n",
       "      <td>NaN</td>\n",
       "    </tr>\n",
       "    <tr>\n",
       "      <th>161</th>\n",
       "      <td>ME2018-02220</td>\n",
       "      <td>05/02/2018 12:00:00 PM</td>\n",
       "      <td>05/05/2018 03:17:00 PM</td>\n",
       "      <td>35.0</td>\n",
       "      <td>Female</td>\n",
       "      <td>White</td>\n",
       "      <td>False</td>\n",
       "      <td>ACCIDENT</td>\n",
       "      <td>COMPLICATIONS OF METHADONE TOXICITY</td>\n",
       "      <td>NaN</td>\n",
       "      <td>NaN</td>\n",
       "      <td>NaN</td>\n",
       "      <td>False</td>\n",
       "      <td>True</td>\n",
       "      <td>15715 INDEPENDENCE CT</td>\n",
       "      <td>OAK FOREST</td>\n",
       "      <td>-87.757451</td>\n",
       "      <td>41.605997</td>\n",
       "      <td>78072</td>\n",
       "      <td>(41.6059968, -87.7574509)</td>\n",
       "    </tr>\n",
       "    <tr>\n",
       "      <th>175</th>\n",
       "      <td>ME2018-00926</td>\n",
       "      <td>02/20/2018 12:00:00 PM</td>\n",
       "      <td>02/20/2018 12:36:00 PM</td>\n",
       "      <td>39.0</td>\n",
       "      <td>Male</td>\n",
       "      <td>White</td>\n",
       "      <td>True</td>\n",
       "      <td>ACCIDENT</td>\n",
       "      <td>COMBINED HEROIN AND FENTANYL TOXICITY</td>\n",
       "      <td>NaN</td>\n",
       "      <td>NaN</td>\n",
       "      <td>NaN</td>\n",
       "      <td>False</td>\n",
       "      <td>True</td>\n",
       "      <td>4345 SOUTH PACKERS</td>\n",
       "      <td>NaN</td>\n",
       "      <td>-87.657687</td>\n",
       "      <td>41.814700</td>\n",
       "      <td>78047</td>\n",
       "      <td>(41.8147004, -87.6576873)</td>\n",
       "    </tr>\n",
       "    <tr>\n",
       "      <th>193</th>\n",
       "      <td>ME2017-04357</td>\n",
       "      <td>09/16/2017 03:46:00 AM</td>\n",
       "      <td>09/16/2017 04:01:00 AM</td>\n",
       "      <td>66.0</td>\n",
       "      <td>Male</td>\n",
       "      <td>White</td>\n",
       "      <td>False</td>\n",
       "      <td>ACCIDENT</td>\n",
       "      <td>FENTANYL AND ACETYL FENTANYL TOXICITY</td>\n",
       "      <td>NaN</td>\n",
       "      <td>NaN</td>\n",
       "      <td>NaN</td>\n",
       "      <td>False</td>\n",
       "      <td>True</td>\n",
       "      <td>7835 WEST CRESSETT</td>\n",
       "      <td>ELMWOOD PARK</td>\n",
       "      <td>-87.822402</td>\n",
       "      <td>41.930199</td>\n",
       "      <td>78115</td>\n",
       "      <td>(41.9301994, -87.8224024)</td>\n",
       "    </tr>\n",
       "    <tr>\n",
       "      <th>228</th>\n",
       "      <td>ME2016-03209</td>\n",
       "      <td>06/30/2016 09:45:00 AM</td>\n",
       "      <td>06/30/2016 10:02:00 AM</td>\n",
       "      <td>57.0</td>\n",
       "      <td>Male</td>\n",
       "      <td>White</td>\n",
       "      <td>False</td>\n",
       "      <td>ACCIDENT</td>\n",
       "      <td>ACUTE OXYCODONE AND OXYMORPHONE TOXICITY</td>\n",
       "      <td>NaN</td>\n",
       "      <td>NaN</td>\n",
       "      <td>NaN</td>\n",
       "      <td>False</td>\n",
       "      <td>True</td>\n",
       "      <td>7101 Emerson Street</td>\n",
       "      <td>MORTON GROVE</td>\n",
       "      <td>-87.803695</td>\n",
       "      <td>42.051732</td>\n",
       "      <td>60635</td>\n",
       "      <td>(42.0517323, -87.8036954)</td>\n",
       "    </tr>\n",
       "    <tr>\n",
       "      <th>232</th>\n",
       "      <td>ME2018-01362</td>\n",
       "      <td>03/16/2018 01:53:00 AM</td>\n",
       "      <td>03/16/2018 02:06:00 AM</td>\n",
       "      <td>49.0</td>\n",
       "      <td>Male</td>\n",
       "      <td>White</td>\n",
       "      <td>False</td>\n",
       "      <td>ACCIDENT</td>\n",
       "      <td>COMBINED ETHANOL, NORDIAZEPAM, AND FENTANYL TO...</td>\n",
       "      <td>NaN</td>\n",
       "      <td>NaN</td>\n",
       "      <td>NaN</td>\n",
       "      <td>False</td>\n",
       "      <td>True</td>\n",
       "      <td>945 W. BELMONT AVE.</td>\n",
       "      <td>CHICAGO</td>\n",
       "      <td>-87.653295</td>\n",
       "      <td>41.939872</td>\n",
       "      <td>78209</td>\n",
       "      <td>(41.9398725, -87.6532951)</td>\n",
       "    </tr>\n",
       "    <tr>\n",
       "      <th>233</th>\n",
       "      <td>ME2018-01822</td>\n",
       "      <td>04/15/2018 09:00:00 AM</td>\n",
       "      <td>04/15/2018 09:21:00 AM</td>\n",
       "      <td>57.0</td>\n",
       "      <td>Male</td>\n",
       "      <td>White</td>\n",
       "      <td>False</td>\n",
       "      <td>ACCIDENT</td>\n",
       "      <td>ALCOHOL, TEMAZEPAM AND ALPRAZOLAM TOXICITY</td>\n",
       "      <td>NaN</td>\n",
       "      <td>NaN</td>\n",
       "      <td>HYPERTENSIVE ARTERIOSCLEROTIC CARDIOVASCULAR D...</td>\n",
       "      <td>False</td>\n",
       "      <td>False</td>\n",
       "      <td>252 W. JENNIFER LANE #1</td>\n",
       "      <td>PALATINE</td>\n",
       "      <td>-88.049872</td>\n",
       "      <td>42.124696</td>\n",
       "      <td>78220</td>\n",
       "      <td>(42.1246964, -88.0498716)</td>\n",
       "    </tr>\n",
       "    <tr>\n",
       "      <th>243</th>\n",
       "      <td>ME2018-02302</td>\n",
       "      <td>05/10/2018 05:00:00 PM</td>\n",
       "      <td>05/14/2018 02:50:00 PM</td>\n",
       "      <td>61.0</td>\n",
       "      <td>Female</td>\n",
       "      <td>White</td>\n",
       "      <td>False</td>\n",
       "      <td>ACCIDENT</td>\n",
       "      <td>COMPLICATIONS OF OPIATE AND BENZODIAZEPINE TOX...</td>\n",
       "      <td>NaN</td>\n",
       "      <td>NaN</td>\n",
       "      <td>DIABETES MELLITUS, HYPERTENSIVE CARDIOVASCULAR...</td>\n",
       "      <td>False</td>\n",
       "      <td>True</td>\n",
       "      <td>3036 W. BELMONT</td>\n",
       "      <td>CHICAGO</td>\n",
       "      <td>-87.704238</td>\n",
       "      <td>41.939582</td>\n",
       "      <td>78349</td>\n",
       "      <td>(41.9395819, -87.7042375)</td>\n",
       "    </tr>\n",
       "    <tr>\n",
       "      <th>252</th>\n",
       "      <td>ME2017-00383</td>\n",
       "      <td>01/22/2017 09:30:00 AM</td>\n",
       "      <td>01/22/2017 10:00:00 AM</td>\n",
       "      <td>53.0</td>\n",
       "      <td>Female</td>\n",
       "      <td>White</td>\n",
       "      <td>False</td>\n",
       "      <td>ACCIDENT</td>\n",
       "      <td>ETHANOL AND COMBINED DRUG (HYDROCODONE, LEVETI...</td>\n",
       "      <td>NaN</td>\n",
       "      <td>NaN</td>\n",
       "      <td>NaN</td>\n",
       "      <td>False</td>\n",
       "      <td>True</td>\n",
       "      <td>2519 NORTH ROCKWELL STREET</td>\n",
       "      <td>CHICAGO</td>\n",
       "      <td>-87.692363</td>\n",
       "      <td>41.927295</td>\n",
       "      <td>74629</td>\n",
       "      <td>(41.9272948, -87.6923633)</td>\n",
       "    </tr>\n",
       "    <tr>\n",
       "      <th>255</th>\n",
       "      <td>ME2017-06107</td>\n",
       "      <td>12/27/2017 06:18:00 AM</td>\n",
       "      <td>12/30/2017 07:28:00 AM</td>\n",
       "      <td>27.0</td>\n",
       "      <td>Male</td>\n",
       "      <td>White</td>\n",
       "      <td>False</td>\n",
       "      <td>ACCIDENT</td>\n",
       "      <td>FENTANYL, DIAZEPAM, LORAZEPAM, AND SERTRALINE ...</td>\n",
       "      <td>NaN</td>\n",
       "      <td>NaN</td>\n",
       "      <td>HYPOTHERMIA DUE TO COLD EXPOSURE</td>\n",
       "      <td>False</td>\n",
       "      <td>True</td>\n",
       "      <td>135 E OAK ST</td>\n",
       "      <td>CHICAGO</td>\n",
       "      <td>-87.624631</td>\n",
       "      <td>41.900754</td>\n",
       "      <td>78228</td>\n",
       "      <td>(41.9007545, -87.6246305)</td>\n",
       "    </tr>\n",
       "    <tr>\n",
       "      <th>353</th>\n",
       "      <td>ME2018-02380</td>\n",
       "      <td>05/20/2018 09:25:00 AM</td>\n",
       "      <td>05/20/2018 10:03:00 AM</td>\n",
       "      <td>40.0</td>\n",
       "      <td>Male</td>\n",
       "      <td>Black</td>\n",
       "      <td>False</td>\n",
       "      <td>ACCIDENT</td>\n",
       "      <td>ETHANOL TOXICITY</td>\n",
       "      <td>NaN</td>\n",
       "      <td>NaN</td>\n",
       "      <td>HYPERTENSIVE CARDIOVASCULAR DISEASE, CHRONIC E...</td>\n",
       "      <td>False</td>\n",
       "      <td>False</td>\n",
       "      <td>6803 S. Clyde</td>\n",
       "      <td>CHICAGO</td>\n",
       "      <td>-87.573933</td>\n",
       "      <td>41.771578</td>\n",
       "      <td>78574</td>\n",
       "      <td>(41.7715777, -87.5739333)</td>\n",
       "    </tr>\n",
       "    <tr>\n",
       "      <th>356</th>\n",
       "      <td>ME2018-00475</td>\n",
       "      <td>01/23/2018 09:42:00 PM</td>\n",
       "      <td>01/23/2018 09:59:00 PM</td>\n",
       "      <td>53.0</td>\n",
       "      <td>Female</td>\n",
       "      <td>Black</td>\n",
       "      <td>False</td>\n",
       "      <td>ACCIDENT</td>\n",
       "      <td>COCAINE TOXICITY</td>\n",
       "      <td>NaN</td>\n",
       "      <td>NaN</td>\n",
       "      <td>HYPERTENSIVE CARDIOVASCULAR DISEASE</td>\n",
       "      <td>False</td>\n",
       "      <td>False</td>\n",
       "      <td>14134 PAGE ST.</td>\n",
       "      <td>DIXMOOR</td>\n",
       "      <td>-87.659803</td>\n",
       "      <td>41.632238</td>\n",
       "      <td>58259</td>\n",
       "      <td>(41.6322383, -87.6598032)</td>\n",
       "    </tr>\n",
       "    <tr>\n",
       "      <th>388</th>\n",
       "      <td>ME2018-01138</td>\n",
       "      <td>03/03/2018 09:30:00 AM</td>\n",
       "      <td>03/03/2018 10:13:00 AM</td>\n",
       "      <td>27.0</td>\n",
       "      <td>Male</td>\n",
       "      <td>Black</td>\n",
       "      <td>False</td>\n",
       "      <td>ACCIDENT</td>\n",
       "      <td>FENTANYL AND ALPRAZOLAM TOXICITY</td>\n",
       "      <td>NaN</td>\n",
       "      <td>NaN</td>\n",
       "      <td>NaN</td>\n",
       "      <td>False</td>\n",
       "      <td>True</td>\n",
       "      <td>7829 S. PEORIA 2ND FLOOR APT</td>\n",
       "      <td>CHICAGO</td>\n",
       "      <td>-87.646202</td>\n",
       "      <td>41.751532</td>\n",
       "      <td>68896</td>\n",
       "      <td>(41.7515321, -87.6462021)</td>\n",
       "    </tr>\n",
       "    <tr>\n",
       "      <th>396</th>\n",
       "      <td>ME2018-01232</td>\n",
       "      <td>03/08/2018 02:10:00 PM</td>\n",
       "      <td>03/08/2018 02:42:00 PM</td>\n",
       "      <td>36.0</td>\n",
       "      <td>Male</td>\n",
       "      <td>White</td>\n",
       "      <td>True</td>\n",
       "      <td>ACCIDENT</td>\n",
       "      <td>COMBINED DRUG (CARFENTANIL, FURANYL FENTANYL, ...</td>\n",
       "      <td>NaN</td>\n",
       "      <td>NaN</td>\n",
       "      <td>NaN</td>\n",
       "      <td>False</td>\n",
       "      <td>True</td>\n",
       "      <td>1600 N. WESTERN AND NORTH AVE.</td>\n",
       "      <td>CHICAGO</td>\n",
       "      <td>-87.687300</td>\n",
       "      <td>41.910342</td>\n",
       "      <td>69942</td>\n",
       "      <td>(41.9103425, -87.6873004)</td>\n",
       "    </tr>\n",
       "    <tr>\n",
       "      <th>398</th>\n",
       "      <td>ME2018-01248</td>\n",
       "      <td>03/09/2018 12:00:00 AM</td>\n",
       "      <td>03/09/2018 11:41:00 AM</td>\n",
       "      <td>45.0</td>\n",
       "      <td>Female</td>\n",
       "      <td>Black</td>\n",
       "      <td>False</td>\n",
       "      <td>ACCIDENT</td>\n",
       "      <td>COCAINE TOXICITY</td>\n",
       "      <td>NaN</td>\n",
       "      <td>NaN</td>\n",
       "      <td>NaN</td>\n",
       "      <td>False</td>\n",
       "      <td>False</td>\n",
       "      <td>3554 W Ohio</td>\n",
       "      <td>CHICAGO</td>\n",
       "      <td>-87.715687</td>\n",
       "      <td>41.891864</td>\n",
       "      <td>69058</td>\n",
       "      <td>(41.8918636, -87.7156869)</td>\n",
       "    </tr>\n",
       "    <tr>\n",
       "      <th>424</th>\n",
       "      <td>ME2018-01276</td>\n",
       "      <td>03/05/2018 05:45:00 AM</td>\n",
       "      <td>03/10/2018 08:21:00 PM</td>\n",
       "      <td>53.0</td>\n",
       "      <td>Male</td>\n",
       "      <td>White</td>\n",
       "      <td>False</td>\n",
       "      <td>ACCIDENT</td>\n",
       "      <td>COMPLICATIONS OF COMBINED DRUG (COCAINE AND PR...</td>\n",
       "      <td>NaN</td>\n",
       "      <td>NaN</td>\n",
       "      <td>END STAGE RENAL DISEASE, HYPERTENSION, CHRONIC...</td>\n",
       "      <td>False</td>\n",
       "      <td>True</td>\n",
       "      <td>5917 W. CORCORAN PLACE</td>\n",
       "      <td>CHICAGO</td>\n",
       "      <td>-87.772789</td>\n",
       "      <td>41.886863</td>\n",
       "      <td>62871</td>\n",
       "      <td>(41.8868633, -87.7727888)</td>\n",
       "    </tr>\n",
       "  </tbody>\n",
       "</table>\n",
       "</div>"
      ],
      "text/plain": [
       "      Case Number        Date of Incident           Date of Death   Age  \\\n",
       "15   ME2018-01127  03/03/2018 02:15:00 AM  03/03/2018 02:24:00 AM  37.0   \n",
       "45   ME2018-00910  02/19/2018 08:00:00 PM  02/19/2018 08:22:00 PM  56.0   \n",
       "51   ME2018-00400  01/20/2018 11:15:00 AM  01/20/2018 11:57:00 AM  19.0   \n",
       "53   ME2018-00643  02/03/2018 10:45:00 AM  02/03/2018 11:11:00 AM  35.0   \n",
       "54   ME2018-00671  02/05/2018 12:00:00 AM  02/05/2018 12:10:00 AM  27.0   \n",
       "65   ME2018-01129  03/03/2018 03:45:00 AM  03/03/2018 04:31:00 AM  34.0   \n",
       "69   ME2018-01356  03/15/2018 01:31:00 PM  03/15/2018 01:44:00 PM  26.0   \n",
       "93   ME2018-01560  03/29/2018 06:50:00 PM  03/29/2018 07:12:00 PM  38.0   \n",
       "99   ME2018-01570  03/30/2018 03:33:00 PM  03/30/2018 04:20:00 PM  50.0   \n",
       "102  ME2018-01574  03/30/2018 10:43:00 PM  03/30/2018 11:03:00 PM  40.0   \n",
       "106  ME2018-01103  03/01/2018 02:02:00 PM  03/01/2018 02:45:00 PM  68.0   \n",
       "107  ME2018-02197  05/07/2018 09:27:00 AM  05/08/2018 05:23:00 AM  38.0   \n",
       "108  ME2017-05182  11/04/2017 08:45:00 PM  11/04/2017 09:03:00 PM  50.0   \n",
       "109  ME2017-05643  12/02/2017 02:50:00 PM  12/02/2017 02:44:00 PM  45.0   \n",
       "128  ME2018-02201  04/10/2018 01:14:00 AM  04/14/2018 09:20:00 PM  57.0   \n",
       "161  ME2018-02220  05/02/2018 12:00:00 PM  05/05/2018 03:17:00 PM  35.0   \n",
       "175  ME2018-00926  02/20/2018 12:00:00 PM  02/20/2018 12:36:00 PM  39.0   \n",
       "193  ME2017-04357  09/16/2017 03:46:00 AM  09/16/2017 04:01:00 AM  66.0   \n",
       "228  ME2016-03209  06/30/2016 09:45:00 AM  06/30/2016 10:02:00 AM  57.0   \n",
       "232  ME2018-01362  03/16/2018 01:53:00 AM  03/16/2018 02:06:00 AM  49.0   \n",
       "233  ME2018-01822  04/15/2018 09:00:00 AM  04/15/2018 09:21:00 AM  57.0   \n",
       "243  ME2018-02302  05/10/2018 05:00:00 PM  05/14/2018 02:50:00 PM  61.0   \n",
       "252  ME2017-00383  01/22/2017 09:30:00 AM  01/22/2017 10:00:00 AM  53.0   \n",
       "255  ME2017-06107  12/27/2017 06:18:00 AM  12/30/2017 07:28:00 AM  27.0   \n",
       "353  ME2018-02380  05/20/2018 09:25:00 AM  05/20/2018 10:03:00 AM  40.0   \n",
       "356  ME2018-00475  01/23/2018 09:42:00 PM  01/23/2018 09:59:00 PM  53.0   \n",
       "388  ME2018-01138  03/03/2018 09:30:00 AM  03/03/2018 10:13:00 AM  27.0   \n",
       "396  ME2018-01232  03/08/2018 02:10:00 PM  03/08/2018 02:42:00 PM  36.0   \n",
       "398  ME2018-01248  03/09/2018 12:00:00 AM  03/09/2018 11:41:00 AM  45.0   \n",
       "424  ME2018-01276  03/05/2018 05:45:00 AM  03/10/2018 08:21:00 PM  53.0   \n",
       "\n",
       "     Gender   Race  Latino Manner of Death  \\\n",
       "15     Male  White   False        ACCIDENT   \n",
       "45     Male  Black   False        ACCIDENT   \n",
       "51     Male  White   False        ACCIDENT   \n",
       "53     Male  White   False        ACCIDENT   \n",
       "54     Male  White   False        ACCIDENT   \n",
       "65     Male  Black   False        ACCIDENT   \n",
       "69     Male  White   False        ACCIDENT   \n",
       "93     Male  Asian   False        ACCIDENT   \n",
       "99     Male  White   False        ACCIDENT   \n",
       "102  Female  White   False        ACCIDENT   \n",
       "106    Male  Black   False        ACCIDENT   \n",
       "107  Female  White   False        ACCIDENT   \n",
       "108    Male  Black   False        ACCIDENT   \n",
       "109    Male  White   False        ACCIDENT   \n",
       "128  Female  White   False        ACCIDENT   \n",
       "161  Female  White   False        ACCIDENT   \n",
       "175    Male  White    True        ACCIDENT   \n",
       "193    Male  White   False        ACCIDENT   \n",
       "228    Male  White   False        ACCIDENT   \n",
       "232    Male  White   False        ACCIDENT   \n",
       "233    Male  White   False        ACCIDENT   \n",
       "243  Female  White   False        ACCIDENT   \n",
       "252  Female  White   False        ACCIDENT   \n",
       "255    Male  White   False        ACCIDENT   \n",
       "353    Male  Black   False        ACCIDENT   \n",
       "356  Female  Black   False        ACCIDENT   \n",
       "388    Male  Black   False        ACCIDENT   \n",
       "396    Male  White    True        ACCIDENT   \n",
       "398  Female  Black   False        ACCIDENT   \n",
       "424    Male  White   False        ACCIDENT   \n",
       "\n",
       "                                         Primary Cause Primary Cause Line B  \\\n",
       "15   COMBINED DRUG (COCAINE, HEROIN, FENTANYL) TOXI...                  NaN   \n",
       "45         COMBINED DRUG (COCAINE AND HEROIN) TOXICITY                  NaN   \n",
       "51                                     HEROIN TOXICITY                  NaN   \n",
       "53   ETHANOL AND COMBINED DRUG (PROBABLE HEROIN, CY...                  NaN   \n",
       "54      COMBINED FENTANYL AND PROBABLE HEROIN TOXICITY                  NaN   \n",
       "65                              ACUTE ETHANOL TOXICITY                  NaN   \n",
       "69           FENTANYL, HEROIN, AND ALPRAZOLAM TOXICITY                  NaN   \n",
       "93                       COCAINE AND FENTANYL TOXICITY                  NaN   \n",
       "99      COCAINE, FENTANYL AND ACETYL FENTANYL TOXICITY                  NaN   \n",
       "102  COMBINED DRUG (FENTANYL, METHADONE, AND ALPRAZ...                  NaN   \n",
       "106    COMBINED DRUG (FENTANYL AND METHADONE) TOXICITY                  NaN   \n",
       "107                      FENTANYL AND COCAINE TOXICITY                  NaN   \n",
       "108                        HEROIN AND ETHANOL TOXICITY                  NaN   \n",
       "109  COMBINED DRUG (HEROIN, FENTANYL, AND ACETYL FE...                  NaN   \n",
       "128  COMBINED DRUG (BENZODIAZEPINE AND PROBABLE HER...                  NaN   \n",
       "161                COMPLICATIONS OF METHADONE TOXICITY                  NaN   \n",
       "175              COMBINED HEROIN AND FENTANYL TOXICITY                  NaN   \n",
       "193              FENTANYL AND ACETYL FENTANYL TOXICITY                  NaN   \n",
       "228           ACUTE OXYCODONE AND OXYMORPHONE TOXICITY                  NaN   \n",
       "232  COMBINED ETHANOL, NORDIAZEPAM, AND FENTANYL TO...                  NaN   \n",
       "233         ALCOHOL, TEMAZEPAM AND ALPRAZOLAM TOXICITY                  NaN   \n",
       "243  COMPLICATIONS OF OPIATE AND BENZODIAZEPINE TOX...                  NaN   \n",
       "252  ETHANOL AND COMBINED DRUG (HYDROCODONE, LEVETI...                  NaN   \n",
       "255  FENTANYL, DIAZEPAM, LORAZEPAM, AND SERTRALINE ...                  NaN   \n",
       "353                                   ETHANOL TOXICITY                  NaN   \n",
       "356                                   COCAINE TOXICITY                  NaN   \n",
       "388                   FENTANYL AND ALPRAZOLAM TOXICITY                  NaN   \n",
       "396  COMBINED DRUG (CARFENTANIL, FURANYL FENTANYL, ...                  NaN   \n",
       "398                                   COCAINE TOXICITY                  NaN   \n",
       "424  COMPLICATIONS OF COMBINED DRUG (COCAINE AND PR...                  NaN   \n",
       "\n",
       "    Primary Cause Line C                                    Secondary Cause  \\\n",
       "15                   NaN                                                NaN   \n",
       "45                   NaN                                                NaN   \n",
       "51                   NaN                                                NaN   \n",
       "53                   NaN                                                NaN   \n",
       "54                   NaN                                            OBESITY   \n",
       "65                   NaN                                                NaN   \n",
       "69                   NaN                                                NaN   \n",
       "93                   NaN                                                NaN   \n",
       "99                   NaN                                                NaN   \n",
       "102                  NaN                                                NaN   \n",
       "106                  NaN                                                NaN   \n",
       "107                  NaN                                                NaN   \n",
       "108                  NaN                                                NaN   \n",
       "109                  NaN                                                NaN   \n",
       "128                  NaN                                                NaN   \n",
       "161                  NaN                                                NaN   \n",
       "175                  NaN                                                NaN   \n",
       "193                  NaN                                                NaN   \n",
       "228                  NaN                                                NaN   \n",
       "232                  NaN                                                NaN   \n",
       "233                  NaN  HYPERTENSIVE ARTERIOSCLEROTIC CARDIOVASCULAR D...   \n",
       "243                  NaN  DIABETES MELLITUS, HYPERTENSIVE CARDIOVASCULAR...   \n",
       "252                  NaN                                                NaN   \n",
       "255                  NaN                   HYPOTHERMIA DUE TO COLD EXPOSURE   \n",
       "353                  NaN  HYPERTENSIVE CARDIOVASCULAR DISEASE, CHRONIC E...   \n",
       "356                  NaN                HYPERTENSIVE CARDIOVASCULAR DISEASE   \n",
       "388                  NaN                                                NaN   \n",
       "396                  NaN                                                NaN   \n",
       "398                  NaN                                                NaN   \n",
       "424                  NaN  END STAGE RENAL DISEASE, HYPERTENSION, CHRONIC...   \n",
       "\n",
       "     Gun Related  Opioid Related                Incident Address  \\\n",
       "15         False            True          6547 W. 111TH APT W-27   \n",
       "45         False            True     7724 SOUTH LOOMIS BLVD   #1   \n",
       "51         False            True         5719 S. Kimbark, Apt. 3   \n",
       "53         False            True    2540 N. Manheim Road, Rm#215   \n",
       "54         False            True               3435 W. VAN BUREN   \n",
       "65         False           False                7899 SOUTH SHORE   \n",
       "69         False            True               710 N. 4TH AVENUE   \n",
       "93         False            True        535 N MICHIGAN AVE #2705   \n",
       "99         False            True    1042 N. KNOLLWOOD DR. UNIT A   \n",
       "102        False            True                4345 AUTHUR AVE.   \n",
       "106        False            True               1541 SOUTH HAMLIN   \n",
       "107        False            True         15611 DIXIE HWY (APT 2)   \n",
       "108        False            True                 5319 S. WALCOTT   \n",
       "109        False            True      4023 West Congress Parkway   \n",
       "128        False            True      411 FOREST PRESERVE DRIVE.   \n",
       "161        False            True           15715 INDEPENDENCE CT   \n",
       "175        False            True              4345 SOUTH PACKERS   \n",
       "193        False            True              7835 WEST CRESSETT   \n",
       "228        False            True             7101 Emerson Street   \n",
       "232        False            True             945 W. BELMONT AVE.   \n",
       "233        False           False         252 W. JENNIFER LANE #1   \n",
       "243        False            True                 3036 W. BELMONT   \n",
       "252        False            True      2519 NORTH ROCKWELL STREET   \n",
       "255        False            True                    135 E OAK ST   \n",
       "353        False           False                   6803 S. Clyde   \n",
       "356        False           False                  14134 PAGE ST.   \n",
       "388        False            True    7829 S. PEORIA 2ND FLOOR APT   \n",
       "396        False            True  1600 N. WESTERN AND NORTH AVE.   \n",
       "398        False           False                     3554 W Ohio   \n",
       "424        False            True          5917 W. CORCORAN PLACE   \n",
       "\n",
       "     Incident City  longitude   latitude  OBJECTID                   location  \n",
       "15           WORTH -87.781732  41.689640     63784  (41.6896403, -87.7817317)  \n",
       "45         CHICAGO -87.658932  41.753282     69589  (41.7532818, -87.6589318)  \n",
       "51         CHICAGO -87.594142  41.790743     77880  (41.7907435, -87.5941419)  \n",
       "53   FRANKLIN PARK        NaN        NaN     77879                        NaN  \n",
       "54         CHICAGO -87.711994  41.875391     77910  (41.8753913, -87.7119935)  \n",
       "65         CHICAGO -87.548113  41.752056     68080  (41.7520559, -87.5481134)  \n",
       "69         MAYWOOD -87.838564  41.893982     77870  (41.8939818, -87.8385636)  \n",
       "93         CHICAGO -87.623541  41.891975     66297  (41.8919752, -87.6235405)  \n",
       "99      SCHAUMBURG -88.138219  42.044579     62417  (42.0445787, -88.1382195)  \n",
       "102     BROOKFIELD        NaN        NaN     63618                        NaN  \n",
       "106        CHICAGO -87.719819  41.859519     78255  (41.8595195, -87.7198186)  \n",
       "107         HARVEY -87.669333  41.605710     78760  (41.6057103, -87.6693327)  \n",
       "108        CHICAGO -87.671718  41.797034     77967  (41.7970338, -87.6717184)  \n",
       "109        CHICAGO -87.726373  41.874299     77943  (41.8742991, -87.7263732)  \n",
       "128      WOOD DALE        NaN        NaN     78485                        NaN  \n",
       "161     OAK FOREST -87.757451  41.605997     78072  (41.6059968, -87.7574509)  \n",
       "175            NaN -87.657687  41.814700     78047  (41.8147004, -87.6576873)  \n",
       "193   ELMWOOD PARK -87.822402  41.930199     78115  (41.9301994, -87.8224024)  \n",
       "228   MORTON GROVE -87.803695  42.051732     60635  (42.0517323, -87.8036954)  \n",
       "232        CHICAGO -87.653295  41.939872     78209  (41.9398725, -87.6532951)  \n",
       "233       PALATINE -88.049872  42.124696     78220  (42.1246964, -88.0498716)  \n",
       "243        CHICAGO -87.704238  41.939582     78349  (41.9395819, -87.7042375)  \n",
       "252        CHICAGO -87.692363  41.927295     74629  (41.9272948, -87.6923633)  \n",
       "255        CHICAGO -87.624631  41.900754     78228  (41.9007545, -87.6246305)  \n",
       "353        CHICAGO -87.573933  41.771578     78574  (41.7715777, -87.5739333)  \n",
       "356        DIXMOOR -87.659803  41.632238     58259  (41.6322383, -87.6598032)  \n",
       "388        CHICAGO -87.646202  41.751532     68896  (41.7515321, -87.6462021)  \n",
       "396        CHICAGO -87.687300  41.910342     69942  (41.9103425, -87.6873004)  \n",
       "398        CHICAGO -87.715687  41.891864     69058  (41.8918636, -87.7156869)  \n",
       "424        CHICAGO -87.772789  41.886863     62871  (41.8868633, -87.7727888)  "
      ]
     },
     "execution_count": 63,
     "metadata": {},
     "output_type": "execute_result"
    }
   ],
   "source": [
    "toxicity[df['Manner of Death']== 'ACCIDENT'].head(30)"
   ]
  },
  {
   "cell_type": "markdown",
   "metadata": {},
   "source": [
    "## Wow, that's a lot of drug overdoses. What's more popular for overdosing: heroin, fentanyl, cocaine, or ethanol?\n",
    "\n",
    "You can count something like \"COMBINED ETHANOL, NORDIAZEPAM, AND FENTANYL TOXICITY\" under both ethanol and fentanyl.\n",
    "\n",
    "- *Tip: Search for them individually*"
   ]
  },
  {
   "cell_type": "code",
   "execution_count": 68,
   "metadata": {},
   "outputs": [
    {
     "name": "stderr",
     "output_type": "stream",
     "text": [
      "/Library/Frameworks/Python.framework/Versions/3.7/lib/python3.7/site-packages/ipykernel_launcher.py:1: UserWarning: Boolean Series key will be reindexed to match DataFrame index.\n",
      "  \"\"\"Entry point for launching an IPython kernel.\n"
     ]
    },
    {
     "data": {
      "text/plain": [
       "(1755, 20)"
      ]
     },
     "execution_count": 68,
     "metadata": {},
     "output_type": "execute_result"
    }
   ],
   "source": [
    "overdose = toxicity[df['Manner of Death']== 'ACCIDENT']\n",
    "heroin = overdose[overdose['Primary Cause'].str.contains(\"heroin\", case = False, na = False)]\n",
    "heroin.shape"
   ]
  },
  {
   "cell_type": "code",
   "execution_count": 97,
   "metadata": {},
   "outputs": [
    {
     "data": {
      "text/plain": [
       "(1339, 20)"
      ]
     },
     "execution_count": 97,
     "metadata": {},
     "output_type": "execute_result"
    }
   ],
   "source": [
    "fentanyl = overdose[overdose['Primary Cause'].str.contains(\"fentanyl\", case = False, na = False)]\n",
    "fentanyl.shape"
   ]
  },
  {
   "cell_type": "code",
   "execution_count": 70,
   "metadata": {},
   "outputs": [
    {
     "data": {
      "text/plain": [
       "(912, 20)"
      ]
     },
     "execution_count": 70,
     "metadata": {},
     "output_type": "execute_result"
    }
   ],
   "source": [
    "cocaine = overdose[overdose['Primary Cause'].str.contains(\"cocaine\", case = False, na = False)]\n",
    "cocaine.shape"
   ]
  },
  {
   "cell_type": "code",
   "execution_count": 71,
   "metadata": {},
   "outputs": [
    {
     "data": {
      "text/plain": [
       "(800, 20)"
      ]
     },
     "execution_count": 71,
     "metadata": {},
     "output_type": "execute_result"
    }
   ],
   "source": [
    "ethanol = overdose[overdose['Primary Cause'].str.contains(\"ethanol\", case = False, na = False)]\n",
    "ethanol.shape"
   ]
  },
  {
   "cell_type": "markdown",
   "metadata": {},
   "source": [
    "# Cleaning up Primary Cause\n",
    "\n",
    "Let's stop investigating for a second and maybe clean up this \"Primary Cause\" column.\n",
    "\n",
    "## What are the most common Primary Cause of death? Include `NaN` values\n",
    "\n",
    "- *Tip: There is an option that keeps `NaN` values when counting things in a column.*"
   ]
  },
  {
   "cell_type": "code",
   "execution_count": 80,
   "metadata": {},
   "outputs": [
    {
     "data": {
      "text/plain": [
       "ORGANIC CARDIOVASCULAR DISEASE                                                                                                      1983\n",
       "MULTIPLE GUNSHOT WOUNDS                                                                                                             1377\n",
       "HYPERTENSIVE CARDIOVASCULAR DISEASE                                                                                                 1177\n",
       "ARTERIOSCLEROTIC CARDIOVASCULAR DISEASE                                                                                              974\n",
       "HYPERTENSIVE ARTERIOSCLEROTIC CARDIOVASCULAR DISEASE                                                                                 960\n",
       "MULTIPLE INJURIES                                                                                                                    941\n",
       "HYPERTENSIVE AND ARTERIOSCLEROTIC CARDIOVASCULAR DISEASE                                                                             460\n",
       "PENDING                                                                                                                              452\n",
       "GUNSHOT WOUND OF HEAD                                                                                                                440\n",
       "HANGING                                                                                                                              323\n",
       "MULTIPLE BLUNT FORCE INJURIES                                                                                                        299\n",
       "HYPERTENSIVE AND ATHEROSCLEROTIC CARDIOVASCULAR DISEASE                                                                              298\n",
       "HEROIN TOXICITY                                                                                                                      286\n",
       "ASPHYXIA                                                                                                                             255\n",
       "UNDETERMINED                                                                                                                         242\n",
       "CLOSED HEAD INJURIES                                                                                                                 217\n",
       "CHRONIC ETHANOLISM                                                                                                                   205\n",
       "CORONARY ATHEROSCLEROSIS                                                                                                             203\n",
       "DROWNING                                                                                                                             185\n",
       "COMPLICATIONS OF FALL                                                                                                                181\n",
       "COMPLICATIONS OF CHRONIC ETHANOLISM                                                                                                  177\n",
       "COMPLICATIONS OF MULTIPLE INJURIES                                                                                                   160\n",
       "ASPHYXIATION                                                                                                                         151\n",
       "ATHEROSCLEROTIC CARDIOVASCULAR DISEASE                                                                                               140\n",
       "GUNSHOT WOUND OF THE HEAD                                                                                                            132\n",
       "NaN                                                                                                                                  124\n",
       "PULMONARY THROMBOEMBOLISM                                                                                                            122\n",
       "GUNSHOT WOUND OF CHEST                                                                                                               120\n",
       "DIABETIC KETOACIDOSIS                                                                                                                107\n",
       "FENTANYL TOXICITY                                                                                                                    103\n",
       "                                                                                                                                    ... \n",
       "COMBINED DRUG (HEROIN AND HYDROMORPHONE) TOXICITY                                                                                      1\n",
       "OPIATE, FURANYL FENTANYL, DESPROPIONYL FENTANYL (4-ANPP) AND ETHANOL TOXICITY                                                          1\n",
       "COMPLICATIONS OF INFLICTED CLOSED HEAD INJURY                                                                                          1\n",
       "COMBINED DRUG (ALPRAZOLAM, HEROIN, AND HYDROCODONE) TOXICITY                                                                           1\n",
       "GABAPENTIN, DIAZEPAM, HYDROCODONE, AND NORDIAZEPAM TOXICITY                                                                            1\n",
       "OBESITY RELATED CARDIOVASCULAR DISEASE                                                                                                 1\n",
       "GUNSHOT WOUND OF SHOULDER                                                                                                              1\n",
       "MIXED DRUG TOXICITY (HEROIN, COCAINE)                                                                                                  1\n",
       "METASTATIC ESOPHAGEAL CARCINOMA                                                                                                        1\n",
       "COMBINED ETHANOL, HEROIN AND FENTANYL TOXICITY                                                                                         1\n",
       "COMBINED COCAINE, HEROIN, ALPRAZOLAM, AND ETHANOL TOXICITY                                                                             1\n",
       "COCAINE, ETHANOL, AND PHENCYCLIDINE TOXICITY                                                                                           1\n",
       "LEFT SUBDURAL HEMATOMA                                                                                                                 1\n",
       "ACUTE UPPER GASTROINTESTINAL BLEEDING                                                                                                  1\n",
       "COMPLICATIONS OF OVARIAN CARCINOMA                                                                                                     1\n",
       "PROBABLE COCAINE INTOXICATION                                                                                                          1\n",
       "ACUTE ALPRAZOLAM TOXICIY                                                                                                               1\n",
       "ATHEROSCLEROTIC COROANRY ARTERY DISEASE                                                                                                1\n",
       "ACUTE INFLUENZA A VIRUS INFECTION                                                                                                      1\n",
       "MORPHINE, ETHANOL, CLOBAZAM AND LORAZEPAM TOXICITY                                                                                     1\n",
       "DELAYED COMPLICATIONS OF VOLVULUS                                                                                                      1\n",
       "HYPERTESIVE CARDIOVASCULAR DISEASE                                                                                                     1\n",
       "COMBINED HEROIN, COCAINE AND METHADONE TOXICITY                                                                                        1\n",
       "COMBINED DRUG (HEROIN, 4-ANPP, AND FURANYL FENTANYL) TOXICITY                                                                          1\n",
       "COMBINED DRUG (FENTANYL, 4-ANPP, AND PROBABLE HEROIN) TOXICITY                                                                         1\n",
       "FRACTURE OF PELVIS                                                                                                                     1\n",
       "ACUTE HALOCARBON AND VOLATILE CHEMICAL (DICHLOROMETHANE, TOLUENE, ACETONE, ISOPROPANOL, METHANOL, METHYL ETHYL KETONE) EXPOSURE.       1\n",
       "COMBINED DRUG TOXICITY (COCAINE, ETHANOL, FURANYL FENTANYL, DESPROPIONYL FENTANYL)                                                     1\n",
       "COMPLICATIONS OF SICKLE CELL DISEASE                                                                                                   1\n",
       "COMBINED DRUG INTOXICATION (ETHANOL, QUETIAPINE, OXAZEPAM, TEMAZEPAM, LORAZEPAM)                                                       1\n",
       "Name: Primary Cause, Length: 3994, dtype: int64"
      ]
     },
     "execution_count": 80,
     "metadata": {},
     "output_type": "execute_result"
    }
   ],
   "source": [
    "df['Primary Cause'].value_counts(dropna = False)"
   ]
  },
  {
   "cell_type": "markdown",
   "metadata": {},
   "source": [
    "## That was horrible looking. I don't want to read through that - how many `NaN` causes of death are there?\n",
    "\n",
    "- *Tip: You can use `isnull()` to see if it's missing data, but how do you count the results?*"
   ]
  },
  {
   "cell_type": "code",
   "execution_count": 82,
   "metadata": {},
   "outputs": [
    {
     "data": {
      "text/plain": [
       "(124, 20)"
      ]
     },
     "execution_count": 82,
     "metadata": {},
     "output_type": "execute_result"
    }
   ],
   "source": [
    "df[df['Primary Cause'].isnull() == True].shape"
   ]
  },
  {
   "cell_type": "markdown",
   "metadata": {},
   "source": [
    "## Remove all rows where the primary cause of death has not been filled out.\n",
    "\n",
    "- *Tip: confirm that you have 22510 rows when you're done*"
   ]
  },
  {
   "cell_type": "code",
   "execution_count": 83,
   "metadata": {},
   "outputs": [
    {
     "data": {
      "text/plain": [
       "(22510, 20)"
      ]
     },
     "execution_count": 83,
     "metadata": {},
     "output_type": "execute_result"
    }
   ],
   "source": [
    "df.dropna(subset = [\"Primary Cause\"], inplace = True)\n",
    "df.shape"
   ]
  },
  {
   "cell_type": "markdown",
   "metadata": {},
   "source": [
    "# Cardiovascular disease\n",
    "\n",
    "Cardiovascular disease (heart disease) is the number one or number two killer in America.\n",
    "\n",
    "### Filter for only rows where cardiovascular disease was a primary cause\n",
    "\n",
    "- *Tip: I hope you know how to deal with the `NaN` error message by now!*"
   ]
  },
  {
   "cell_type": "code",
   "execution_count": 86,
   "metadata": {},
   "outputs": [
    {
     "data": {
      "text/plain": [
       "(6554, 20)"
      ]
     },
     "execution_count": 86,
     "metadata": {},
     "output_type": "execute_result"
    }
   ],
   "source": [
    "cardi_d = df[(df['Primary Cause'].str.contains(\"cardiovascular\", case = False, na = False))\n",
    "            |(df['Primary Cause'].str.contains(\"heart.*disease\", case = False, na = False))]\n",
    "cardi_d.shape"
   ]
  },
  {
   "cell_type": "markdown",
   "metadata": {},
   "source": [
    "### What are the different types?"
   ]
  },
  {
   "cell_type": "code",
   "execution_count": 87,
   "metadata": {},
   "outputs": [
    {
     "data": {
      "text/plain": [
       "ORGANIC CARDIOVASCULAR DISEASE                                        1983\n",
       "HYPERTENSIVE CARDIOVASCULAR DISEASE                                   1177\n",
       "ARTERIOSCLEROTIC CARDIOVASCULAR DISEASE                                974\n",
       "HYPERTENSIVE ARTERIOSCLEROTIC CARDIOVASCULAR DISEASE                   960\n",
       "HYPERTENSIVE AND ARTERIOSCLEROTIC CARDIOVASCULAR DISEASE               460\n",
       "HYPERTENSIVE AND ATHEROSCLEROTIC CARDIOVASCULAR DISEASE                298\n",
       "ATHEROSCLEROTIC CARDIOVASCULAR DISEASE                                 140\n",
       "HYPERTENSIVE-ARTERIOSCLEROTIC CARDIOVASCULAR DISEASE                    90\n",
       "ORGANIC  CARDIOVASCULAR DISEASE                                         77\n",
       "HYPERTENSIVE HEART DISEASE                                              38\n",
       "HYPERTENSIVE ATHEROSCLEROTIC CARDIOVASCULAR DISEASE                     38\n",
       "ATHEROSCLEROTIC AND HYPERTENSIVE HEART DISEASE                          25\n",
       "ORGANIC CARDIOVASCULAR DISEASE.                                         19\n",
       "ATHEROSCLEROTIC AND HYPERTENSIVE CARDIOVASCULAR DISEASE                 16\n",
       "ARTERIOSCLEROTIC CARDIOVASCULAR DISEASE.                                15\n",
       "HYPERTENSIVE AND ARTERIOSCLEROTIC CARDIOVASCULAR DISEASE.               15\n",
       "HYPERTENSIVE AND ATHEROSCLEROTIC HEART DISEASE                          14\n",
       "ARTERIOSLCEROTIC CARDIOVASCULAR DISEASE                                  9\n",
       "HYPERTENSIVE ARTERIOSCLEROTIC CARDIOVASCULAR DIASEASE                    9\n",
       "HYPERTENSIVE ARTERIOSCLEROTIC CARDIOVASCULAR DISEASE.                    7\n",
       "ATHEROSCLEROTIC HEART DISEASE                                            5\n",
       "VALVULAR HEART DISEASE                                                   4\n",
       "VALVULAR CARDIOVASCULAR DISEASE                                          4\n",
       "COMPLICATIONS OF CONGENITAL HEART DISEASE                                4\n",
       "HYPERTENSIVE CARDIOVASCULAR DISEASE.                                     4\n",
       "HYPERTENSIVE AND OBESITY-RELATED CARDIOVASCULAR DISEASE                  4\n",
       "HYPERTENSIVE ARTERIOSCLEROTIC CARDIOVASCULAR DIS.                        3\n",
       "HYPERTENSIVE ARTERIOSCLEROSIS CARDIOVASCULAR DISEASE                     3\n",
       "HYPERTENSIVE, ATHEROSCLEROTIC AND VALVULAR CARDIOVASCULAR DISEASE        3\n",
       "HYPERTENSIC ARTERIOSCLEROTIC CARDIOVASCULAR DISEASE                      3\n",
       "                                                                      ... \n",
       "ARTERIAL SCLEROTIC CARDIOVASCULAR DISEASE                                1\n",
       "ORGANIC CARDIOVASCULAR DISEAS                                            1\n",
       "HYPERTENSIVE ARTERIOSCLEROTIC CARDIOVASCULAR DISEAES                     1\n",
       "HYPERTENIVE ARTERIOSCLEROTIC CARDIOVASCULAR DISEASE                      1\n",
       "HYPERTENSIVE ARTERIOSCLEROTIC CARDIOVASCULAR DISEASE PER DR. EASON       1\n",
       "ARTTERIOSCLEROTIC CARDIOVASCULAR DISEASE                                 1\n",
       "HYPERTENSIVE AND ARTERIOSCERTOTIC CARDIOVASCULAR DISEASE                 1\n",
       "ATHEROSCLERTOIC CARDIOVASCULAR DISEASE                                   1\n",
       "ARTERIORSCLEROTIC CARDIOVASCULAR DISEASE.                                1\n",
       "CARDIOVASCULAR DISEASE, UNSPECIFIED                                      1\n",
       "HYPERTENSIVE ARTERIOSCLERTIC CARDIOVASCULAR DISEASE                      1\n",
       "ATHEROSCEROTIC CARDIOVASCULAR DISEASE                                    1\n",
       "HYPERTENSIVE AND ATHROSCLEROTIC CARDIOVASCULAR DISEASE                   1\n",
       "HYPERTENSIVE ARTEROSCLEROTIC CARDIOVASCULAR DISEASE                      1\n",
       "ORGANIC ARTERIOSCLEROTIC CARDIOVASCULAR DISEASE                          1\n",
       "HYPERTENSIVS CARDIOVASCULAR DISEASE                                      1\n",
       "HYPETENSIVE CARDIOVASCULAR DISEASE                                       1\n",
       "ISCHEMIC HEART DISEASE                                                   1\n",
       "HYPERTENSIVE, VALVULAR, AND ATHEROSCLEROTIC HEART DISEASE                1\n",
       "COMPLICATIONS OF VALVULAR HEART DISEASE                                  1\n",
       "CONGENITAL HEART DISEASE                                                 1\n",
       "HYPERTENSIVE ARTERIOSCLERITIC CARDIOVASCULAR DISEASE                     1\n",
       "HYPERTENSIVE-ARTERIOSCLEROTIC AND VALVULAR HEART DISEASE                 1\n",
       "HYPERTENSIVE CARDIOVASCULAR                                              1\n",
       "HYPERTENSIVE ARTERIOSCLOEROTIC CARDIOVASCULAR DISEASE                    1\n",
       "ARTERIOSLEROTIC CARDIOVASCULAR DISEASE                                   1\n",
       "ARTERIOSCLEROTIC CARDIOVASCULAR DISESE                                   1\n",
       "HYPEERTENSIVE ARTERIOSCLEROTIC CARDIOVASCULAR DISEASE                    1\n",
       "HYPERTENSIVE ARTERIOSCLEROTIC CARDIOVASCULAR DISEASE (HASCVD)            1\n",
       "HYPERTENSIVE, ATHEROSCLEROTIC, AND VALVULAR CARDIOVASCULAR DISEASE       1\n",
       "Name: Primary Cause, Length: 149, dtype: int64"
      ]
     },
     "execution_count": 87,
     "metadata": {},
     "output_type": "execute_result"
    }
   ],
   "source": [
    "cardi_d['Primary Cause'].value_counts()"
   ]
  },
  {
   "cell_type": "markdown",
   "metadata": {},
   "source": [
    "### Replace all of those with a nice simple 'CARDIOVASCULAR DISEASE'\n",
    "\n",
    "- *Tip: you can use `.replace` or `.str.replace`, but they each involve different things! I suggest `.replace`, it looks a little cleaner in this situation*\n",
    "- *Tip: for `.replace`, you need to give it more options than usual*\n",
    "- *Tip: for `.str.replace`, it won't automatically save back into the column, you need to do that yourself*"
   ]
  },
  {
   "cell_type": "code",
   "execution_count": 88,
   "metadata": {},
   "outputs": [],
   "source": [
    "df['Primary Cause'].replace(cardi_d['Primary Cause'], \"CARDIOVASCULAR DISEASE\", inplace = True)"
   ]
  },
  {
   "cell_type": "markdown",
   "metadata": {},
   "source": [
    "### Check the top 5 primary causes. Cardiovascular disease should be first with about 28.4%"
   ]
  },
  {
   "cell_type": "code",
   "execution_count": 90,
   "metadata": {},
   "outputs": [
    {
     "data": {
      "text/plain": [
       "CARDIOVASCULAR DISEASE     29.115948\n",
       "MULTIPLE GUNSHOT WOUNDS     6.117281\n",
       "MULTIPLE INJURIES           4.180364\n",
       "PENDING                     2.007996\n",
       "GUNSHOT WOUND OF HEAD       1.954687\n",
       "Name: Primary Cause, dtype: float64"
      ]
     },
     "execution_count": 90,
     "metadata": {},
     "output_type": "execute_result"
    }
   ],
   "source": [
    "df['Primary Cause'].value_counts(normalize = True, dropna = False).head() * 100"
   ]
  },
  {
   "cell_type": "markdown",
   "metadata": {},
   "source": [
    "We could also clean up gunshots, but... let's just move on."
   ]
  },
  {
   "cell_type": "markdown",
   "metadata": {},
   "source": [
    "# The Opioid Epidemic\n",
    "\n",
    "America has a [big problem with fentanyl](https://www.theatlantic.com/health/archive/2018/05/americas-opioid-crisis-is-now-a-fentanyl-crisis/559445/) and other opioids.\n",
    "\n",
    "## Find all of the rows where fentanyl was part of the primary cause of death\n",
    "\n",
    "We don't need `na=False` any more because we *dropped the rows without primary causes*."
   ]
  },
  {
   "cell_type": "code",
   "execution_count": 95,
   "metadata": {},
   "outputs": [],
   "source": [
    "fentanyl_death = df[(df['Primary Cause'].str.contains(\"fentanyl\", case = False))]"
   ]
  },
  {
   "cell_type": "markdown",
   "metadata": {},
   "source": [
    "## Fentanyl and race\n",
    "\n",
    "In the late 80's and 90's, the [crack cocaine epidemic](https://en.wikipedia.org/wiki/Crack_epidemic) swept through inner cities in the US. It was treated primarily as a crime problem, while many people say fentanyl and heroin overdoses are being treated as a medical problem due to the racial differences - the crack epidemic mainly affected Black communities, while fentanyl seems to be a problem for everyone.\n",
    "\n",
    "### How does the racial breakdown of fentanyl deaths compare to the racial breakdown of other causes of death? How about compared to causes of accidental death?"
   ]
  },
  {
   "cell_type": "code",
   "execution_count": 96,
   "metadata": {},
   "outputs": [
    {
     "data": {
      "text/plain": [
       "White              55.592766\n",
       "Black              43.536504\n",
       "Asian               0.401875\n",
       "Other               0.334896\n",
       "American Indian     0.066979\n",
       "Unknown             0.066979\n",
       "Name: Race, dtype: float64"
      ]
     },
     "execution_count": 96,
     "metadata": {},
     "output_type": "execute_result"
    }
   ],
   "source": [
    "fentanyl_death.Race.value_counts(normalize = True)*100"
   ]
  },
  {
   "cell_type": "code",
   "execution_count": 99,
   "metadata": {},
   "outputs": [
    {
     "data": {
      "text/plain": [
       "White              55.491046\n",
       "Black              41.606002\n",
       "Asian               1.518467\n",
       "Other               1.201376\n",
       "Unknown             0.116118\n",
       "American Indian     0.066991\n",
       "Name: Race, dtype: float64"
      ]
     },
     "execution_count": 99,
     "metadata": {},
     "output_type": "execute_result"
    }
   ],
   "source": [
    "df.Race.value_counts(normalize = True) *100"
   ]
  },
  {
   "cell_type": "code",
   "execution_count": 102,
   "metadata": {},
   "outputs": [
    {
     "data": {
      "text/plain": [
       "White              64.141282\n",
       "Black              32.930672\n",
       "Other               1.391807\n",
       "Asian               1.352416\n",
       "Unknown             0.091912\n",
       "American Indian     0.091912\n",
       "Name: Race, dtype: float64"
      ]
     },
     "execution_count": 102,
     "metadata": {},
     "output_type": "execute_result"
    }
   ],
   "source": [
    "df[df['Manner of Death'] == \"ACCIDENT\"].Race.value_counts(normalize = True) *100"
   ]
  },
  {
   "cell_type": "markdown",
   "metadata": {},
   "source": [
    "### Now compare it to homicides"
   ]
  },
  {
   "cell_type": "code",
   "execution_count": 104,
   "metadata": {},
   "outputs": [
    {
     "data": {
      "text/plain": [
       "Black      77.425044\n",
       "White      21.199295\n",
       "Other       1.164021\n",
       "Asian       0.176367\n",
       "Unknown     0.035273\n",
       "Name: Race, dtype: float64"
      ]
     },
     "execution_count": 104,
     "metadata": {},
     "output_type": "execute_result"
    }
   ],
   "source": [
    "df[df['Manner of Death'] == \"HOMICIDE\"].Race.value_counts(normalize = True) *100"
   ]
  },
  {
   "cell_type": "markdown",
   "metadata": {},
   "source": [
    "### Now compare it to suicide"
   ]
  },
  {
   "cell_type": "code",
   "execution_count": 105,
   "metadata": {},
   "outputs": [
    {
     "data": {
      "text/plain": [
       "White      79.836353\n",
       "Black      15.371128\n",
       "Asian       3.506721\n",
       "Other       1.227352\n",
       "Unknown     0.058445\n",
       "Name: Race, dtype: float64"
      ]
     },
     "execution_count": 105,
     "metadata": {},
     "output_type": "execute_result"
    }
   ],
   "source": [
    "df[df['Manner of Death'] == \"SUICIDE\"].Race.value_counts(normalize = True) *100"
   ]
  },
  {
   "cell_type": "markdown",
   "metadata": {},
   "source": [
    "## These differences seems kind of crazy\n",
    "\n",
    "Let's look at all of these at once: I want a breakdown of the most common manners of death for **men**, based on race.\n",
    "\n",
    "Percentages, please, not raw numbers.\n",
    "\n",
    "You can look at women, too, although I think the numbers are more surprising for men."
   ]
  },
  {
   "cell_type": "code",
   "execution_count": 107,
   "metadata": {},
   "outputs": [
    {
     "data": {
      "text/plain": [
       "Manner of Death  Race           \n",
       "ACCIDENT         White              63.579664\n",
       "                 Black              33.415233\n",
       "                 Other               1.549802\n",
       "                 Asian               1.266301\n",
       "                 Unknown             0.113400\n",
       "                 American Indian     0.075600\n",
       "HOMICIDE         Black              78.315624\n",
       "                 White              20.425030\n",
       "                 Other               1.141283\n",
       "                 Asian               0.118064\n",
       "NATURAL          White              57.422565\n",
       "                 Black              39.624458\n",
       "                 Asian               1.717220\n",
       "                 Other               1.091318\n",
       "                 American Indian     0.080244\n",
       "                 Unknown             0.064195\n",
       "PENDING          White              53.211009\n",
       "                 Black              44.342508\n",
       "                 Asian               1.529052\n",
       "                 Other               0.611621\n",
       "                 American Indian     0.305810\n",
       "SUICIDE          White              78.983308\n",
       "                 Black              16.160850\n",
       "                 Asian               3.338392\n",
       "                 Other               1.441578\n",
       "                 Unknown             0.075873\n",
       "UNDETERMINED     Black              52.173913\n",
       "                 White              43.478261\n",
       "                 Other               2.795031\n",
       "                 Asian               0.931677\n",
       "                 Unknown             0.621118\n",
       "Name: Race, dtype: float64"
      ]
     },
     "execution_count": 107,
     "metadata": {},
     "output_type": "execute_result"
    }
   ],
   "source": [
    "df[df.Gender == \"Male\"].groupby(by= 'Manner of Death').Race.value_counts(normalize = True) *100"
   ]
  },
  {
   "cell_type": "code",
   "execution_count": 108,
   "metadata": {},
   "outputs": [
    {
     "data": {
      "text/plain": [
       "Manner of Death  Race           \n",
       "ACCIDENT         White              65.419355\n",
       "                 Black              31.827957\n",
       "                 Asian               1.548387\n",
       "                 Other               1.032258\n",
       "                 American Indian     0.129032\n",
       "                 Unknown             0.043011\n",
       "HOMICIDE         Black              69.727891\n",
       "                 White              27.891156\n",
       "                 Other               1.360544\n",
       "                 Asian               0.680272\n",
       "                 Unknown             0.340136\n",
       "NATURAL          White              51.023147\n",
       "                 Black              46.125461\n",
       "                 Asian               1.845018\n",
       "                 Other               0.872191\n",
       "                 Unknown             0.100637\n",
       "                 American Indian     0.033546\n",
       "PENDING          Black              54.615385\n",
       "                 White              44.615385\n",
       "                 American Indian     0.769231\n",
       "SUICIDE          White              82.697201\n",
       "                 Black              12.722646\n",
       "                 Asian               4.071247\n",
       "                 Other               0.508906\n",
       "UNDETERMINED     Black              52.662722\n",
       "                 White              44.378698\n",
       "                 Other               1.775148\n",
       "                 Asian               0.591716\n",
       "                 Unknown             0.591716\n",
       "Name: Race, dtype: float64"
      ]
     },
     "execution_count": 108,
     "metadata": {},
     "output_type": "execute_result"
    }
   ],
   "source": [
    "df[df.Gender == \"Female\"].groupby(by= 'Manner of Death').Race.value_counts(normalize = True) *100"
   ]
  },
  {
   "cell_type": "markdown",
   "metadata": {},
   "source": [
    "## Back to drugs: what is the most popular opioid-related primary cause of death that does NOT involve fentanyl?\n",
    "\n",
    "- *Tip: Pay attention to your column names! There's one that might tell you if something is opioid-related...*\n",
    "- *Tip: Usually you can use `not` or `!` to means \"not\", but for pandas and `.isin` or `.str.contains` you need to use `~`*\n",
    "- *Tip: For \"and\" in pandas you'll need to use `&`, and make sure all of your clauses have parens around them, e.g. `df[(df.col1 = 'A') & (df.col2 = 'B')]`.*"
   ]
  },
  {
   "cell_type": "code",
   "execution_count": 113,
   "metadata": {},
   "outputs": [
    {
     "data": {
      "text/plain": [
       "FENTANYL TOXICITY                               6.898861\n",
       "COMBINED DRUG (HEROIN AND FENTANYL) TOXICITY    2.947086\n",
       "HEROIN AND FENTANYL TOXICITY                    1.473543\n",
       "FENTANYL AND HEROIN TOXICITY                    1.138647\n",
       "FENTANYL AND ETHANOL TOXICITY                   1.071668\n",
       "Name: Primary Cause, dtype: float64"
      ]
     },
     "execution_count": 113,
     "metadata": {},
     "output_type": "execute_result"
    }
   ],
   "source": [
    "not_fentanyl = df[(df['Opioid Related'] == True) & (df['Primary Cause'].str.contains(\"fentanyl\", case = False))]\n",
    "\n",
    "not_fentanyl['Primary Cause'].value_counts(normalize = True).head()*100"
   ]
  },
  {
   "cell_type": "markdown",
   "metadata": {},
   "source": [
    "# How do heroin and fentanyl deaths compare?\n",
    "\n",
    "## Count the number of deaths involving heroin, the number of deaths involving fentanyl, and the number of deaths involving both.\n",
    "\n",
    "- *Tip: This will take 3 different statements*\n",
    "- *Tip: You should get `813` that include both*"
   ]
  },
  {
   "cell_type": "code",
   "execution_count": 114,
   "metadata": {},
   "outputs": [
    {
     "data": {
      "text/plain": [
       "(1493, 20)"
      ]
     },
     "execution_count": 114,
     "metadata": {},
     "output_type": "execute_result"
    }
   ],
   "source": [
    "fentanyl_d = df[df['Primary Cause'].str.contains(\"fentanyl\", case = False)]\n",
    "fentanyl_d.shape"
   ]
  },
  {
   "cell_type": "code",
   "execution_count": 117,
   "metadata": {},
   "outputs": [
    {
     "data": {
      "text/plain": [
       "(2022, 20)"
      ]
     },
     "execution_count": 117,
     "metadata": {},
     "output_type": "execute_result"
    }
   ],
   "source": [
    "heroin_d = df[df['Primary Cause'].str.contains(\"heroin\", case = False)]\n",
    "heroin_d.shape"
   ]
  },
  {
   "cell_type": "code",
   "execution_count": 125,
   "metadata": {},
   "outputs": [
    {
     "data": {
      "text/plain": [
       "(813, 20)"
      ]
     },
     "execution_count": 125,
     "metadata": {},
     "output_type": "execute_result"
    }
   ],
   "source": [
    "fent_herion = df[df['Primary Cause'].str.contains(\"fentanyl\", case = False) & df['Primary Cause'].str.contains(\"heroin\", case = False)]\n",
    "\n",
    "fent_herion.shape"
   ]
  },
  {
   "cell_type": "markdown",
   "metadata": {},
   "source": [
    "## That's weird.\n",
    "\n",
    "I heard fentanyl really surpassed heroin in the past few years. Let's see how this \n",
    "\n",
    "### Pull the year out and store it in a new column called `year`\n",
    "\n",
    "If you run `df['Date of Incident'].str.extract(\"(\\d\\d\\d\\d)\", expand=False)`, it will pull out the year of each incident. **Store this in a new column called `year`.**\n",
    "\n",
    "(It's regular expression stuff. `\\d\\d\\d\\d` means \"four numbers in a row\", and `()` + `.str.extract` means \"pull it out\".)"
   ]
  },
  {
   "cell_type": "code",
   "execution_count": 127,
   "metadata": {},
   "outputs": [],
   "source": [
    "df['year'] = df['Date of Incident'].str.extract(\"(\\d\\d\\d\\d)\", expand = False)"
   ]
  },
  {
   "cell_type": "markdown",
   "metadata": {},
   "source": [
    "### What is the datatype of the new `year` column?"
   ]
  },
  {
   "cell_type": "code",
   "execution_count": 130,
   "metadata": {},
   "outputs": [
    {
     "data": {
      "text/plain": [
       "dtype('O')"
      ]
     },
     "execution_count": 130,
     "metadata": {},
     "output_type": "execute_result"
    }
   ],
   "source": [
    "df.year.dtypes"
   ]
  },
  {
   "cell_type": "markdown",
   "metadata": {},
   "source": [
    "## Convert this new column to an integer and save it back on top of itself\n",
    "\n",
    "- *Tip: This uses is your friend `.astype`*\n",
    "- *Tip: Make sure to save it back on top of itself!*"
   ]
  },
  {
   "cell_type": "code",
   "execution_count": 132,
   "metadata": {},
   "outputs": [],
   "source": [
    "df['year'] = df.year.astype(int)"
   ]
  },
  {
   "cell_type": "markdown",
   "metadata": {},
   "source": [
    "## Confirm the column is a number"
   ]
  },
  {
   "cell_type": "code",
   "execution_count": 133,
   "metadata": {},
   "outputs": [
    {
     "data": {
      "text/plain": [
       "dtype('int64')"
      ]
     },
     "execution_count": 133,
     "metadata": {},
     "output_type": "execute_result"
    }
   ],
   "source": [
    "df.year.dtypes"
   ]
  },
  {
   "cell_type": "markdown",
   "metadata": {},
   "source": [
    "## Plot the number of opioid deaths by year\n",
    "\n",
    "If you'd like to make it look nicer, do some sorting and get rid of 2018.\n",
    "\n",
    "- *Tip: Think of it in a few steps. First, filter for opioid deaths. Then get the number of deaths for each year. Then plot it.*\n",
    "- *Tip: What's up with 2018? Why's it look so weird? Can you get rid of it? Remember to use lots of parens!*\n",
    "- *Tip: Make sure the earliest year is on the left. You might need to sort by something other than values.*"
   ]
  },
  {
   "cell_type": "code",
   "execution_count": 137,
   "metadata": {},
   "outputs": [
    {
     "data": {
      "text/plain": [
       "<matplotlib.axes._subplots.AxesSubplot at 0x10f1fff98>"
      ]
     },
     "execution_count": 137,
     "metadata": {},
     "output_type": "execute_result"
    },
    {
     "data": {
      "image/png": "[encoded data removed]",
      "text/plain": [
       "<Figure size 432x288 with 1 Axes>"
      ]
     },
     "metadata": {
      "needs_background": "light"
     },
     "output_type": "display_data"
    }
   ],
   "source": [
    "df[(df['Opioid Related'] == True) & (df.year != 2018)].year.value_counts().plot(kind = \"bar\")"
   ]
  },
  {
   "cell_type": "markdown",
   "metadata": {},
   "source": [
    "## Plot the number of fentanyl deaths by year, and the number of heroin deaths by year\n",
    "\n",
    "- *Tip: You'll want to look up how to use `ylim` - it will let you set each graphic to use the same scale. This should be separate graphics.*\n",
    "- *Tip: Pay attention to the numbers on your axes. `sort_index()` will be your friend.*\n",
    "- *Tip: You should probably get rid of 2018*"
   ]
  },
  {
   "cell_type": "code",
   "execution_count": 144,
   "metadata": {},
   "outputs": [
    {
     "data": {
      "text/plain": [
       "(20, 684.6)"
      ]
     },
     "execution_count": 144,
     "metadata": {},
     "output_type": "execute_result"
    },
    {
     "data": {
      "image/png": "[encoded data removed]",
      "text/plain": [
       "<Figure size 432x288 with 1 Axes>"
      ]
     },
     "metadata": {
      "needs_background": "light"
     },
     "output_type": "display_data"
    }
   ],
   "source": [
    "df[df['Primary Cause'].str.contains(\"fentanyl\", case = False) & (df.year != 2018)].year.value_counts().sort_index().plot(kind = \"bar\").set_ylim(20)"
   ]
  },
  {
   "cell_type": "code",
   "execution_count": 151,
   "metadata": {},
   "outputs": [
    {
     "data": {
      "text/plain": [
       "(10, 788.55)"
      ]
     },
     "execution_count": 151,
     "metadata": {},
     "output_type": "execute_result"
    },
    {
     "data": {
      "image/png": "[encoded data removed]",
      "text/plain": [
       "<Figure size 432x288 with 1 Axes>"
      ]
     },
     "metadata": {
      "needs_background": "light"
     },
     "output_type": "display_data"
    }
   ],
   "source": [
    "df[df['Primary Cause'].str.contains(\"heroin\", case = False) & (df.year != 2018)].year.value_counts().sort_index().plot(kind = \"bar\").set_ylim(10)"
   ]
  },
  {
   "cell_type": "markdown",
   "metadata": {},
   "source": [
    "## How does this compare to gun deaths?"
   ]
  },
  {
   "cell_type": "code",
   "execution_count": 156,
   "metadata": {},
   "outputs": [
    {
     "data": {
      "text/plain": [
       "(10, 974.4)"
      ]
     },
     "execution_count": 156,
     "metadata": {},
     "output_type": "execute_result"
    },
    {
     "data": {
      "image/png": "[encoded data removed]",
      "text/plain": [
       "<Figure size 432x288 with 1 Axes>"
      ]
     },
     "metadata": {
      "needs_background": "light"
     },
     "output_type": "display_data"
    }
   ],
   "source": [
    "df[df['Gun Related'] == True].year.value_counts().sort_index().plot(kind = \"bar\").set_ylim(10)"
   ]
  },
  {
   "cell_type": "markdown",
   "metadata": {},
   "source": [
    "## But hey: numbers can lie pretty easily!\n",
    "\n",
    "The numbers are just so low in 2014 and much higher in 2017. What's going on there?\n",
    "\n",
    "Well, maybe **there just isn't as much data from the earlier years**. Plot how many entries there are for each year."
   ]
  },
  {
   "cell_type": "code",
   "execution_count": 157,
   "metadata": {},
   "outputs": [
    {
     "data": {
      "text/plain": [
       "(10, 6602.4)"
      ]
     },
     "execution_count": 157,
     "metadata": {},
     "output_type": "execute_result"
    },
    {
     "data": {
      "image/png": "[encoded data removed]",
      "text/plain": [
       "<Figure size 432x288 with 1 Axes>"
      ]
     },
     "metadata": {
      "needs_background": "light"
     },
     "output_type": "display_data"
    }
   ],
   "source": [
    "df.year.value_counts().sort_index().plot(kind = \"bar\").set_ylim(10)"
   ]
  },
  {
   "cell_type": "markdown",
   "metadata": {},
   "source": [
    "And we don't know the best way to fix that up yet, so instead I'm going to give you a present.\n",
    "\n",
    "# Is the true lesson here, don't move to Cook County, Illinois?\n",
    "\n",
    "Cook County is basically Chicago. It's probably just certain areas that are trouble, right? Let's investigate that without even having a clue how mapping works.\n",
    "\n",
    "## Fun bonus: Making cheating maps\n",
    "\n",
    "### Make a new dataframe of every death in the actual city of Chicago"
   ]
  },
  {
   "cell_type": "code",
   "execution_count": 166,
   "metadata": {},
   "outputs": [],
   "source": [
    "chicago_deaths = df[df['Incident City'] == \"CHICAGO\"]"
   ]
  },
  {
   "cell_type": "markdown",
   "metadata": {},
   "source": [
    "### Confirm this new dataframe has 13,627 rows"
   ]
  },
  {
   "cell_type": "code",
   "execution_count": 162,
   "metadata": {},
   "outputs": [
    {
     "data": {
      "text/plain": [
       "(13627, 21)"
      ]
     },
     "execution_count": 162,
     "metadata": {},
     "output_type": "execute_result"
    }
   ],
   "source": [
    "chicago_deaths.shape"
   ]
  },
  {
   "cell_type": "markdown",
   "metadata": {},
   "source": [
    "### Use lat and long in the worst way possible to make a map\n",
    "\n",
    "Use `longitude` and `latitude` and `plot` to make a rough map of the city. Chicago [looks like this](https://en.wikipedia.org/wiki/File:DuPage_County_Illinois_Incorporated_and_Unincorporated_areas_Chicago_Highlighted.svg)\n",
    "\n",
    "- *Tip: Use the `latitude` and `longitude` columns*\n",
    "- *Tip: You don't want a line graph, of course. Or a bar. What kind is the kind with dots on it?*\n",
    "- *Tip: Use something like like `figsize=(10,5)` to specify the height and width of the map (but, you know, with better numbers that make it look like chicago)*"
   ]
  },
  {
   "cell_type": "code",
   "execution_count": 163,
   "metadata": {},
   "outputs": [
    {
     "data": {
      "text/plain": [
       "<matplotlib.axes._subplots.AxesSubplot at 0x10f65aa20>"
      ]
     },
     "execution_count": 163,
     "metadata": {},
     "output_type": "execute_result"
    },
    {
     "data": {
      "image/png": "[encoded data removed]",
      "text/plain": [
       "<Figure size 360x720 with 1 Axes>"
      ]
     },
     "metadata": {
      "needs_background": "light"
     },
     "output_type": "display_data"
    }
   ],
   "source": [
    "chicago_deaths.plot(x = \"longitude\", y = \"latitude\", kind = \"scatter\", figsize = (5,10))"
   ]
  },
  {
   "cell_type": "markdown",
   "metadata": {},
   "source": [
    "## Now let's find out where to live\n",
    "\n",
    "Make a map of every non-homicide death in Chicago, then plot the homicides on top of it.\n",
    "\n",
    "Use the `ax=df.plot` trick from the beer cans assignment to plot all of the rows representing homicides vs non-homicides. You can use `color='red'` to make one of them red, and `alpha=0.05` to make each mark very transparent to allow them to layer on top of each other."
   ]
  },
  {
   "cell_type": "code",
   "execution_count": 192,
   "metadata": {},
   "outputs": [
    {
     "data": {
      "text/plain": [
       "<matplotlib.axes._subplots.AxesSubplot at 0x10ff609b0>"
      ]
     },
     "execution_count": 192,
     "metadata": {},
     "output_type": "execute_result"
    },
    {
     "data": {
      "image/png": "[encoded data removed]",
      "text/plain": [
       "<Figure size 360x720 with 1 Axes>"
      ]
     },
     "metadata": {
      "needs_background": "light"
     },
     "output_type": "display_data"
    }
   ],
   "source": [
    "chicago_homicide = chicago_deaths[chicago_deaths['Manner of Death'] == 'HOMICIDE']\n",
    "chicago_non_homicide = chicago_deaths[chicago_deaths['Manner of Death'] != 'HOMICIDE']\n",
    "\n",
    "ax= chicago_homicide.plot(x = \"longitude\", y = \"latitude\", kind = \"scatter\", color ='red', figsize = (5,10))\n",
    "chicago_non_homicide.plot(ax=ax,  x = \"longitude\", y = \"latitude\", kind = \"scatter\", figsize = (5,10),alpha =0.05)\n",
    "\n",
    "# alcohol_df = df[df.Style.isin([\"Witbier\", \"Hefeweizen\", \"American Pale Wheat Ale\"])].ABV\n",
    "# ax = ipa_df.ABV.plot(kind='hist')\n",
    "# alcohol_df.plot(ax=ax, kind='hist', alpha=0.5, bins=25)"
   ]
  },
  {
   "cell_type": "markdown",
   "metadata": {},
   "source": [
    "## Never tell anyone I let you do that.\n",
    "\n",
    "But you want to see something actually completely legitimately insane?\n",
    "\n",
    "**Chicago is one of the most segregated cities in America.** If you'd like to see this for yourself, make a map of `Race`. Plot black vs white in a way similar to what we did above."
   ]
  },
  {
   "cell_type": "code",
   "execution_count": 191,
   "metadata": {},
   "outputs": [
    {
     "data": {
      "text/plain": [
       "<matplotlib.axes._subplots.AxesSubplot at 0x10fe11a90>"
      ]
     },
     "execution_count": 191,
     "metadata": {},
     "output_type": "execute_result"
    },
    {
     "data": {
      "image/png": "[encoded data removed]",
      "text/plain": [
       "<Figure size 360x720 with 1 Axes>"
      ]
     },
     "metadata": {
      "needs_background": "light"
     },
     "output_type": "display_data"
    }
   ],
   "source": [
    "black_chicago = chicago_deaths[chicago_deaths.Race == \"Black\"]\n",
    "white_chicago = chicago_deaths[chicago_deaths.Race == \"White\"]\n",
    "\n",
    "ax=black_chicago.plot(x = \"longitude\", y = \"latitude\", kind = \"scatter\", figsize = (5,10))\n",
    "white_chicago.plot(ax=ax, alpha = 0.05, x = \"longitude\", y = \"latitude\", color='red', kind = \"scatter\", figsize = (5,10))\n"
   ]
  },
  {
   "cell_type": "markdown",
   "metadata": {},
   "source": [
    "Yup."
   ]
  },
  {
   "cell_type": "code",
   "execution_count": null,
   "metadata": {},
   "outputs": [],
   "source": []
  }
 ],
 "metadata": {
  "kernelspec": {
   "display_name": "Python 3",
   "language": "python",
   "name": "python3"
  },
  "language_info": {
   "codemirror_mode": {
    "name": "ipython",
    "version": 3
   },
   "file_extension": ".py",
   "mimetype": "text/x-python",
   "name": "python",
   "nbconvert_exporter": "python",
   "pygments_lexer": "ipython3",
   "version": "3.7.3"
  }
 },
 "nbformat": 4,
 "nbformat_minor": 2
}
