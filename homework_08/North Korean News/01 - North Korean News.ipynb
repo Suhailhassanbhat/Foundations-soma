{
 "cells": [
  {
   "cell_type": "markdown",
   "metadata": {},
   "source": [
    "# North Korean News\n",
    "\n",
    "Scrape the North Korean news agency http://kcna.kp\n",
    "\n",
    "Save a CSV called `nk-news.csv`. This file should include:\n",
    "\n",
    "* The **article headline**\n",
    "* The value of **`onclick`** (they don't have normal links)\n",
    "* The **article ID** (for example, the article ID for `fn_showArticle(\"AR0125885\", \"\", \"NT00\", \"L\")` is `AR0125885`\n",
    "\n",
    "The last part is easiest using pandas. Be sure you don't save the index!\n",
    "\n",
    "* _**Tip:** If you're using requests+BeautifulSoup, you can always look at response.text to see if the page looks like what you think it looks like_\n",
    "* _**Tip:** Check your URL to make sure it is what you think it should be!_\n",
    "* _**Tip:** Does it look different if you scrape with BeautifulSoup compared to if you scrape it with Selenium?_\n",
    "* _**Tip:** For the last part, how do you pull out part of a string from a longer string?_\n",
    "* _**Tip:** `expand=False` is helpful if you want to assign a single new column when extracting_\n",
    "* _**Tip:** `(` and `)` mean something special in regular expressions, so you have to say \"no really seriously I mean `(`\" by using `\\(` instead_\n",
    "* _**Tip:** if your `.*` is taking up too much stuff, you can try `.*?` instead, which instead of \"take as much as possible\" it means \"take only as much as needed\"_"
   ]
  },
  {
   "cell_type": "code",
   "execution_count": 2,
   "metadata": {},
   "outputs": [],
   "source": [
    "import requests\n",
    "import pandas as pd\n",
    "import re\n",
    "from bs4 import BeautifulSoup"
   ]
  },
  {
   "cell_type": "code",
   "execution_count": 3,
   "metadata": {},
   "outputs": [],
   "source": [
    "url= 'http://kcna.kp/kcna.user.home.retrieveHomeInfoList.kcmsf'\n",
    "response =requests.get(url,\"html.paser\")\n",
    "doc = BeautifulSoup(response.text)"
   ]
  },
  {
   "cell_type": "code",
   "execution_count": 4,
   "metadata": {},
   "outputs": [
    {
     "data": {
      "text/plain": [
       "'경애하는 최고령도자 김정은동지께 미합중국 대통령이 친서를 보내여왔다'"
      ]
     },
     "execution_count": 4,
     "metadata": {},
     "output_type": "execute_result"
    }
   ],
   "source": [
    "doc.find('div', attrs={\"id\" : \"article_area\"}).find('li').find('a').text"
   ]
  },
  {
   "cell_type": "code",
   "execution_count": 5,
   "metadata": {},
   "outputs": [
    {
     "data": {
      "text/plain": [
       "'fn_showArticle(\"AR0126460\", \"\", \"NT00\", \"L\")'"
      ]
     },
     "execution_count": 5,
     "metadata": {},
     "output_type": "execute_result"
    }
   ],
   "source": [
    "doc.find('div', attrs={\"id\" : \"article_area\"}).find('li').find('a')['onclick']"
   ]
  },
  {
   "cell_type": "code",
   "execution_count": 6,
   "metadata": {},
   "outputs": [
    {
     "data": {
      "text/plain": [
       "'\"AR0126460\"'"
      ]
     },
     "execution_count": 6,
     "metadata": {},
     "output_type": "execute_result"
    }
   ],
   "source": [
    "doc.find('div', attrs={\"id\" : \"article_area\"}).find('li').find('a')['onclick'].split(\"(\", 1)[1].split(\",\", 1)[0]"
   ]
  },
  {
   "cell_type": "code",
   "execution_count": 7,
   "metadata": {},
   "outputs": [
    {
     "data": {
      "text/plain": [
       "'김정은동지의 로작을 로므니아에서 출판'"
      ]
     },
     "execution_count": 7,
     "metadata": {},
     "output_type": "execute_result"
    }
   ],
   "source": [
    "doc.find('div', attrs={\"id\" : \"article_area\"}).find('h4').find(class_=\"titlebet\").text"
   ]
  },
  {
   "cell_type": "code",
   "execution_count": 16,
   "metadata": {},
   "outputs": [
    {
     "data": {
      "text/plain": [
       "'경애하는 최고령도자동지의 혁명활동\\n\\n\\n\\n\\n\\n\\n\\n\\n\\n\\n\\n\\n\\n\\n\\n\\n\\n\\n\\n\\n경애하는 최고령도자 김정은동지께 미합중국 대통령이 친서를 보내여왔다\\xa0\\n\\n우리 나라를 국가방문한 중국공산당 중앙위원회 총서기,중화인민공화국 주석 평양을 출발--경애하는 최고령도자 김정은동지께서 습근평동지를 따뜻이 환송하시였다\\xa0\\n\\n경애하는 최고령도자 김정은동지께서 습근평동지와 팽려원녀사를 위하여 오찬을 마련하시였다\\xa0\\n\\n\\n중국공산당 중앙위원회 총서기,중화인민공화국 주석 습근평동지 우의탑에 꽃바구니 진정\\xa0\\n\\n경애하는 최고령도자 김정은동지께서와 습근평동지께서 조선로동당 중앙위원회 본부청사에서 당중앙위원회 정치국 성원들과 함께 기념촬영을 하시였다\\xa0\\n\\n경애하는 최고령도자 김정은동지께서 습근평동지와 함께 대집단체조와 예술공연 《불패의 사회주의》를 관람하시였다'"
      ]
     },
     "execution_count": 16,
     "metadata": {},
     "output_type": "execute_result"
    }
   ],
   "source": [
    "doc.find('div', attrs={\"style\" : \"background:#FFFFFF\"}).text.strip()"
   ]
  },
  {
   "cell_type": "code",
   "execution_count": 19,
   "metadata": {},
   "outputs": [
    {
     "data": {
      "text/plain": [
       "'\\n김정은동지의 로작을 로므니아에서 출판'"
      ]
     },
     "execution_count": 19,
     "metadata": {},
     "output_type": "execute_result"
    }
   ],
   "source": [
    "doc.find('div', attrs={\"id\" : \"article_area\"}).find(\"h4\").text"
   ]
  },
  {
   "cell_type": "code",
   "execution_count": null,
   "metadata": {},
   "outputs": [],
   "source": []
  }
 ],
 "metadata": {
  "kernelspec": {
   "display_name": "Python 3",
   "language": "python",
   "name": "python3"
  },
  "language_info": {
   "codemirror_mode": {
    "name": "ipython",
    "version": 3
   },
   "file_extension": ".py",
   "mimetype": "text/x-python",
   "name": "python",
   "nbconvert_exporter": "python",
   "pygments_lexer": "ipython3",
   "version": "3.7.3"
  }
 },
 "nbformat": 4,
 "nbformat_minor": 2
}
