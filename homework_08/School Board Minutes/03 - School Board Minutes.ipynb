{
 "cells": [
  {
   "cell_type": "markdown",
   "metadata": {},
   "source": [
    "# School Board Minutes\n",
    "\n",
    "Scrape all of the school board minutes from http://www.mineral.k12.nv.us/pages/School_Board_Minutes\n",
    "\n",
    "Save a CSV called `minutes.csv` with the date and the URL to the file. The date should be formatted as YYYY-MM-DD.\n",
    "\n",
    "**Bonus:** Download the PDF files\n",
    "\n",
    "**Bonus 2:** Use [PDF OCR X](https://solutions.weblite.ca/pdfocrx/index.php) on one of the PDF files and see if it can be converted into text successfully.\n",
    "\n",
    "* **Hint:** If you're just looking for links, there are a lot of other links on that page! Can you look at the link to know whether it links or minutes or not? You'll want to use an \"if\" statement.\n",
    "* **Hint:** You could also filter out bad links later on using pandas instead of when scraping\n",
    "* **Hint:** If you get a weird error that you can't really figure out, you can always tell Python to just ignore it using `try` and `except`, like below. Python will try to do the stuff inside of 'try', but if it hits an error it will skip right out.\n",
    "* **Hint:** Remember the codes at http://strftime.org\n",
    "* **Hint:** If you have a date that you've parsed, you can use `.dt.strftime` to turn it into a specially-formatted string. You use the same codes (like %B etc) that you use for converting strings into dates.\n",
    "\n",
    "```python\n",
    "try:\n",
    "  blah blah your code\n",
    "  your code\n",
    "  your code\n",
    "except:\n",
    "  pass\n",
    "```"
   ]
  },
  {
   "cell_type": "code",
   "execution_count": 1,
   "metadata": {},
   "outputs": [],
   "source": [
    "import requests\n",
    "import pandas as pd\n",
    "from bs4 import BeautifulSoup\n",
    "from datetime import date\n",
    "import re"
   ]
  },
  {
   "cell_type": "code",
   "execution_count": 2,
   "metadata": {},
   "outputs": [],
   "source": [
    "url = 'http://www.mineral.k12.nv.us/pages/School_Board_Minutes'\n",
    "response =requests.get(url,\"html.paser\")\n",
    "doc = BeautifulSoup(response.text)"
   ]
  },
  {
   "cell_type": "code",
   "execution_count": 3,
   "metadata": {},
   "outputs": [
    {
     "data": {
      "text/plain": [
       "['June', '4,', '2019']"
      ]
     },
     "execution_count": 3,
     "metadata": {},
     "output_type": "execute_result"
    }
   ],
   "source": [
    "doc.find('div', attrs= {\"id\" : \"livesite-page-content-left\"}).find_all('p')[4].find('a').text.strip().split()\n",
    "   "
   ]
  },
  {
   "cell_type": "code",
   "execution_count": 4,
   "metadata": {},
   "outputs": [
    {
     "data": {
      "text/plain": [
       "'/files/6.4.19_minutes.pdf'"
      ]
     },
     "execution_count": 4,
     "metadata": {},
     "output_type": "execute_result"
    }
   ],
   "source": [
    "doc.find('div', attrs= {\"id\" : \"livesite-page-content-left\"}).find_all('p')[4].find('a')['href']"
   ]
  },
  {
   "cell_type": "code",
   "execution_count": 5,
   "metadata": {},
   "outputs": [
    {
     "data": {
      "text/plain": [
       "[{'Date': 'June 4, 2019', 'Link': '/files/6.4.19_minutes.pdf'},\n",
       " {'Date': 'May 28, 2019', 'Link': '/files/5.28.19_minutes.pdf'},\n",
       " {},\n",
       " {'Date': 'May 7, 2019', 'Link': '/files/5.7.19_minutes.pdf'},\n",
       " {'Date': 'April 23, 2019', 'Link': '/files/4.23.19_minutes.pdf'},\n",
       " {'Date': 'April 8, 2019', 'Link': '/files/4.8.19_minutes.pdf'},\n",
       " {'Date': 'March 19, 2019', 'Link': '/files/3.5.19_minutes.pdf'},\n",
       " {'Date': 'March 5, 2019', 'Link': '/files/3.5.19.pdf'},\n",
       " {'Date': 'February 26, 2019', 'Link': '/files/2.26.19_minutes.pdf'},\n",
       " {'Date': 'February 5, 2019', 'Link': '/files/2.5.19_minutes.pdf'},\n",
       " {'Date': 'January 22, 2019', 'Link': '/files/January_22_minutes.pdf'},\n",
       " {'Date': 'January 8, 2019', 'Link': '/files/January_8_minutes.pdf'},\n",
       " {},\n",
       " {},\n",
       " {'Date': 'December 20, 2018', 'Link': '/files/12.20.18_minutes.pdf'},\n",
       " {'Date': 'December 4, 2018', 'Link': '/files/12.4.18_minutes.pdf'},\n",
       " {'Date': 'November 20, 2018', 'Link': '/files/11.20.18.pdf'},\n",
       " {},\n",
       " {},\n",
       " {'Date': 'September 25, 2018', 'Link': '/files/9.25.18_minutes.pdf'},\n",
       " {'Date': 'September 13, 2018', 'Link': '/files/9.13.18_minutes.pdf'},\n",
       " {'Date': 'September 4, 2018', 'Link': '/files/9.4.18.pdf'},\n",
       " {'Date': 'August 21, 2018', 'Link': '/files/8.21.18_minutes.pdf'},\n",
       " {'Date': 'August 7, 2018', 'Link': '/files/8.7.18_minutes.pdf'},\n",
       " {'Date': 'July 24, 2018', 'Link': '/files/7.24.18_minutes.pdf'},\n",
       " {'Date': 'July 10, 2018', 'Link': '/files/7.10.18_minutes.pdf'},\n",
       " {'Date': 'June 28, 2018', 'Link': '/files/6.28.18.pdf'},\n",
       " {'Date': 'June 22, 2018', 'Link': '/files/6.22.18_minutes.pdf'},\n",
       " {'Date': 'June 21, 2018', 'Link': '/files/6.21.18.pdf'},\n",
       " {'Date': 'June 19, 2108', 'Link': '/files/6.19.18_minutes.pdf'},\n",
       " {},\n",
       " {'Date': 'May 29, 2018', 'Link': '/files/5.29.18_minutes.pdf'},\n",
       " {},\n",
       " {},\n",
       " {},\n",
       " {'Date': 'April 17, 2018', 'Link': '/files/4.17.18.pdf'},\n",
       " {'Date': 'April 2, 2018', 'Link': '/files/april_2,_2018_minutes.pdf'},\n",
       " {},\n",
       " {},\n",
       " {},\n",
       " {'Date': 'March 8, 2018', 'Link': '/files/3.8.18.pdf'},\n",
       " {'Date': 'March 6, 2018', 'Link': '/files/march_6,_2018_minutes.pdf'},\n",
       " {'Date': 'February 20, 2018', 'Link': '/files/feb_20,_2108_minutes.pdf'},\n",
       " {'Date': 'February 6, 2018', 'Link': '/files/2.6.18_minutes.pdf'},\n",
       " {'Date': 'January 16, 2018', 'Link': '/files/january_16,_2018_minutes.pdf'},\n",
       " {'Date': '', 'Link': '/files/2.6.18_minutes.pdf'},\n",
       " {},\n",
       " {},\n",
       " {},\n",
       " {'Date': 'January 5, 2017', 'Link': '/files/1.5.17_minutes.pdf'},\n",
       " {'Date': 'January 26, 2017', 'Link': '/files/1.26.17_minutes.pdf'},\n",
       " {'Date': 'February 2, 2017', 'Link': '/files/2.2.17_minutes.pdf'},\n",
       " {'Date': 'February 16, 2017', 'Link': '/files/2.16.17_minutes.pdf'},\n",
       " {'Date': 'March 2, 2017', 'Link': '/files/3.2.17__minutes.pdf'},\n",
       " {'Date': 'March 16, 2017', 'Link': '/files/3.16.17_minutes.pdf'},\n",
       " {'Date': 'April 12, 2017', 'Link': '/files/4.12.17_minutes.pdf'},\n",
       " {'Date': 'May 1, 2017', 'Link': '/files/5.1.17_Minutes.pdf'},\n",
       " {'Date': 'May 4, 2017', 'Link': '/files/5.4.17_minutes.pdf'},\n",
       " {},\n",
       " {},\n",
       " {},\n",
       " {}]"
      ]
     },
     "execution_count": 5,
     "metadata": {},
     "output_type": "execute_result"
    }
   ],
   "source": [
    "board_minutes = []\n",
    "minutes = doc.find('div', attrs= {\"id\" : \"livesite-page-content-left\"})\n",
    "\n",
    "for minute in minutes.find_all('p')[4:]:\n",
    "    row = {}\n",
    "    \n",
    "    try:\n",
    "        row['Date'] = minute.find('a').text.strip()\n",
    "    except:\n",
    "        pass\n",
    "    try:\n",
    "        row['Link'] = minute.find('a')['href']\n",
    "    except:\n",
    "        \"NOLINK\"\n",
    "    board_minutes.append(row)\n",
    "board_minutes\n",
    "     "
   ]
  },
  {
   "cell_type": "code",
   "execution_count": 6,
   "metadata": {},
   "outputs": [
    {
     "data": {
      "text/plain": [
       "(43, 2)"
      ]
     },
     "execution_count": 6,
     "metadata": {},
     "output_type": "execute_result"
    }
   ],
   "source": [
    "df = pd.DataFrame(board_minutes)\n",
    "df = df.dropna( how='all')\n",
    "df.shape"
   ]
  },
  {
   "cell_type": "code",
   "execution_count": 7,
   "metadata": {},
   "outputs": [
    {
     "data": {
      "text/plain": [
       "dtype('O')"
      ]
     },
     "execution_count": 7,
     "metadata": {},
     "output_type": "execute_result"
    }
   ],
   "source": [
    "df['Date'].dtypes"
   ]
  },
  {
   "cell_type": "code",
   "execution_count": 8,
   "metadata": {},
   "outputs": [],
   "source": [
    "df['Date'] = pd.to_datetime(df['Date'],format=None, errors='raise').dt.strftime('%Y-%m-%d')"
   ]
  },
  {
   "cell_type": "code",
   "execution_count": 9,
   "metadata": {},
   "outputs": [
    {
     "data": {
      "text/html": [
       "<div>\n",
       "<style scoped>\n",
       "    .dataframe tbody tr th:only-of-type {\n",
       "        vertical-align: middle;\n",
       "    }\n",
       "\n",
       "    .dataframe tbody tr th {\n",
       "        vertical-align: top;\n",
       "    }\n",
       "\n",
       "    .dataframe thead th {\n",
       "        text-align: right;\n",
       "    }\n",
       "</style>\n",
       "<table border=\"1\" class=\"dataframe\">\n",
       "  <thead>\n",
       "    <tr style=\"text-align: right;\">\n",
       "      <th></th>\n",
       "      <th>Date</th>\n",
       "      <th>Link</th>\n",
       "    </tr>\n",
       "  </thead>\n",
       "  <tbody>\n",
       "    <tr>\n",
       "      <th>0</th>\n",
       "      <td>2019-06-04</td>\n",
       "      <td>/files/6.4.19_minutes.pdf</td>\n",
       "    </tr>\n",
       "    <tr>\n",
       "      <th>1</th>\n",
       "      <td>2019-05-28</td>\n",
       "      <td>/files/5.28.19_minutes.pdf</td>\n",
       "    </tr>\n",
       "    <tr>\n",
       "      <th>3</th>\n",
       "      <td>2019-05-07</td>\n",
       "      <td>/files/5.7.19_minutes.pdf</td>\n",
       "    </tr>\n",
       "    <tr>\n",
       "      <th>4</th>\n",
       "      <td>2019-04-23</td>\n",
       "      <td>/files/4.23.19_minutes.pdf</td>\n",
       "    </tr>\n",
       "    <tr>\n",
       "      <th>5</th>\n",
       "      <td>2019-04-08</td>\n",
       "      <td>/files/4.8.19_minutes.pdf</td>\n",
       "    </tr>\n",
       "    <tr>\n",
       "      <th>6</th>\n",
       "      <td>2019-03-19</td>\n",
       "      <td>/files/3.5.19_minutes.pdf</td>\n",
       "    </tr>\n",
       "    <tr>\n",
       "      <th>7</th>\n",
       "      <td>2019-03-05</td>\n",
       "      <td>/files/3.5.19.pdf</td>\n",
       "    </tr>\n",
       "    <tr>\n",
       "      <th>8</th>\n",
       "      <td>2019-02-26</td>\n",
       "      <td>/files/2.26.19_minutes.pdf</td>\n",
       "    </tr>\n",
       "    <tr>\n",
       "      <th>9</th>\n",
       "      <td>2019-02-05</td>\n",
       "      <td>/files/2.5.19_minutes.pdf</td>\n",
       "    </tr>\n",
       "    <tr>\n",
       "      <th>10</th>\n",
       "      <td>2019-01-22</td>\n",
       "      <td>/files/January_22_minutes.pdf</td>\n",
       "    </tr>\n",
       "    <tr>\n",
       "      <th>11</th>\n",
       "      <td>2019-01-08</td>\n",
       "      <td>/files/January_8_minutes.pdf</td>\n",
       "    </tr>\n",
       "    <tr>\n",
       "      <th>14</th>\n",
       "      <td>2018-12-20</td>\n",
       "      <td>/files/12.20.18_minutes.pdf</td>\n",
       "    </tr>\n",
       "    <tr>\n",
       "      <th>15</th>\n",
       "      <td>2018-12-04</td>\n",
       "      <td>/files/12.4.18_minutes.pdf</td>\n",
       "    </tr>\n",
       "    <tr>\n",
       "      <th>16</th>\n",
       "      <td>2018-11-20</td>\n",
       "      <td>/files/11.20.18.pdf</td>\n",
       "    </tr>\n",
       "    <tr>\n",
       "      <th>19</th>\n",
       "      <td>2018-09-25</td>\n",
       "      <td>/files/9.25.18_minutes.pdf</td>\n",
       "    </tr>\n",
       "    <tr>\n",
       "      <th>20</th>\n",
       "      <td>2018-09-13</td>\n",
       "      <td>/files/9.13.18_minutes.pdf</td>\n",
       "    </tr>\n",
       "    <tr>\n",
       "      <th>21</th>\n",
       "      <td>2018-09-04</td>\n",
       "      <td>/files/9.4.18.pdf</td>\n",
       "    </tr>\n",
       "    <tr>\n",
       "      <th>22</th>\n",
       "      <td>2018-08-21</td>\n",
       "      <td>/files/8.21.18_minutes.pdf</td>\n",
       "    </tr>\n",
       "    <tr>\n",
       "      <th>23</th>\n",
       "      <td>2018-08-07</td>\n",
       "      <td>/files/8.7.18_minutes.pdf</td>\n",
       "    </tr>\n",
       "    <tr>\n",
       "      <th>24</th>\n",
       "      <td>2018-07-24</td>\n",
       "      <td>/files/7.24.18_minutes.pdf</td>\n",
       "    </tr>\n",
       "    <tr>\n",
       "      <th>25</th>\n",
       "      <td>2018-07-10</td>\n",
       "      <td>/files/7.10.18_minutes.pdf</td>\n",
       "    </tr>\n",
       "    <tr>\n",
       "      <th>26</th>\n",
       "      <td>2018-06-28</td>\n",
       "      <td>/files/6.28.18.pdf</td>\n",
       "    </tr>\n",
       "    <tr>\n",
       "      <th>27</th>\n",
       "      <td>2018-06-22</td>\n",
       "      <td>/files/6.22.18_minutes.pdf</td>\n",
       "    </tr>\n",
       "    <tr>\n",
       "      <th>28</th>\n",
       "      <td>2018-06-21</td>\n",
       "      <td>/files/6.21.18.pdf</td>\n",
       "    </tr>\n",
       "    <tr>\n",
       "      <th>29</th>\n",
       "      <td>2108-06-19</td>\n",
       "      <td>/files/6.19.18_minutes.pdf</td>\n",
       "    </tr>\n",
       "    <tr>\n",
       "      <th>31</th>\n",
       "      <td>2018-05-29</td>\n",
       "      <td>/files/5.29.18_minutes.pdf</td>\n",
       "    </tr>\n",
       "    <tr>\n",
       "      <th>35</th>\n",
       "      <td>2018-04-17</td>\n",
       "      <td>/files/4.17.18.pdf</td>\n",
       "    </tr>\n",
       "    <tr>\n",
       "      <th>36</th>\n",
       "      <td>2018-04-02</td>\n",
       "      <td>/files/april_2,_2018_minutes.pdf</td>\n",
       "    </tr>\n",
       "    <tr>\n",
       "      <th>40</th>\n",
       "      <td>2018-03-08</td>\n",
       "      <td>/files/3.8.18.pdf</td>\n",
       "    </tr>\n",
       "    <tr>\n",
       "      <th>41</th>\n",
       "      <td>2018-03-06</td>\n",
       "      <td>/files/march_6,_2018_minutes.pdf</td>\n",
       "    </tr>\n",
       "    <tr>\n",
       "      <th>42</th>\n",
       "      <td>2018-02-20</td>\n",
       "      <td>/files/feb_20,_2108_minutes.pdf</td>\n",
       "    </tr>\n",
       "    <tr>\n",
       "      <th>43</th>\n",
       "      <td>2018-02-06</td>\n",
       "      <td>/files/2.6.18_minutes.pdf</td>\n",
       "    </tr>\n",
       "    <tr>\n",
       "      <th>44</th>\n",
       "      <td>2018-01-16</td>\n",
       "      <td>/files/january_16,_2018_minutes.pdf</td>\n",
       "    </tr>\n",
       "    <tr>\n",
       "      <th>45</th>\n",
       "      <td>NaT</td>\n",
       "      <td>/files/2.6.18_minutes.pdf</td>\n",
       "    </tr>\n",
       "    <tr>\n",
       "      <th>49</th>\n",
       "      <td>2017-01-05</td>\n",
       "      <td>/files/1.5.17_minutes.pdf</td>\n",
       "    </tr>\n",
       "    <tr>\n",
       "      <th>50</th>\n",
       "      <td>2017-01-26</td>\n",
       "      <td>/files/1.26.17_minutes.pdf</td>\n",
       "    </tr>\n",
       "    <tr>\n",
       "      <th>51</th>\n",
       "      <td>2017-02-02</td>\n",
       "      <td>/files/2.2.17_minutes.pdf</td>\n",
       "    </tr>\n",
       "    <tr>\n",
       "      <th>52</th>\n",
       "      <td>2017-02-16</td>\n",
       "      <td>/files/2.16.17_minutes.pdf</td>\n",
       "    </tr>\n",
       "    <tr>\n",
       "      <th>53</th>\n",
       "      <td>2017-03-02</td>\n",
       "      <td>/files/3.2.17__minutes.pdf</td>\n",
       "    </tr>\n",
       "    <tr>\n",
       "      <th>54</th>\n",
       "      <td>2017-03-16</td>\n",
       "      <td>/files/3.16.17_minutes.pdf</td>\n",
       "    </tr>\n",
       "    <tr>\n",
       "      <th>55</th>\n",
       "      <td>2017-04-12</td>\n",
       "      <td>/files/4.12.17_minutes.pdf</td>\n",
       "    </tr>\n",
       "    <tr>\n",
       "      <th>56</th>\n",
       "      <td>2017-05-01</td>\n",
       "      <td>/files/5.1.17_Minutes.pdf</td>\n",
       "    </tr>\n",
       "    <tr>\n",
       "      <th>57</th>\n",
       "      <td>2017-05-04</td>\n",
       "      <td>/files/5.4.17_minutes.pdf</td>\n",
       "    </tr>\n",
       "  </tbody>\n",
       "</table>\n",
       "</div>"
      ],
      "text/plain": [
       "          Date                                 Link\n",
       "0   2019-06-04            /files/6.4.19_minutes.pdf\n",
       "1   2019-05-28           /files/5.28.19_minutes.pdf\n",
       "3   2019-05-07            /files/5.7.19_minutes.pdf\n",
       "4   2019-04-23           /files/4.23.19_minutes.pdf\n",
       "5   2019-04-08            /files/4.8.19_minutes.pdf\n",
       "6   2019-03-19            /files/3.5.19_minutes.pdf\n",
       "7   2019-03-05                    /files/3.5.19.pdf\n",
       "8   2019-02-26           /files/2.26.19_minutes.pdf\n",
       "9   2019-02-05            /files/2.5.19_minutes.pdf\n",
       "10  2019-01-22        /files/January_22_minutes.pdf\n",
       "11  2019-01-08         /files/January_8_minutes.pdf\n",
       "14  2018-12-20          /files/12.20.18_minutes.pdf\n",
       "15  2018-12-04           /files/12.4.18_minutes.pdf\n",
       "16  2018-11-20                  /files/11.20.18.pdf\n",
       "19  2018-09-25           /files/9.25.18_minutes.pdf\n",
       "20  2018-09-13           /files/9.13.18_minutes.pdf\n",
       "21  2018-09-04                    /files/9.4.18.pdf\n",
       "22  2018-08-21           /files/8.21.18_minutes.pdf\n",
       "23  2018-08-07            /files/8.7.18_minutes.pdf\n",
       "24  2018-07-24           /files/7.24.18_minutes.pdf\n",
       "25  2018-07-10           /files/7.10.18_minutes.pdf\n",
       "26  2018-06-28                   /files/6.28.18.pdf\n",
       "27  2018-06-22           /files/6.22.18_minutes.pdf\n",
       "28  2018-06-21                   /files/6.21.18.pdf\n",
       "29  2108-06-19           /files/6.19.18_minutes.pdf\n",
       "31  2018-05-29           /files/5.29.18_minutes.pdf\n",
       "35  2018-04-17                   /files/4.17.18.pdf\n",
       "36  2018-04-02     /files/april_2,_2018_minutes.pdf\n",
       "40  2018-03-08                    /files/3.8.18.pdf\n",
       "41  2018-03-06     /files/march_6,_2018_minutes.pdf\n",
       "42  2018-02-20      /files/feb_20,_2108_minutes.pdf\n",
       "43  2018-02-06            /files/2.6.18_minutes.pdf\n",
       "44  2018-01-16  /files/january_16,_2018_minutes.pdf\n",
       "45         NaT            /files/2.6.18_minutes.pdf\n",
       "49  2017-01-05            /files/1.5.17_minutes.pdf\n",
       "50  2017-01-26           /files/1.26.17_minutes.pdf\n",
       "51  2017-02-02            /files/2.2.17_minutes.pdf\n",
       "52  2017-02-16           /files/2.16.17_minutes.pdf\n",
       "53  2017-03-02           /files/3.2.17__minutes.pdf\n",
       "54  2017-03-16           /files/3.16.17_minutes.pdf\n",
       "55  2017-04-12           /files/4.12.17_minutes.pdf\n",
       "56  2017-05-01            /files/5.1.17_Minutes.pdf\n",
       "57  2017-05-04            /files/5.4.17_minutes.pdf"
      ]
     },
     "execution_count": 9,
     "metadata": {},
     "output_type": "execute_result"
    }
   ],
   "source": [
    "df"
   ]
  },
  {
   "cell_type": "code",
   "execution_count": 10,
   "metadata": {},
   "outputs": [
    {
     "data": {
      "text/plain": [
       "(43, 2)"
      ]
     },
     "execution_count": 10,
     "metadata": {},
     "output_type": "execute_result"
    }
   ],
   "source": [
    "df.shape"
   ]
  },
  {
   "cell_type": "code",
   "execution_count": 11,
   "metadata": {},
   "outputs": [],
   "source": [
    "#df.to_csv(\"minutes.csv\", index=False)"
   ]
  },
  {
   "cell_type": "code",
   "execution_count": 13,
   "metadata": {},
   "outputs": [],
   "source": [
    "for urls in df['Link']:\n",
    "    link = 'http://www.mineral.k12.nv.us' + urls\n",
    "    book_name = \"/Users/suhailbhat/desktop/2018pdfs/\" + link.split('/')[-1]\n",
    "    with open(book_name, 'wb') as book:\n",
    "        a = requests.get(link, stream=True)\n",
    "\n",
    "        for block in a.iter_content(512):\n",
    "            if not block:\n",
    "                break\n",
    "\n",
    "            book.write(block)"
   ]
  },
  {
   "cell_type": "code",
   "execution_count": 14,
   "metadata": {},
   "outputs": [
    {
     "data": {
      "text/plain": [
       "['6.4.19_minutes.pdf',\n",
       " '5.28.19_minutes.pdf',\n",
       " '5.7.19_minutes.pdf',\n",
       " '4.23.19_minutes.pdf',\n",
       " '4.8.19_minutes.pdf',\n",
       " '3.5.19_minutes.pdf',\n",
       " '3.5.19.pdf',\n",
       " '2.26.19_minutes.pdf',\n",
       " '2.5.19_minutes.pdf',\n",
       " 'January_22_minutes.pdf',\n",
       " 'January_8_minutes.pdf',\n",
       " '12.20.18_minutes.pdf',\n",
       " '12.4.18_minutes.pdf',\n",
       " '11.20.18.pdf',\n",
       " '9.25.18_minutes.pdf',\n",
       " '9.13.18_minutes.pdf',\n",
       " '9.4.18.pdf',\n",
       " '8.21.18_minutes.pdf',\n",
       " '8.7.18_minutes.pdf',\n",
       " '7.24.18_minutes.pdf',\n",
       " '7.10.18_minutes.pdf',\n",
       " '6.28.18.pdf',\n",
       " '6.22.18_minutes.pdf',\n",
       " '6.21.18.pdf',\n",
       " '6.19.18_minutes.pdf',\n",
       " '5.29.18_minutes.pdf',\n",
       " '4.17.18.pdf',\n",
       " 'april_2,_2018_minutes.pdf',\n",
       " '3.8.18.pdf',\n",
       " 'march_6,_2018_minutes.pdf',\n",
       " 'feb_20,_2108_minutes.pdf',\n",
       " '2.6.18_minutes.pdf',\n",
       " 'january_16,_2018_minutes.pdf',\n",
       " '2.6.18_minutes.pdf',\n",
       " '1.5.17_minutes.pdf',\n",
       " '1.26.17_minutes.pdf',\n",
       " '2.2.17_minutes.pdf',\n",
       " '2.16.17_minutes.pdf',\n",
       " '3.2.17__minutes.pdf',\n",
       " '3.16.17_minutes.pdf',\n",
       " '4.12.17_minutes.pdf',\n",
       " '5.1.17_Minutes.pdf',\n",
       " '5.4.17_minutes.pdf']"
      ]
     },
     "execution_count": 14,
     "metadata": {},
     "output_type": "execute_result"
    }
   ],
   "source": [
    "pdf_names = [url.split('/')[-1] for url in df['Link']]\n",
    "pdf_names"
   ]
  },
  {
   "cell_type": "code",
   "execution_count": 15,
   "metadata": {},
   "outputs": [],
   "source": [
    "import os\n",
    "def pdf_to_text(name):\n",
    "    folder = \"/Users/suhailbhat/desktop/2018pdfs/\"\n",
    "    input1 = folder + name\n",
    "    txt_name = name.replace(\".pdf\",\".txt\")\n",
    "    output1 = folder + txt_name\n",
    "    os.system(\"pdftotext '%s' '%s'\" % (input1, output1))"
   ]
  },
  {
   "cell_type": "code",
   "execution_count": 16,
   "metadata": {},
   "outputs": [],
   "source": [
    "for pdf_file in pdf_names:\n",
    "    pdf_to_text(pdf_file)"
   ]
  },
  {
   "cell_type": "code",
   "execution_count": 17,
   "metadata": {},
   "outputs": [],
   "source": [
    "f = open('/Users/suhailbhat/desktop/2018pdfs/2.26.19_minutes.txt', 'r')\n",
    "sample_transcript = f.read()"
   ]
  },
  {
   "cell_type": "code",
   "execution_count": 18,
   "metadata": {},
   "outputs": [
    {
     "data": {
      "text/plain": [
       "'\\x0c\\x0c\\x0c'"
      ]
     },
     "execution_count": 18,
     "metadata": {},
     "output_type": "execute_result"
    }
   ],
   "source": [
    "sample_transcript"
   ]
  },
  {
   "cell_type": "code",
   "execution_count": null,
   "metadata": {},
   "outputs": [],
   "source": []
  }
 ],
 "metadata": {
  "kernelspec": {
   "display_name": "Python 3",
   "language": "python",
   "name": "python3"
  },
  "language_info": {
   "codemirror_mode": {
    "name": "ipython",
    "version": 3
   },
   "file_extension": ".py",
   "mimetype": "text/x-python",
   "name": "python",
   "nbconvert_exporter": "python",
   "pygments_lexer": "ipython3",
   "version": "3.7.3"
  }
 },
 "nbformat": 4,
 "nbformat_minor": 2
}
