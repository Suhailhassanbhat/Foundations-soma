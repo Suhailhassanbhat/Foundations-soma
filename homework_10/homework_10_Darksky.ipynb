{
 "cells": [
  {
   "cell_type": "markdown",
   "metadata": {},
   "source": [
    "# Using APIs/Data Structures\n",
    "Using the Dark Sky Forecast API at https://developer.forecast.io/, generate a sentence that describes the weather that day.\n",
    "\n",
    "Right now it is TEMPERATURE degrees out and SUMMARY. Today will be TEMP_FEELING with a high of HIGH_TEMP and a low of LOW_TEMP. RAIN_WARNING.\n",
    "\n",
    "TEMPERATURE is the current temperature\n",
    "\n",
    "SUMMARY is what it currently looks like (partly cloudy, etc - it's \"summary\" in the dictionary). Lowercase, please.\n",
    "\n",
    "TEMP_FEELING is whether it will be hot, warm, cold, or moderate. You will probably use HIGH_TEMP and your own thoughts and feelings to determine this.\n",
    "\n",
    "HIGH_TEMP is the high temperature for the day.\n",
    "LOW_TEMP is the low temperature for the day.\n",
    "\n",
    "RAIN_WARNING is something like \"bring your umbrella!\" if it is going to rain at some point during the day.\n",
    "You can take a look at the documentation, but \"current\" contains the current conditions and the first element of \"daily\" is for the current day. But you knew that, right?!\n",
    "\n",
    "Feel free to steal your old code! I bet that trying to read it will make you depressed and teaches you the value of naming variables.\n",
    "\n",
    "Once you've accomplished that part, use Mailgun to send yourself an email every morning at 8AM telling you the sentence. The subject line of the email should be something like \"8AM Weather forecast: January 1, 1970.\"\n",
    "\n",
    "Dates are obtained by doing something like this, using http://strftime.org/ as a reference:\n",
    "\n",
    "import datetime\n",
    "right_now = datetime.datetime.now()\n",
    "date_string = right_now.strftime(\"%Y-%M\")\n",
    "\n",
    "BONUS: List the forecasted temperatures as the day goes on.\n",
    "\n",
    "BONUS: Set the timezone on your server so emails go out at the right time."
   ]
  },
  {
   "cell_type": "code",
   "execution_count": 1,
   "metadata": {},
   "outputs": [],
   "source": [
    "import requests\n",
    "import pandas as pd"
   ]
  },
  {
   "cell_type": "code",
   "execution_count": 2,
   "metadata": {},
   "outputs": [],
   "source": [
    "from dotenv import load_dotenv\n",
    "load_dotenv('/Users/suhailbhat/Desktop/foundations/Foundations-soma/env')\n",
    "import os\n",
    "\n",
    "!touch .env"
   ]
  },
  {
   "cell_type": "code",
   "execution_count": 3,
   "metadata": {},
   "outputs": [],
   "source": []
  },
  {
   "cell_type": "code",
   "execution_count": 24,
   "metadata": {},
   "outputs": [],
   "source": [
    "import os\n",
    "DARKSKY_API_KEY = os.getenv('DARKSKY_API_KEY')\n",
    "\n",
    "\n"
   ]
  },
  {
   "cell_type": "code",
   "execution_count": 28,
   "metadata": {},
   "outputs": [],
   "source": [
    "response =requests.get(f'https://api.darksky.net/forecast/{DARKSKY_API_KEY}/40,-73')\n",
    "data = response.json()\n",
    "\n"
   ]
  },
  {
   "cell_type": "code",
   "execution_count": 6,
   "metadata": {},
   "outputs": [],
   "source": [
    "TEMPERATURE = data['currently']['temperature']\n",
    "SUMMARY = data['currently']['summary'].lower()\n",
    "TEMP_FEELING = data['currently']['apparentTemperature']\n",
    "HIGH_TEMP = data['daily']['data'][0]['temperatureHigh']\n",
    "LOW_TEMP = data['daily']['data'][0]['temperatureLow']\n",
    "RAIN_WARNING = data['daily']['data'][0]['summary'].lower()\n",
    "\n",
    "if \"rain\" in \"RAIN_WARNING\":\n",
    "    RAIN_WARNING = \"Likely to rain today\"\n",
    "else:\n",
    "    RAIN_WARNING = \"Unlikely to rain today.\""
   ]
  },
  {
   "cell_type": "code",
   "execution_count": 7,
   "metadata": {},
   "outputs": [],
   "source": [
    "weather_update = f'Right now it is {TEMPERATURE} degrees out and {SUMMARY}. Today will be {TEMP_FEELING} with a high of {HIGH_TEMP} and a low of {LOW_TEMP}. {RAIN_WARNING}'"
   ]
  },
  {
   "cell_type": "code",
   "execution_count": 8,
   "metadata": {},
   "outputs": [],
   "source": [
    "import datetime\n",
    "right_now = datetime.datetime.now()\n",
    "date_string = right_now.strftime(\"%Y-%M\")"
   ]
  },
  {
   "cell_type": "code",
   "execution_count": 9,
   "metadata": {},
   "outputs": [
    {
     "data": {
      "text/plain": [
       "datetime.datetime(2019, 6, 24, 4, 0)"
      ]
     },
     "execution_count": 9,
     "metadata": {},
     "output_type": "execute_result"
    }
   ],
   "source": [
    "import datetime\n",
    "\n",
    "date = datetime.datetime.utcfromtimestamp(data['daily']['data'][0][\"time\"])\n",
    "# my_time = datetime.datetime.utcfromtimestamp(data['daily']['data'][0][\"time\"] + 3600 * 4) \n",
    "my_time = data['daily']['data'][0][\"time\"] + 3600 * 4\n",
    "my_time\n",
    "date"
   ]
  },
  {
   "cell_type": "code",
   "execution_count": 27,
   "metadata": {},
   "outputs": [],
   "source": [
    "response = requests.get(f'https://api.darksky.net/forecast/{DARKSKY_API_KEY}/40,-73,{my_time}')\n",
    "data2 = response.json()\n",
    "\n"
   ]
  },
  {
   "cell_type": "code",
   "execution_count": 11,
   "metadata": {},
   "outputs": [],
   "source": [
    "hour_list = []\n",
    "\n",
    "for hour in data2['hourly']['data'][4:21]:\n",
    "    hour_dic = {}\n",
    "    \n",
    "    hour_dic[\"time\"] = datetime.datetime.utcfromtimestamp(hour[\"time\"]).strftime(\"%H:%M\")\n",
    "    hour_dic[\"Temperature\"] = hour['temperature']\n",
    "    hour_dic[\"summary\"] = hour[\"summary\"]\n",
    "    \n",
    "    \n",
    "    hour_list.append(hour_dic)\n",
    "    \n",
    "    "
   ]
  },
  {
   "cell_type": "code",
   "execution_count": 12,
   "metadata": {},
   "outputs": [],
   "source": [
    "df = pd.DataFrame(hour_list)\n",
    "hourly_weather = df[[\"time\", \"Temperature\", \"summary\"]]\n",
    "hourly_weather.to_csv(\"hourly_weather.csv\", index = False)"
   ]
  },
  {
   "cell_type": "code",
   "execution_count": 13,
   "metadata": {},
   "outputs": [
    {
     "data": {
      "text/plain": [
       "'Right now it is 68.6 degrees out and partly cloudy. Today will be 69.39 with a high of 69.57 and a low of 68.44. Unlikely to rain today.'"
      ]
     },
     "execution_count": 13,
     "metadata": {},
     "output_type": "execute_result"
    }
   ],
   "source": [
    "weather_update = f'Right now it is {TEMPERATURE} degrees out and {SUMMARY}. Today will be {TEMP_FEELING} with a high of {HIGH_TEMP} and a low of {LOW_TEMP}. {RAIN_WARNING}'\n",
    "weather_update"
   ]
  },
  {
   "cell_type": "code",
   "execution_count": 22,
   "metadata": {},
   "outputs": [],
   "source": [
    "subject_line = f'8 AM Weather forecast: {date.strftime(\"%B\")} {date.day}, {date.year}'"
   ]
  },
  {
   "cell_type": "code",
   "execution_count": 15,
   "metadata": {},
   "outputs": [
    {
     "name": "stdout",
     "output_type": "stream",
     "text": [
      "Right now it is 68.6 degrees out and partly cloudy. Today will be 69.39 with a high of 69.57 and a low of 68.44. Unlikely to rain today.\n",
      "     time  Temperature        summary\n",
      "0   08:00        67.97          Clear\n",
      "1   09:00        67.95          Clear\n",
      "2   10:00        68.01  Partly Cloudy\n",
      "3   11:00        68.01  Partly Cloudy\n",
      "4   12:00        68.24          Clear\n",
      "5   13:00        68.41  Partly Cloudy\n",
      "6   14:00        69.01          Clear\n",
      "7   15:00        68.92  Partly Cloudy\n",
      "8   16:00        69.06  Partly Cloudy\n",
      "9   17:00        68.90  Partly Cloudy\n",
      "10  18:00        69.06  Partly Cloudy\n",
      "11  19:00        69.32  Partly Cloudy\n",
      "12  20:00        69.57  Partly Cloudy\n",
      "13  21:00        69.57  Partly Cloudy\n",
      "14  22:00        69.51  Mostly Cloudy\n",
      "15  23:00        69.50  Mostly Cloudy\n",
      "16  00:00        69.42  Partly Cloudy\n"
     ]
    }
   ],
   "source": [
    "print(weather_update)\n",
    "print(hourly_weather)"
   ]
  },
  {
   "cell_type": "code",
   "execution_count": 26,
   "metadata": {},
   "outputs": [],
   "source": [
    "from dotenv import load_dotenv\n",
    "load_dotenv('/Users/suhailbhat/Desktop/foundations/Foundations-soma/env')\n",
    "import os\n",
    "\n",
    "!touch .env\n",
    "import os\n",
    "\n",
    "MAILGUN_KEY = os.getenv('MAILGUN_KEY')\n"
   ]
  },
  {
   "cell_type": "code",
   "execution_count": null,
   "metadata": {},
   "outputs": [],
   "source": [
    "# requests.post(\n",
    "#     \"https://api.mailgun.net/v3/sandbox92a9a7d9e58b463a85fc7b230ecafe08/messages\",\n",
    "#     auth=(\"api\", MAILGUN_KEY),\n",
    "#     files=[(\"attachment\")]\n",
    "#     data={\"from\": \"Excited User <mailgun@sandbox92a9a7d9e58b463a85fc7b230ecafe08>\",\n",
    "#             \"to\": [\"shb2145@columbia.edu\"],\n",
    "#             \"subject\": \"subject_line\",\n",
    "#             \"text\": \"weather_update\"})"
   ]
  },
  {
   "cell_type": "code",
   "execution_count": null,
   "metadata": {},
   "outputs": [],
   "source": [
    " "
   ]
  }
 ],
 "metadata": {
  "kernelspec": {
   "display_name": "Python 3",
   "language": "python",
   "name": "python3"
  },
  "language_info": {
   "codemirror_mode": {
    "name": "ipython",
    "version": 3
   },
   "file_extension": ".py",
   "mimetype": "text/x-python",
   "name": "python",
   "nbconvert_exporter": "python",
   "pygments_lexer": "ipython3",
   "version": "3.7.3"
  }
 },
 "nbformat": 4,
 "nbformat_minor": 2
}
