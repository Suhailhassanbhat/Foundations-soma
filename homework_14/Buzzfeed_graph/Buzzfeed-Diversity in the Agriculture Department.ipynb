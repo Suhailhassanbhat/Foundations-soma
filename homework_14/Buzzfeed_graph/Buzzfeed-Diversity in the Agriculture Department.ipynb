{
 "cells": [
  {
   "cell_type": "code",
   "execution_count": 1,
   "metadata": {},
   "outputs": [],
   "source": [
    "import pandas as pd\n",
    "import seaborn as sns\n",
    "import matplotlib\n",
    "import matplotlib.pyplot as plt\n",
    "\n",
    "matplotlib.rcParams['pdf.fonttype'] = 42"
   ]
  },
  {
   "cell_type": "code",
   "execution_count": 76,
   "metadata": {},
   "outputs": [
    {
     "data": {
      "text/html": [
       "<div>\n",
       "<style scoped>\n",
       "    .dataframe tbody tr th:only-of-type {\n",
       "        vertical-align: middle;\n",
       "    }\n",
       "\n",
       "    .dataframe tbody tr th {\n",
       "        vertical-align: top;\n",
       "    }\n",
       "\n",
       "    .dataframe thead th {\n",
       "        text-align: right;\n",
       "    }\n",
       "</style>\n",
       "<table border=\"1\" class=\"dataframe\">\n",
       "  <thead>\n",
       "    <tr style=\"text-align: right;\">\n",
       "      <th></th>\n",
       "      <th>quarter</th>\n",
       "      <th>toa_group</th>\n",
       "      <th>count_all</th>\n",
       "      <th>count_minority</th>\n",
       "      <th>pct_minority</th>\n",
       "    </tr>\n",
       "  </thead>\n",
       "  <tbody>\n",
       "    <tr>\n",
       "      <th>0</th>\n",
       "      <td>2006-09</td>\n",
       "      <td>all-permanent</td>\n",
       "      <td>1608157</td>\n",
       "      <td>521323</td>\n",
       "      <td>32.417419</td>\n",
       "    </tr>\n",
       "    <tr>\n",
       "      <th>1</th>\n",
       "      <td>2006-09</td>\n",
       "      <td>midlevel-appointees</td>\n",
       "      <td>2246</td>\n",
       "      <td>268</td>\n",
       "      <td>11.932324</td>\n",
       "    </tr>\n",
       "    <tr>\n",
       "      <th>2</th>\n",
       "      <td>2007-09</td>\n",
       "      <td>all-permanent</td>\n",
       "      <td>1618159</td>\n",
       "      <td>532756</td>\n",
       "      <td>32.923588</td>\n",
       "    </tr>\n",
       "    <tr>\n",
       "      <th>3</th>\n",
       "      <td>2007-09</td>\n",
       "      <td>midlevel-appointees</td>\n",
       "      <td>2315</td>\n",
       "      <td>259</td>\n",
       "      <td>11.187905</td>\n",
       "    </tr>\n",
       "    <tr>\n",
       "      <th>4</th>\n",
       "      <td>2008-09</td>\n",
       "      <td>all-permanent</td>\n",
       "      <td>1673249</td>\n",
       "      <td>560098</td>\n",
       "      <td>33.473679</td>\n",
       "    </tr>\n",
       "  </tbody>\n",
       "</table>\n",
       "</div>"
      ],
      "text/plain": [
       "   quarter            toa_group  count_all  count_minority  pct_minority\n",
       "0  2006-09        all-permanent    1608157          521323     32.417419\n",
       "1  2006-09  midlevel-appointees       2246             268     11.932324\n",
       "2  2007-09        all-permanent    1618159          532756     32.923588\n",
       "3  2007-09  midlevel-appointees       2315             259     11.187905\n",
       "4  2008-09        all-permanent    1673249          560098     33.473679"
      ]
     },
     "execution_count": 76,
     "metadata": {},
     "output_type": "execute_result"
    }
   ],
   "source": [
    "df = pd.read_csv(\"diversity-by-quarter.csv\")\n",
    "df.head()"
   ]
  },
  {
   "cell_type": "code",
   "execution_count": 14,
   "metadata": {},
   "outputs": [
    {
     "data": {
      "text/html": [
       "<div>\n",
       "<style scoped>\n",
       "    .dataframe tbody tr th:only-of-type {\n",
       "        vertical-align: middle;\n",
       "    }\n",
       "\n",
       "    .dataframe tbody tr th {\n",
       "        vertical-align: top;\n",
       "    }\n",
       "\n",
       "    .dataframe thead th {\n",
       "        text-align: right;\n",
       "    }\n",
       "</style>\n",
       "<table border=\"1\" class=\"dataframe\">\n",
       "  <thead>\n",
       "    <tr style=\"text-align: right;\">\n",
       "      <th></th>\n",
       "      <th>quarter</th>\n",
       "      <th>toa_group</th>\n",
       "      <th>count_all</th>\n",
       "      <th>count_minority</th>\n",
       "      <th>pct_minority</th>\n",
       "    </tr>\n",
       "  </thead>\n",
       "  <tbody>\n",
       "    <tr>\n",
       "      <th>0</th>\n",
       "      <td>2006-09</td>\n",
       "      <td>all-permanent</td>\n",
       "      <td>1608157</td>\n",
       "      <td>521323</td>\n",
       "      <td>32.417419</td>\n",
       "    </tr>\n",
       "    <tr>\n",
       "      <th>2</th>\n",
       "      <td>2007-09</td>\n",
       "      <td>all-permanent</td>\n",
       "      <td>1618159</td>\n",
       "      <td>532756</td>\n",
       "      <td>32.923588</td>\n",
       "    </tr>\n",
       "    <tr>\n",
       "      <th>4</th>\n",
       "      <td>2008-09</td>\n",
       "      <td>all-permanent</td>\n",
       "      <td>1673249</td>\n",
       "      <td>560098</td>\n",
       "      <td>33.473679</td>\n",
       "    </tr>\n",
       "    <tr>\n",
       "      <th>6</th>\n",
       "      <td>2009-09</td>\n",
       "      <td>all-permanent</td>\n",
       "      <td>1757105</td>\n",
       "      <td>590216</td>\n",
       "      <td>33.590252</td>\n",
       "    </tr>\n",
       "    <tr>\n",
       "      <th>8</th>\n",
       "      <td>2009-12</td>\n",
       "      <td>all-permanent</td>\n",
       "      <td>1777356</td>\n",
       "      <td>596118</td>\n",
       "      <td>33.539595</td>\n",
       "    </tr>\n",
       "  </tbody>\n",
       "</table>\n",
       "</div>"
      ],
      "text/plain": [
       "   quarter      toa_group  count_all  count_minority  pct_minority\n",
       "0  2006-09  all-permanent    1608157          521323     32.417419\n",
       "2  2007-09  all-permanent    1618159          532756     32.923588\n",
       "4  2008-09  all-permanent    1673249          560098     33.473679\n",
       "6  2009-09  all-permanent    1757105          590216     33.590252\n",
       "8  2009-12  all-permanent    1777356          596118     33.539595"
      ]
     },
     "execution_count": 14,
     "metadata": {},
     "output_type": "execute_result"
    }
   ],
   "source": [
    "df1 = df[df['toa_group'] == 'all-permanent']\n",
    "df1.head()"
   ]
  },
  {
   "cell_type": "code",
   "execution_count": 73,
   "metadata": {},
   "outputs": [
    {
     "data": {
      "text/plain": [
       "Text(0.5, 1.0, '% of Fed. Employees Identifying as Racial/Ethnic Minority')"
      ]
     },
     "execution_count": 73,
     "metadata": {},
     "output_type": "execute_result"
    },
    {
     "data": {
      "image/png": "[encoded data removed]",
      "text/plain": [
       "<Figure size 720x360 with 1 Axes>"
      ]
     },
     "metadata": {
      "needs_background": "light"
     },
     "output_type": "display_data"
    }
   ],
   "source": [
    "ax = df1.plot(x='quarter', y ='pct_minority', yticks=[10,20,30,40,50], color='black', figsize=(10,5),legend=None)\n",
    "df[df.toa_group == 'midlevel-appointees'].plot(ax=ax,\n",
    "                               x='quarter', y ='pct_minority', \n",
    "                                yticks=[10,20,30,40,50], color='red', \n",
    "                                legend=None).set_title(\"% of Fed. Employees Identifying as Racial/Ethnic Minority\")"
   ]
  },
  {
   "cell_type": "code",
   "execution_count": 159,
   "metadata": {},
   "outputs": [],
   "source": [
    "df = pd.read_csv(\"gender-by-quarter.csv\")\n"
   ]
  },
  {
   "cell_type": "code",
   "execution_count": 84,
   "metadata": {},
   "outputs": [
    {
     "data": {
      "text/plain": [
       "Text(0.5, 1.0, '% of Federal Employees Identifying as Female')"
      ]
     },
     "execution_count": 84,
     "metadata": {},
     "output_type": "execute_result"
    },
    {
     "data": {
      "image/png": "[encoded data removed]",
      "text/plain": [
       "<Figure size 720x360 with 1 Axes>"
      ]
     },
     "metadata": {
      "needs_background": "light"
     },
     "output_type": "display_data"
    }
   ],
   "source": [
    "df1 = df[df['toa_group'] == 'all-permanent']\n",
    "ax = df1.plot(x='quarter', y ='pct_female', yticks=[10,20,30,40,50], color='black', figsize=(10,5),legend=None)\n",
    "df[df.toa_group == 'midlevel-appointees'].plot(ax=ax,\n",
    "                               x='quarter', y ='pct_female', \n",
    "                                yticks=[10,20,30,40,50], color='red', \n",
    "                                legend=None).set_title(\"% of Federal Employees Identifying as Female\")"
   ]
  },
  {
   "cell_type": "code",
   "execution_count": null,
   "metadata": {},
   "outputs": [],
   "source": []
  }
 ],
 "metadata": {
  "kernelspec": {
   "display_name": "Python 3",
   "language": "python",
   "name": "python3"
  },
  "language_info": {
   "codemirror_mode": {
    "name": "ipython",
    "version": 3
   },
   "file_extension": ".py",
   "mimetype": "text/x-python",
   "name": "python",
   "nbconvert_exporter": "python",
   "pygments_lexer": "ipython3",
   "version": "3.7.3"
  }
 },
 "nbformat": 4,
 "nbformat_minor": 2
}
